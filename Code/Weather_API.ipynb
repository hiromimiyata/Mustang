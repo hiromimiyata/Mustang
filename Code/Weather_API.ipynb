{
 "cells": [
  {
   "cell_type": "code",
   "execution_count": 17,
   "metadata": {},
   "outputs": [],
   "source": [
    "# Dependencies\n",
    "import matplotlib.pyplot as plt\n",
    "import requests\n",
    "import pandas as pd\n",
    "from config import api_key\n",
    "import json"
   ]
  },
  {
   "cell_type": "code",
   "execution_count": 3,
   "metadata": {},
   "outputs": [
    {
     "data": {
      "text/html": [
       "<div>\n",
       "<style scoped>\n",
       "    .dataframe tbody tr th:only-of-type {\n",
       "        vertical-align: middle;\n",
       "    }\n",
       "\n",
       "    .dataframe tbody tr th {\n",
       "        vertical-align: top;\n",
       "    }\n",
       "\n",
       "    .dataframe thead th {\n",
       "        text-align: right;\n",
       "    }\n",
       "</style>\n",
       "<table border=\"1\" class=\"dataframe\">\n",
       "  <thead>\n",
       "    <tr style=\"text-align: right;\">\n",
       "      <th></th>\n",
       "      <th>City</th>\n",
       "      <th>Country</th>\n",
       "      <th>Latitude</th>\n",
       "      <th>Longitude</th>\n",
       "    </tr>\n",
       "  </thead>\n",
       "  <tbody>\n",
       "    <tr>\n",
       "      <th>0</th>\n",
       "      <td>Fakenham</td>\n",
       "      <td>United Kingdom</td>\n",
       "      <td>52.829919</td>\n",
       "      <td>0.847732</td>\n",
       "    </tr>\n",
       "    <tr>\n",
       "      <th>1</th>\n",
       "      <td>Cheltenham</td>\n",
       "      <td>United Kingdom</td>\n",
       "      <td>51.899569</td>\n",
       "      <td>-2.071156</td>\n",
       "    </tr>\n",
       "    <tr>\n",
       "      <th>2</th>\n",
       "      <td>Tramore</td>\n",
       "      <td>United States</td>\n",
       "      <td>29.670858</td>\n",
       "      <td>-98.492054</td>\n",
       "    </tr>\n",
       "    <tr>\n",
       "      <th>3</th>\n",
       "      <td>Fairyhouse</td>\n",
       "      <td>Ireland</td>\n",
       "      <td>53.499974</td>\n",
       "      <td>-6.468569</td>\n",
       "    </tr>\n",
       "    <tr>\n",
       "      <th>4</th>\n",
       "      <td>Southwell</td>\n",
       "      <td>United Kingdom</td>\n",
       "      <td>50.532890</td>\n",
       "      <td>-2.446753</td>\n",
       "    </tr>\n",
       "  </tbody>\n",
       "</table>\n",
       "</div>"
      ],
      "text/plain": [
       "         City         Country   Latitude  Longitude\n",
       "0    Fakenham  United Kingdom  52.829919   0.847732\n",
       "1  Cheltenham  United Kingdom  51.899569  -2.071156\n",
       "2     Tramore   United States  29.670858 -98.492054\n",
       "3  Fairyhouse         Ireland  53.499974  -6.468569\n",
       "4   Southwell  United Kingdom  50.532890  -2.446753"
      ]
     },
     "execution_count": 3,
     "metadata": {},
     "output_type": "execute_result"
    }
   ],
   "source": [
    "# Import city location data\n",
    "df = pd.read_csv(r\"C:\\Users\\vidul\\Documents\\UCB Bootcamp Files\\Projects\\Project 4\\Mustang\\Resources\\city_coordinates.csv\")\n",
    "df.head()"
   ]
  },
  {
   "cell_type": "code",
   "execution_count": 126,
   "metadata": {},
   "outputs": [
    {
     "data": {
      "text/plain": [
       "array(['Fakenham', 'Cheltenham', 'Tramore', 'Fairyhouse', 'Southwell',\n",
       "       'Musselburgh', 'Ellerslie', 'Santa Anita', 'Sha Tin', 'Catterick',\n",
       "       'Exeter', 'Flemington', 'Meydan', 'Lingfield', 'Chelmsford', 'Ayr',\n",
       "       'Deauville', 'Hereford', 'Wolverhampton', 'Dundalk', 'Kempton',\n",
       "       'Cork', 'Sandown', 'Ascot', 'Gulfstream Park', 'Wincanton',\n",
       "       'Newcastle', 'Naas', 'Plumpton', 'Nakayama', 'Kyoto', 'Chepstow',\n",
       "       'Maronas', 'Taunton', 'Happy Valley', 'Ludlow', 'Chantilly',\n",
       "       'Clonmel', 'Thurles', 'Sedgefield', 'Kenilworth', 'Warwick',\n",
       "       'Wetherby', 'Trentham', 'Punchestown', 'Kelso', 'Cagnes-Sur-Mer',\n",
       "       'Doncaster', 'Newbury', 'Market Rasen', 'Haydock', 'Aqueduct',\n",
       "       'Navan', 'Fair Grounds', 'Kokura', 'Gowran Park', 'Huntingdon',\n",
       "       'Jebel Ali', 'Moonee Valley', 'Uttoxeter', 'Caulfield',\n",
       "       'Sam Houston', 'Fontwell', 'Down Royal', 'Leicester', 'Ffos Las',\n",
       "       'Limerick', 'Leopardstown', 'Randwick', 'Oaklawn Park',\n",
       "       'St Moritz', 'Valparaiso Sporting Club', 'Tokyo', 'Carlisle',\n",
       "       'Bangor-on-Dee', 'Tampa Bay Downs', 'Te Rapa', 'Gavea', 'Hobart',\n",
       "       'Warwick Farm', 'Laurel Park', 'Otaki', 'Rosehill', 'Auteuil',\n",
       "       'Launceston', 'Morphettville', 'Riyadh', 'Armidale', 'Hanshin',\n",
       "       'Compiegne', 'Turffontein Standside', 'Canberra', 'Stratford',\n",
       "       'Kembla Grange', 'Chukyo', 'San Isidro', 'Turfway Park',\n",
       "       'Saint-Cloud', 'Wexford', 'Greyville', 'Golden Gate Fields',\n",
       "       'Turffontein Inside', 'Fairview', 'Durbanville', 'Downpatrick',\n",
       "       'Flamingo Park', 'Will Rogers Downs', 'Vaal', 'Wellington',\n",
       "       'Gold Coast', 'Ipswich', 'Wagga Wagga', 'Fukushima', 'Fonner Park',\n",
       "       'Balaklava', 'Hanover', 'Cologne', 'Doomben', 'Hoppegarten',\n",
       "       'Longchamp', 'Toulouse', 'Marseille Pont-de-Vivaux', 'Angers',\n",
       "       'Lyon Parilly', 'Strasbourg', 'Vichy', 'Marseille Borely',\n",
       "       'La Teste De Buch', \"Le Lion-D'Angers\", 'Dieppe', 'Baden-Baden',\n",
       "       'Bordeaux Le Bouscat', 'Churchill Downs', 'Eagle Farm', 'Jagersro',\n",
       "       'Chateaubriant', 'Pau', 'Clairefontaine', 'Moulins',\n",
       "       'Cidade Jardim', 'Fort Erie', 'Nantes', 'Yarmouth', 'Belmont Park',\n",
       "       'Newmarket', 'San Siro', 'Tarbes', 'Thistledown', 'Pontefract',\n",
       "       'Beverley', 'Craon', 'Curragh', 'Dresden', 'Goodwood',\n",
       "       'Capannelle', 'Roscommon', 'Thirsk', 'Windsor', 'Dax', 'Redcar',\n",
       "       'Tipperary', 'Ripon', 'Dortmund', 'Dusseldorf', 'Hakodate',\n",
       "       'Delaware Park', 'Le Croise-Laroche', 'Hamilton', 'Bath',\n",
       "       'Kilbeggan', 'Bellewstown', 'Sligo', 'Epsom', 'Los Alamitos',\n",
       "       'Scottsville', 'Woodbine', 'Prairie Meadows', 'Killarney',\n",
       "       'Newton Abbot', 'York', 'Indiana Grand', 'Hamburg', 'Keeneland',\n",
       "       'Salisbury', 'Sunshine Coast', 'Saratoga', 'Monmouth Park',\n",
       "       'Ballinrobe', 'Perth', 'Charles town', 'Cartmel', 'Del Mar',\n",
       "       'Ellis Park', 'Munich', 'Niigata', 'Galway', 'Vittel', 'Sapporo',\n",
       "       'Pornichet-La Baule', 'Arlington Park', 'Chester', 'Le Touquet',\n",
       "       'San Sebastian', 'Ovrevoll', 'Hexham', 'Evreux', 'Wyong',\n",
       "       'Kentucky Downs', 'Belterra Park', 'Emerald Downs', 'Palermo',\n",
       "       'Cholet', 'Fontainebleau', 'Hastings', 'Listowel', 'Bro Park',\n",
       "       'Argentan', 'Nottingham', 'Remington Park', 'Century Mile',\n",
       "       'Pimlico', 'Club Hipico de Santiago', 'La Zarzuela',\n",
       "       'Gulfstream Park West', 'Ankara', 'Hipodromo Chile', 'Geelong',\n",
       "       'Aintree', 'Veliefendi', 'Bendigo', 'Riccarton Park', 'Krefeld',\n",
       "       'La Plata', 'Mountaineer Park'], dtype=object)"
      ]
     },
     "execution_count": 126,
     "metadata": {},
     "output_type": "execute_result"
    }
   ],
   "source": [
    "df[\"City\"].unique()"
   ]
  },
  {
   "cell_type": "code",
   "execution_count": 4,
   "metadata": {},
   "outputs": [
    {
     "name": "stdout",
     "output_type": "stream",
     "text": [
      "There are 234 cities in the horse racing circuit.\n"
     ]
    }
   ],
   "source": [
    "# Count number of cities \n",
    "\n",
    "number_of_cities = df.City.unique()\n",
    "print(f\"There are {len(number_of_cities)} cities in the horse racing circuit.\")"
   ]
  },
  {
   "cell_type": "code",
   "execution_count": 33,
   "metadata": {},
   "outputs": [],
   "source": [
    "# Function to find city coordinates \n",
    "\n",
    "def find_coordinates(city):\n",
    "    coordinates = df.loc[df[\"City\"] == city, [\"Latitude\", \"Longitude\"]]\n",
    "    lat = coordinates.iloc[0, 0]\n",
    "    lon = coordinates.iloc[0, 1]\n",
    "    lat = str(lat)\n",
    "    lon = str(lon)\n",
    "    return lat, lon"
   ]
  },
  {
   "cell_type": "code",
   "execution_count": 47,
   "metadata": {},
   "outputs": [
    {
     "data": {
      "text/plain": [
       "('35.6812665', '139.757653')"
      ]
     },
     "execution_count": 47,
     "metadata": {},
     "output_type": "execute_result"
    }
   ],
   "source": [
    "find_coordinates(\"Tokyo\")"
   ]
  },
  {
   "cell_type": "code",
   "execution_count": 127,
   "metadata": {},
   "outputs": [
    {
     "data": {
      "text/plain": [
       "('-28.0023731', '153.4145987')"
      ]
     },
     "execution_count": 127,
     "metadata": {},
     "output_type": "execute_result"
    }
   ],
   "source": [
    "find_coordinates(\"Gold Coast\")"
   ]
  },
  {
   "cell_type": "code",
   "execution_count": 45,
   "metadata": {},
   "outputs": [],
   "source": [
    "# Function to build API query url \n",
    "\n",
    "def URL(city, day, month):\n",
    "\n",
    "    url = \"http://history.openweathermap.org/data/2.5/aggregated/day?\"\n",
    "\n",
    "    latitude = find_coordinates(city)[0]\n",
    "    longitude = find_coordinates(city)[1]\n",
    "\n",
    "    query_url = f\"{url}lat={latitude}&lon={longitude}&month={month}&day={day}&appid={api_key}\"\n",
    "\n",
    "    str(query_url)\n",
    "\n",
    "    return query_url"
   ]
  },
  {
   "cell_type": "code",
   "execution_count": 46,
   "metadata": {},
   "outputs": [
    {
     "data": {
      "text/plain": [
       "'http://history.openweathermap.org/data/2.5/aggregated/day?lat=35.6812665&lon=139.757653&month=1&day=1&appid=9b06c82e96dc4508a78962e8e70e06f1'"
      ]
     },
     "execution_count": 46,
     "metadata": {},
     "output_type": "execute_result"
    }
   ],
   "source": [
    "URL(\"Tokyo\", \"1\", \"1\")"
   ]
  },
  {
   "cell_type": "code",
   "execution_count": 78,
   "metadata": {},
   "outputs": [],
   "source": [
    "weather_response = requests.get(URL(\"Tokyo\", \"1\", \"1\")).json()"
   ]
  },
  {
   "cell_type": "code",
   "execution_count": 134,
   "metadata": {},
   "outputs": [
    {
     "data": {
      "text/plain": [
       "0"
      ]
     },
     "execution_count": 134,
     "metadata": {},
     "output_type": "execute_result"
    }
   ],
   "source": [
    "weather_response[\"result\"][\"precipitation\"][\"mean\"]"
   ]
  },
  {
   "cell_type": "code",
   "execution_count": 148,
   "metadata": {},
   "outputs": [],
   "source": [
    "# Function to parse API call as a JSON\n",
    "def parse(city, day, month):\n",
    "    temperature = []\n",
    "    humidity = []\n",
    "    rain = []\n",
    "\n",
    "    weather_response = requests.get(URL(city, day, month)).json()\n",
    "\n",
    "    temperature.append(weather_response[\"result\"][\"temp\"][\"mean\"] - 273)\n",
    "    humidity.append(weather_response[\"result\"][\"humidity\"][\"mean\"])\n",
    "    rain.append(weather_response[\"result\"][\"precipitation\"][\"mean\"])\n",
    "\n",
    "    weather_dict = {\"Temperature\": temperature, \"Humidity\": humidity, \"Rain (cm)\": rain}\n",
    "\n",
    "    weather_conditions = pd.DataFrame(weather_dict)\n",
    "    # weather_conditions = weather_conditions.rename(columns=[\"Humidity\", \"Temperature\"])\n",
    "    # weather_conditions = weather_conditions.reset_index()\n",
    "\n",
    "    return weather_conditions"
   ]
  },
  {
   "cell_type": "code",
   "execution_count": 149,
   "metadata": {},
   "outputs": [
    {
     "data": {
      "text/html": [
       "<div>\n",
       "<style scoped>\n",
       "    .dataframe tbody tr th:only-of-type {\n",
       "        vertical-align: middle;\n",
       "    }\n",
       "\n",
       "    .dataframe tbody tr th {\n",
       "        vertical-align: top;\n",
       "    }\n",
       "\n",
       "    .dataframe thead th {\n",
       "        text-align: right;\n",
       "    }\n",
       "</style>\n",
       "<table border=\"1\" class=\"dataframe\">\n",
       "  <thead>\n",
       "    <tr style=\"text-align: right;\">\n",
       "      <th></th>\n",
       "      <th>Temperature</th>\n",
       "      <th>Humidity</th>\n",
       "      <th>Rain (cm)</th>\n",
       "    </tr>\n",
       "  </thead>\n",
       "  <tbody>\n",
       "    <tr>\n",
       "      <th>0</th>\n",
       "      <td>6.23</td>\n",
       "      <td>52.79</td>\n",
       "      <td>0</td>\n",
       "    </tr>\n",
       "  </tbody>\n",
       "</table>\n",
       "</div>"
      ],
      "text/plain": [
       "   Temperature  Humidity  Rain (cm)\n",
       "0         6.23     52.79          0"
      ]
     },
     "execution_count": 149,
     "metadata": {},
     "output_type": "execute_result"
    }
   ],
   "source": [
    "parse(\"Tokyo\", \"1\", \"1\")"
   ]
  },
  {
   "cell_type": "code",
   "execution_count": 150,
   "metadata": {},
   "outputs": [
    {
     "data": {
      "text/html": [
       "<div>\n",
       "<style scoped>\n",
       "    .dataframe tbody tr th:only-of-type {\n",
       "        vertical-align: middle;\n",
       "    }\n",
       "\n",
       "    .dataframe tbody tr th {\n",
       "        vertical-align: top;\n",
       "    }\n",
       "\n",
       "    .dataframe thead th {\n",
       "        text-align: right;\n",
       "    }\n",
       "</style>\n",
       "<table border=\"1\" class=\"dataframe\">\n",
       "  <thead>\n",
       "    <tr style=\"text-align: right;\">\n",
       "      <th></th>\n",
       "      <th>Temperature</th>\n",
       "      <th>Humidity</th>\n",
       "      <th>Rain (cm)</th>\n",
       "    </tr>\n",
       "  </thead>\n",
       "  <tbody>\n",
       "    <tr>\n",
       "      <th>0</th>\n",
       "      <td>24.46</td>\n",
       "      <td>77.4</td>\n",
       "      <td>0.11</td>\n",
       "    </tr>\n",
       "  </tbody>\n",
       "</table>\n",
       "</div>"
      ],
      "text/plain": [
       "   Temperature  Humidity  Rain (cm)\n",
       "0        24.46      77.4       0.11"
      ]
     },
     "execution_count": 150,
     "metadata": {},
     "output_type": "execute_result"
    }
   ],
   "source": [
    "parse(\"Gold Coast\", \"1\", \"1\")"
   ]
  },
  {
   "cell_type": "code",
   "execution_count": null,
   "metadata": {},
   "outputs": [],
   "source": []
  }
 ],
 "metadata": {
  "kernelspec": {
   "display_name": "PythonData",
   "language": "python",
   "name": "python3"
  },
  "language_info": {
   "codemirror_mode": {
    "name": "ipython",
    "version": 3
   },
   "file_extension": ".py",
   "mimetype": "text/x-python",
   "name": "python",
   "nbconvert_exporter": "python",
   "pygments_lexer": "ipython3",
   "version": "3.7.7"
  },
  "orig_nbformat": 4
 },
 "nbformat": 4,
 "nbformat_minor": 2
}
