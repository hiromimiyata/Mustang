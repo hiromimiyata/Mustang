{
 "cells": [
  {
   "cell_type": "code",
   "execution_count": 17,
   "metadata": {},
   "outputs": [],
   "source": [
    "# Dependencies\n",
    "import matplotlib.pyplot as plt\n",
    "import requests\n",
    "import pandas as pd\n",
    "from config import api_key\n",
    "import json"
   ]
  },
  {
   "cell_type": "code",
   "execution_count": 3,
   "metadata": {},
   "outputs": [
    {
     "data": {
      "text/html": [
       "<div>\n",
       "<style scoped>\n",
       "    .dataframe tbody tr th:only-of-type {\n",
       "        vertical-align: middle;\n",
       "    }\n",
       "\n",
       "    .dataframe tbody tr th {\n",
       "        vertical-align: top;\n",
       "    }\n",
       "\n",
       "    .dataframe thead th {\n",
       "        text-align: right;\n",
       "    }\n",
       "</style>\n",
       "<table border=\"1\" class=\"dataframe\">\n",
       "  <thead>\n",
       "    <tr style=\"text-align: right;\">\n",
       "      <th></th>\n",
       "      <th>City</th>\n",
       "      <th>Country</th>\n",
       "      <th>Latitude</th>\n",
       "      <th>Longitude</th>\n",
       "    </tr>\n",
       "  </thead>\n",
       "  <tbody>\n",
       "    <tr>\n",
       "      <th>0</th>\n",
       "      <td>Fakenham</td>\n",
       "      <td>United Kingdom</td>\n",
       "      <td>52.829919</td>\n",
       "      <td>0.847732</td>\n",
       "    </tr>\n",
       "    <tr>\n",
       "      <th>1</th>\n",
       "      <td>Cheltenham</td>\n",
       "      <td>United Kingdom</td>\n",
       "      <td>51.899569</td>\n",
       "      <td>-2.071156</td>\n",
       "    </tr>\n",
       "    <tr>\n",
       "      <th>2</th>\n",
       "      <td>Tramore</td>\n",
       "      <td>United States</td>\n",
       "      <td>29.670858</td>\n",
       "      <td>-98.492054</td>\n",
       "    </tr>\n",
       "    <tr>\n",
       "      <th>3</th>\n",
       "      <td>Fairyhouse</td>\n",
       "      <td>Ireland</td>\n",
       "      <td>53.499974</td>\n",
       "      <td>-6.468569</td>\n",
       "    </tr>\n",
       "    <tr>\n",
       "      <th>4</th>\n",
       "      <td>Southwell</td>\n",
       "      <td>United Kingdom</td>\n",
       "      <td>50.532890</td>\n",
       "      <td>-2.446753</td>\n",
       "    </tr>\n",
       "  </tbody>\n",
       "</table>\n",
       "</div>"
      ],
      "text/plain": [
       "         City         Country   Latitude  Longitude\n",
       "0    Fakenham  United Kingdom  52.829919   0.847732\n",
       "1  Cheltenham  United Kingdom  51.899569  -2.071156\n",
       "2     Tramore   United States  29.670858 -98.492054\n",
       "3  Fairyhouse         Ireland  53.499974  -6.468569\n",
       "4   Southwell  United Kingdom  50.532890  -2.446753"
      ]
     },
     "execution_count": 3,
     "metadata": {},
     "output_type": "execute_result"
    }
   ],
   "source": [
    "# Import city location data\n",
    "df = pd.read_csv(r\"C:\\Users\\vidul\\Documents\\UCB Bootcamp Files\\Projects\\Project 4\\Mustang\\Resources\\city_coordinates.csv\")\n",
    "df.head()"
   ]
  },
  {
   "cell_type": "code",
   "execution_count": 4,
   "metadata": {},
   "outputs": [
    {
     "name": "stdout",
     "output_type": "stream",
     "text": [
      "There are 234 cities in the horse racing circuit.\n"
     ]
    }
   ],
   "source": [
    "# Count number of cities \n",
    "\n",
    "number_of_cities = df.City.unique()\n",
    "print(f\"There are {len(number_of_cities)} cities in the horse racing circuit.\")"
   ]
  },
  {
   "cell_type": "code",
   "execution_count": 29,
   "metadata": {},
   "outputs": [],
   "source": [
    "# Function to find city coordinates \n",
    "\n",
    "def find_coordinates(city):\n",
    "    coordinates = df.loc[df[\"City\"] == city, [\"Latitude\", \"Longitude\"]]\n",
    "    lat = coordinates[\"Latitude\"]\n",
    "    lon = coordinates[\"Longitude\"]\n",
    "    return lat, lon"
   ]
  },
  {
   "cell_type": "code",
   "execution_count": 30,
   "metadata": {},
   "outputs": [
    {
     "data": {
      "text/plain": [
       "(72    35.681266\n",
       " Name: Latitude, dtype: float64,\n",
       " 72    139.757653\n",
       " Name: Longitude, dtype: float64)"
      ]
     },
     "execution_count": 30,
     "metadata": {},
     "output_type": "execute_result"
    }
   ],
   "source": [
    "find_coordinates(\"Tokyo\")"
   ]
  },
  {
   "cell_type": "code",
   "execution_count": 24,
   "metadata": {},
   "outputs": [],
   "source": [
    "# Function to build API query url \n",
    "\n",
    "def URL(city, day, month):\n",
    "\n",
    "    url = \"http://history.openweathermap.org/data/2.5/aggregated/day?\"\n",
    "    lat = str(find_coordinates(city)[\"Latitude\"])\n",
    "    lon = str(find_coordinates(city)[\"Longitude\"])\n",
    "    month = month\n",
    "    day = day\n",
    "\n",
    "    query_url = f\"{url}lat={lat}&lon={lon}&month={month}&day={day}\"\n",
    "\n",
    "    str(query_url)\n",
    "    \n",
    "    return query_url"
   ]
  },
  {
   "cell_type": "code",
   "execution_count": 25,
   "metadata": {},
   "outputs": [
    {
     "data": {
      "text/plain": [
       "'http://history.openweathermap.org/data/2.5/aggregated/day?lat=72    35.681266\\nName: Latitude, dtype: float64&lon=72    139.757653\\nName: Longitude, dtype: float64&month=1&day=1'"
      ]
     },
     "execution_count": 25,
     "metadata": {},
     "output_type": "execute_result"
    }
   ],
   "source": [
    "URL(\"Tokyo\", \"1\", \"1\")"
   ]
  },
  {
   "cell_type": "code",
   "execution_count": 27,
   "metadata": {},
   "outputs": [
    {
     "data": {
      "text/plain": [
       "'72    139.757653\\nName: Longitude, dtype: float64'"
      ]
     },
     "execution_count": 27,
     "metadata": {},
     "output_type": "execute_result"
    }
   ],
   "source": []
  }
 ],
 "metadata": {
  "kernelspec": {
   "display_name": "PythonData",
   "language": "python",
   "name": "python3"
  },
  "language_info": {
   "codemirror_mode": {
    "name": "ipython",
    "version": 3
   },
   "file_extension": ".py",
   "mimetype": "text/x-python",
   "name": "python",
   "nbconvert_exporter": "python",
   "pygments_lexer": "ipython3",
   "version": "3.7.7"
  },
  "orig_nbformat": 4
 },
 "nbformat": 4,
 "nbformat_minor": 2
}
