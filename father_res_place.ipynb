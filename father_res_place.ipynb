{
 "cells": [
  {
   "cell_type": "markdown",
   "metadata": {
    "colab_type": "text",
    "id": "Vv16HppWUeva"
   },
   "source": [
    "## Project 4\n"
   ]
  },
  {
   "cell_type": "code",
   "execution_count": 2,
   "metadata": {},
   "outputs": [
    {
     "name": "stderr",
     "output_type": "stream",
     "text": [
      "2023-07-23 10:04:32.540643: I tensorflow/core/platform/cpu_feature_guard.cc:182] This TensorFlow binary is optimized to use available CPU instructions in performance-critical operations.\n",
      "To enable the following instructions: AVX2 FMA, in other operations, rebuild TensorFlow with the appropriate compiler flags.\n"
     ]
    }
   ],
   "source": [
    "import pandas as pd\n",
    "import numpy as np\n",
    "import keras\n",
    "\n",
    "import sklearn.model_selection as model_selection\n",
    "import matplotlib.pyplot as plt\n",
    "from matplotlib import pyplot\n",
    "from sklearn.model_selection import train_test_split, TimeSeriesSplit\n",
    "from sklearn.metrics import f1_score, accuracy_score, recall_score, precision_score, confusion_matrix\n",
    "from sklearn.tree import DecisionTreeClassifier\n",
    "from sklearn.preprocessing import LabelEncoder"
   ]
  },
  {
   "cell_type": "code",
   "execution_count": 3,
   "metadata": {
    "colab": {},
    "colab_type": "code",
    "id": "nPRmMt8FVirP"
   },
   "outputs": [
    {
     "name": "stderr",
     "output_type": "stream",
     "text": [
      "/var/folders/kl/m0y8txln53774pt40hp8gplr0000gn/T/ipykernel_2525/1906195333.py:1: DtypeWarning: Columns (11,19,46) have mixed types. Specify dtype option on import or set low_memory=False.\n",
      "  race_df = pd.read_csv('Merged_Data/merged_data.csv')\n"
     ]
    },
    {
     "data": {
      "text/html": [
       "<div>\n",
       "<style scoped>\n",
       "    .dataframe tbody tr th:only-of-type {\n",
       "        vertical-align: middle;\n",
       "    }\n",
       "\n",
       "    .dataframe tbody tr th {\n",
       "        vertical-align: top;\n",
       "    }\n",
       "\n",
       "    .dataframe thead th {\n",
       "        text-align: right;\n",
       "    }\n",
       "</style>\n",
       "<table border=\"1\" class=\"dataframe\">\n",
       "  <thead>\n",
       "    <tr style=\"text-align: right;\">\n",
       "      <th></th>\n",
       "      <th>Unnamed: 0</th>\n",
       "      <th>rid</th>\n",
       "      <th>course</th>\n",
       "      <th>time</th>\n",
       "      <th>date</th>\n",
       "      <th>title</th>\n",
       "      <th>rclass</th>\n",
       "      <th>band</th>\n",
       "      <th>ages</th>\n",
       "      <th>distance</th>\n",
       "      <th>...</th>\n",
       "      <th>OR</th>\n",
       "      <th>father</th>\n",
       "      <th>mother</th>\n",
       "      <th>gfather</th>\n",
       "      <th>runners</th>\n",
       "      <th>margin</th>\n",
       "      <th>weight</th>\n",
       "      <th>res_win</th>\n",
       "      <th>res_place</th>\n",
       "      <th>price</th>\n",
       "    </tr>\n",
       "  </thead>\n",
       "  <tbody>\n",
       "    <tr>\n",
       "      <th>0</th>\n",
       "      <td>0</td>\n",
       "      <td>10312</td>\n",
       "      <td>Fakenham</td>\n",
       "      <td>02:55</td>\n",
       "      <td>20/01/01</td>\n",
       "      <td>Happy New Year Maiden Hurdle (Div I)</td>\n",
       "      <td>Class 4</td>\n",
       "      <td>NaN</td>\n",
       "      <td>4yo+</td>\n",
       "      <td>2m</td>\n",
       "      <td>...</td>\n",
       "      <td>NaN</td>\n",
       "      <td>Pour Moi</td>\n",
       "      <td>Laughing Water</td>\n",
       "      <td>Duke Of Marmalade</td>\n",
       "      <td>9.0</td>\n",
       "      <td>1.199095</td>\n",
       "      <td>66.0</td>\n",
       "      <td>1.0</td>\n",
       "      <td>1.0</td>\n",
       "      <td>NaN</td>\n",
       "    </tr>\n",
       "    <tr>\n",
       "      <th>1</th>\n",
       "      <td>1</td>\n",
       "      <td>10312</td>\n",
       "      <td>Fakenham</td>\n",
       "      <td>02:55</td>\n",
       "      <td>20/01/01</td>\n",
       "      <td>Happy New Year Maiden Hurdle (Div I)</td>\n",
       "      <td>Class 4</td>\n",
       "      <td>NaN</td>\n",
       "      <td>4yo+</td>\n",
       "      <td>2m</td>\n",
       "      <td>...</td>\n",
       "      <td>110.0</td>\n",
       "      <td>Getaway</td>\n",
       "      <td>Shouette</td>\n",
       "      <td>Sadler's Wells</td>\n",
       "      <td>9.0</td>\n",
       "      <td>1.199095</td>\n",
       "      <td>65.0</td>\n",
       "      <td>0.0</td>\n",
       "      <td>1.0</td>\n",
       "      <td>NaN</td>\n",
       "    </tr>\n",
       "    <tr>\n",
       "      <th>2</th>\n",
       "      <td>2</td>\n",
       "      <td>10312</td>\n",
       "      <td>Fakenham</td>\n",
       "      <td>02:55</td>\n",
       "      <td>20/01/01</td>\n",
       "      <td>Happy New Year Maiden Hurdle (Div I)</td>\n",
       "      <td>Class 4</td>\n",
       "      <td>NaN</td>\n",
       "      <td>4yo+</td>\n",
       "      <td>2m</td>\n",
       "      <td>...</td>\n",
       "      <td>NaN</td>\n",
       "      <td>Vale Of York</td>\n",
       "      <td>Finnmark</td>\n",
       "      <td>Halling</td>\n",
       "      <td>9.0</td>\n",
       "      <td>1.199095</td>\n",
       "      <td>72.0</td>\n",
       "      <td>0.0</td>\n",
       "      <td>1.0</td>\n",
       "      <td>NaN</td>\n",
       "    </tr>\n",
       "    <tr>\n",
       "      <th>3</th>\n",
       "      <td>3</td>\n",
       "      <td>10312</td>\n",
       "      <td>Fakenham</td>\n",
       "      <td>02:55</td>\n",
       "      <td>20/01/01</td>\n",
       "      <td>Happy New Year Maiden Hurdle (Div I)</td>\n",
       "      <td>Class 4</td>\n",
       "      <td>NaN</td>\n",
       "      <td>4yo+</td>\n",
       "      <td>2m</td>\n",
       "      <td>...</td>\n",
       "      <td>NaN</td>\n",
       "      <td>Sixties Icon</td>\n",
       "      <td>Highland Jig</td>\n",
       "      <td>Norse Dancer</td>\n",
       "      <td>9.0</td>\n",
       "      <td>1.199095</td>\n",
       "      <td>72.0</td>\n",
       "      <td>0.0</td>\n",
       "      <td>0.0</td>\n",
       "      <td>NaN</td>\n",
       "    </tr>\n",
       "    <tr>\n",
       "      <th>4</th>\n",
       "      <td>4</td>\n",
       "      <td>10312</td>\n",
       "      <td>Fakenham</td>\n",
       "      <td>02:55</td>\n",
       "      <td>20/01/01</td>\n",
       "      <td>Happy New Year Maiden Hurdle (Div I)</td>\n",
       "      <td>Class 4</td>\n",
       "      <td>NaN</td>\n",
       "      <td>4yo+</td>\n",
       "      <td>2m</td>\n",
       "      <td>...</td>\n",
       "      <td>NaN</td>\n",
       "      <td>Iffraaj</td>\n",
       "      <td>Hallowed Park</td>\n",
       "      <td>Barathea</td>\n",
       "      <td>9.0</td>\n",
       "      <td>1.199095</td>\n",
       "      <td>72.0</td>\n",
       "      <td>0.0</td>\n",
       "      <td>0.0</td>\n",
       "      <td>NaN</td>\n",
       "    </tr>\n",
       "  </tbody>\n",
       "</table>\n",
       "<p>5 rows × 47 columns</p>\n",
       "</div>"
      ],
      "text/plain": [
       "   Unnamed: 0    rid    course   time      date   \n",
       "0           0  10312  Fakenham  02:55  20/01/01  \\\n",
       "1           1  10312  Fakenham  02:55  20/01/01   \n",
       "2           2  10312  Fakenham  02:55  20/01/01   \n",
       "3           3  10312  Fakenham  02:55  20/01/01   \n",
       "4           4  10312  Fakenham  02:55  20/01/01   \n",
       "\n",
       "                                  title   rclass band  ages distance  ...   \n",
       "0  Happy New Year Maiden Hurdle (Div I)  Class 4  NaN  4yo+       2m  ...  \\\n",
       "1  Happy New Year Maiden Hurdle (Div I)  Class 4  NaN  4yo+       2m  ...   \n",
       "2  Happy New Year Maiden Hurdle (Div I)  Class 4  NaN  4yo+       2m  ...   \n",
       "3  Happy New Year Maiden Hurdle (Div I)  Class 4  NaN  4yo+       2m  ...   \n",
       "4  Happy New Year Maiden Hurdle (Div I)  Class 4  NaN  4yo+       2m  ...   \n",
       "\n",
       "      OR        father          mother            gfather  runners    margin   \n",
       "0    NaN      Pour Moi  Laughing Water  Duke Of Marmalade      9.0  1.199095  \\\n",
       "1  110.0       Getaway        Shouette     Sadler's Wells      9.0  1.199095   \n",
       "2    NaN  Vale Of York        Finnmark            Halling      9.0  1.199095   \n",
       "3    NaN  Sixties Icon    Highland Jig       Norse Dancer      9.0  1.199095   \n",
       "4    NaN       Iffraaj   Hallowed Park           Barathea      9.0  1.199095   \n",
       "\n",
       "  weight  res_win  res_place price  \n",
       "0   66.0      1.0        1.0   NaN  \n",
       "1   65.0      0.0        1.0   NaN  \n",
       "2   72.0      0.0        1.0   NaN  \n",
       "3   72.0      0.0        0.0   NaN  \n",
       "4   72.0      0.0        0.0   NaN  \n",
       "\n",
       "[5 rows x 47 columns]"
      ]
     },
     "execution_count": 3,
     "metadata": {},
     "output_type": "execute_result"
    }
   ],
   "source": [
    "race_df = pd.read_csv('Merged_Data/merged_data.csv')\n",
    "race_df.head()"
   ]
  },
  {
   "cell_type": "code",
   "execution_count": 24,
   "metadata": {},
   "outputs": [
    {
     "ename": "TypeError",
     "evalue": "'Index' object is not callable",
     "output_type": "error",
     "traceback": [
      "\u001b[0;31m---------------------------------------------------------------------------\u001b[0m",
      "\u001b[0;31mTypeError\u001b[0m                                 Traceback (most recent call last)",
      "\u001b[0;32m/var/folders/kl/m0y8txln53774pt40hp8gplr0000gn/T/ipykernel_2525/3820082685.py\u001b[0m in \u001b[0;36m<module>\u001b[0;34m\u001b[0m\n\u001b[0;32m----> 1\u001b[0;31m \u001b[0mrace_df\u001b[0m\u001b[0;34m.\u001b[0m\u001b[0mcolumns\u001b[0m\u001b[0;34m(\u001b[0m\u001b[0;34m)\u001b[0m\u001b[0;34m\u001b[0m\u001b[0;34m\u001b[0m\u001b[0m\n\u001b[0m",
      "\u001b[0;31mTypeError\u001b[0m: 'Index' object is not callable"
     ]
    }
   ],
   "source": [
    "race_df.columns()"
   ]
  },
  {
   "cell_type": "code",
   "execution_count": 4,
   "metadata": {
    "colab": {
     "base_uri": "https://localhost:8080/",
     "height": 156
    },
    "colab_type": "code",
    "id": "t3cCpP6GAyf5",
    "outputId": "f4ea8f58-fc1a-4a50-bdc9-987cc6818029",
    "scrolled": true
   },
   "outputs": [
    {
     "data": {
      "text/html": [
       "<div>\n",
       "<style scoped>\n",
       "    .dataframe tbody tr th:only-of-type {\n",
       "        vertical-align: middle;\n",
       "    }\n",
       "\n",
       "    .dataframe tbody tr th {\n",
       "        vertical-align: top;\n",
       "    }\n",
       "\n",
       "    .dataframe thead th {\n",
       "        text-align: right;\n",
       "    }\n",
       "</style>\n",
       "<table border=\"1\" class=\"dataframe\">\n",
       "  <thead>\n",
       "    <tr style=\"text-align: right;\">\n",
       "      <th></th>\n",
       "      <th>position</th>\n",
       "      <th>res_place</th>\n",
       "      <th>father</th>\n",
       "    </tr>\n",
       "  </thead>\n",
       "  <tbody>\n",
       "    <tr>\n",
       "      <th>0</th>\n",
       "      <td>1.0</td>\n",
       "      <td>1.0</td>\n",
       "      <td>Pour Moi</td>\n",
       "    </tr>\n",
       "    <tr>\n",
       "      <th>1</th>\n",
       "      <td>2.0</td>\n",
       "      <td>1.0</td>\n",
       "      <td>Getaway</td>\n",
       "    </tr>\n",
       "    <tr>\n",
       "      <th>2</th>\n",
       "      <td>3.0</td>\n",
       "      <td>1.0</td>\n",
       "      <td>Vale Of York</td>\n",
       "    </tr>\n",
       "    <tr>\n",
       "      <th>3</th>\n",
       "      <td>4.0</td>\n",
       "      <td>0.0</td>\n",
       "      <td>Sixties Icon</td>\n",
       "    </tr>\n",
       "    <tr>\n",
       "      <th>4</th>\n",
       "      <td>5.0</td>\n",
       "      <td>0.0</td>\n",
       "      <td>Iffraaj</td>\n",
       "    </tr>\n",
       "    <tr>\n",
       "      <th>...</th>\n",
       "      <td>...</td>\n",
       "      <td>...</td>\n",
       "      <td>...</td>\n",
       "    </tr>\n",
       "    <tr>\n",
       "      <th>149584</th>\n",
       "      <td>7.0</td>\n",
       "      <td>0.0</td>\n",
       "      <td>Alamosa</td>\n",
       "    </tr>\n",
       "    <tr>\n",
       "      <th>149585</th>\n",
       "      <td>8.0</td>\n",
       "      <td>0.0</td>\n",
       "      <td>Proisir</td>\n",
       "    </tr>\n",
       "    <tr>\n",
       "      <th>149586</th>\n",
       "      <td>9.0</td>\n",
       "      <td>0.0</td>\n",
       "      <td>Tavistock</td>\n",
       "    </tr>\n",
       "    <tr>\n",
       "      <th>149587</th>\n",
       "      <td>10.0</td>\n",
       "      <td>0.0</td>\n",
       "      <td>Per Incanto</td>\n",
       "    </tr>\n",
       "    <tr>\n",
       "      <th>149588</th>\n",
       "      <td>11.0</td>\n",
       "      <td>0.0</td>\n",
       "      <td>Alamosa</td>\n",
       "    </tr>\n",
       "  </tbody>\n",
       "</table>\n",
       "<p>149589 rows × 3 columns</p>\n",
       "</div>"
      ],
      "text/plain": [
       "        position  res_place        father\n",
       "0            1.0        1.0      Pour Moi\n",
       "1            2.0        1.0       Getaway\n",
       "2            3.0        1.0  Vale Of York\n",
       "3            4.0        0.0  Sixties Icon\n",
       "4            5.0        0.0       Iffraaj\n",
       "...          ...        ...           ...\n",
       "149584       7.0        0.0       Alamosa\n",
       "149585       8.0        0.0       Proisir\n",
       "149586       9.0        0.0     Tavistock\n",
       "149587      10.0        0.0   Per Incanto\n",
       "149588      11.0        0.0       Alamosa\n",
       "\n",
       "[149589 rows x 3 columns]"
      ]
     },
     "execution_count": 4,
     "metadata": {},
     "output_type": "execute_result"
    }
   ],
   "source": [
    "# Drop unwanted columns\n",
    "selected_columns = ['position', 'res_place', 'father']\n",
    "race_df_selected = race_df[selected_columns]\n",
    "race_df_selected"
   ]
  },
  {
   "cell_type": "code",
   "execution_count": 5,
   "metadata": {},
   "outputs": [
    {
     "data": {
      "text/plain": [
       "RangeIndex(start=0, stop=149589, step=1)"
      ]
     },
     "execution_count": 5,
     "metadata": {},
     "output_type": "execute_result"
    }
   ],
   "source": [
    "race_df.index"
   ]
  },
  {
   "cell_type": "code",
   "execution_count": 6,
   "metadata": {},
   "outputs": [
    {
     "data": {
      "text/plain": [
       "position     76\n",
       "res_place    76\n",
       "father       76\n",
       "dtype: int64"
      ]
     },
     "execution_count": 6,
     "metadata": {},
     "output_type": "execute_result"
    }
   ],
   "source": [
    "race_df_selected.isnull().sum() #checking missing valuesposition"
   ]
  },
  {
   "cell_type": "code",
   "execution_count": 7,
   "metadata": {
    "colab": {
     "base_uri": "https://localhost:8080/",
     "height": 153
    },
    "colab_type": "code",
    "id": "QvwWeOR2Uev-",
    "outputId": "f9b9c728-da0a-4410-f308-11dd6f195555"
   },
   "outputs": [
    {
     "name": "stderr",
     "output_type": "stream",
     "text": [
      "/var/folders/kl/m0y8txln53774pt40hp8gplr0000gn/T/ipykernel_2525/3611870607.py:1: SettingWithCopyWarning: \n",
      "A value is trying to be set on a copy of a slice from a DataFrame\n",
      "\n",
      "See the caveats in the documentation: https://pandas.pydata.org/pandas-docs/stable/user_guide/indexing.html#returning-a-view-versus-a-copy\n",
      "  race_df_selected.dropna(subset=['position', 'res_place', 'father'], inplace=True)\n"
     ]
    }
   ],
   "source": [
    "race_df_selected.dropna(subset=['position', 'res_place', 'father'], inplace=True)\n"
   ]
  },
  {
   "cell_type": "code",
   "execution_count": 8,
   "metadata": {},
   "outputs": [
    {
     "data": {
      "text/plain": [
       "position     0\n",
       "res_place    0\n",
       "father       0\n",
       "dtype: int64"
      ]
     },
     "execution_count": 8,
     "metadata": {},
     "output_type": "execute_result"
    }
   ],
   "source": [
    "race_df_selected.isnull().sum()"
   ]
  },
  {
   "cell_type": "code",
   "execution_count": 9,
   "metadata": {},
   "outputs": [
    {
     "name": "stdout",
     "output_type": "stream",
     "text": [
      "Number of rows: 149589\n"
     ]
    }
   ],
   "source": [
    "num_rows = race_df.shape[0]\n",
    "print(\"Number of rows:\", num_rows)\n"
   ]
  },
  {
   "cell_type": "code",
   "execution_count": 10,
   "metadata": {},
   "outputs": [
    {
     "data": {
      "text/plain": [
       "position\n",
       "1.0     14736\n",
       "2.0     14731\n",
       "3.0     14671\n",
       "4.0     14519\n",
       "5.0     14104\n",
       "6.0     13277\n",
       "7.0     12025\n",
       "8.0     10539\n",
       "9.0      8969\n",
       "10.0     7389\n",
       "40.0     6508\n",
       "11.0     5867\n",
       "12.0     4463\n",
       "13.0     2948\n",
       "14.0     2112\n",
       "15.0     1095\n",
       "16.0      728\n",
       "17.0      362\n",
       "18.0      233\n",
       "19.0       80\n",
       "20.0       56\n",
       "21.0       34\n",
       "22.0       25\n",
       "23.0       14\n",
       "24.0        8\n",
       "25.0        6\n",
       "26.0        4\n",
       "27.0        3\n",
       "28.0        1\n",
       "29.0        1\n",
       "30.0        1\n",
       "31.0        1\n",
       "32.0        1\n",
       "33.0        1\n",
       "34.0        1\n",
       "Name: count, dtype: int64"
      ]
     },
     "execution_count": 10,
     "metadata": {},
     "output_type": "execute_result"
    }
   ],
   "source": [
    "race_df_selected['position'].isnull().sum()\n",
    "race_df_selected['position'].value_counts()"
   ]
  },
  {
   "cell_type": "code",
   "execution_count": 11,
   "metadata": {},
   "outputs": [
    {
     "data": {
      "text/plain": [
       "res_place\n",
       "0.0    108822\n",
       "1.0     40691\n",
       "Name: count, dtype: int64"
      ]
     },
     "execution_count": 11,
     "metadata": {},
     "output_type": "execute_result"
    }
   ],
   "source": [
    "race_df_selected['res_place'].isnull().sum()\n",
    "race_df_selected['res_place'].value_counts()"
   ]
  },
  {
   "cell_type": "code",
   "execution_count": 12,
   "metadata": {},
   "outputs": [
    {
     "name": "stdout",
     "output_type": "stream",
     "text": [
      "father\n",
      "Kodiac                1764\n",
      "Dark Angel            1654\n",
      "Zoffany               1324\n",
      "Exceed And Excel      1193\n",
      "Dandy Man             1188\n",
      "Lope De Vega          1154\n",
      "Acclamation            983\n",
      "Invincible Spirit      970\n",
      "Galileo                968\n",
      "Showcasing             954\n",
      "Iffraaj                938\n",
      "Siyouni                915\n",
      "Getaway                909\n",
      "Dubawi                 860\n",
      "Mastercraftsman        854\n",
      "Oasis Dream            846\n",
      "Camelot                826\n",
      "Yeats                  820\n",
      "Camacho                790\n",
      "Footstepsinthesand     779\n",
      "Milan                  772\n",
      "Stowaway               771\n",
      "Bated Breath           763\n",
      "Poet's Voice           760\n",
      "Helmet                 740\n",
      "Shamardal              729\n",
      "Equiano                725\n",
      "Holy Roman Emperor     721\n",
      "Sea The Stars          700\n",
      "Teofilo                700\n",
      "Nathaniel              693\n",
      "Flemensfirth           682\n",
      "Presenting             680\n",
      "Mayson                 679\n",
      "Frankel                671\n",
      "Zebedee                666\n",
      "Mahler                 663\n",
      "Oscar                  636\n",
      "Gold Well              625\n",
      "Lawman                 623\n",
      "Champs Elysees         621\n",
      "Dream Ahead            611\n",
      "Canford Cliffs         609\n",
      "Kingman                607\n",
      "Fast Company           602\n",
      "Jeremy                 584\n",
      "Scorpion               580\n",
      "Westerner              579\n",
      "No Nay Never           578\n",
      "Dutch Art              575\n",
      "Name: count, dtype: int64\n"
     ]
    }
   ],
   "source": [
    "\n",
    "# Group the data by 'father' and count the number of occurrences\n",
    "father_counts = race_df_selected['father'].value_counts()\n",
    "\n",
    "# Sort the fathers in descending order based on offspring count\n",
    "father_counts_sorted = father_counts.sort_values(ascending=False)\n",
    "\n",
    "# Take the top 50 fathers with the highest offspring count\n",
    "top_50_fathers = father_counts_sorted.head(50)\n",
    "\n",
    "# Print the result\n",
    "print(top_50_fathers)\n"
   ]
  },
  {
   "cell_type": "code",
   "execution_count": 13,
   "metadata": {},
   "outputs": [],
   "source": [
    "# here we are using classification model logistic regression to train the model. Variable: father Target res_place (whether they placed or not)"
   ]
  },
  {
   "cell_type": "code",
   "execution_count": 14,
   "metadata": {},
   "outputs": [
    {
     "name": "stdout",
     "output_type": "stream",
     "text": [
      "number of popular_sires: 350\n"
     ]
    },
    {
     "data": {
      "text/html": [
       "<div>\n",
       "<style scoped>\n",
       "    .dataframe tbody tr th:only-of-type {\n",
       "        vertical-align: middle;\n",
       "    }\n",
       "\n",
       "    .dataframe tbody tr th {\n",
       "        vertical-align: top;\n",
       "    }\n",
       "\n",
       "    .dataframe thead th {\n",
       "        text-align: right;\n",
       "    }\n",
       "</style>\n",
       "<table border=\"1\" class=\"dataframe\">\n",
       "  <thead>\n",
       "    <tr style=\"text-align: right;\">\n",
       "      <th></th>\n",
       "      <th>Unnamed: 0</th>\n",
       "      <th>rid</th>\n",
       "      <th>course</th>\n",
       "      <th>time</th>\n",
       "      <th>date</th>\n",
       "      <th>title</th>\n",
       "      <th>rclass</th>\n",
       "      <th>band</th>\n",
       "      <th>ages</th>\n",
       "      <th>distance</th>\n",
       "      <th>...</th>\n",
       "      <th>OR</th>\n",
       "      <th>father</th>\n",
       "      <th>mother</th>\n",
       "      <th>gfather</th>\n",
       "      <th>runners</th>\n",
       "      <th>margin</th>\n",
       "      <th>weight</th>\n",
       "      <th>res_win</th>\n",
       "      <th>res_place</th>\n",
       "      <th>price</th>\n",
       "    </tr>\n",
       "  </thead>\n",
       "  <tbody>\n",
       "    <tr>\n",
       "      <th>0</th>\n",
       "      <td>0</td>\n",
       "      <td>10312</td>\n",
       "      <td>Fakenham</td>\n",
       "      <td>02:55</td>\n",
       "      <td>20/01/01</td>\n",
       "      <td>Happy New Year Maiden Hurdle (Div I)</td>\n",
       "      <td>Class 4</td>\n",
       "      <td>NaN</td>\n",
       "      <td>4yo+</td>\n",
       "      <td>2m</td>\n",
       "      <td>...</td>\n",
       "      <td>NaN</td>\n",
       "      <td>Pour Moi</td>\n",
       "      <td>Laughing Water</td>\n",
       "      <td>Duke Of Marmalade</td>\n",
       "      <td>9.0</td>\n",
       "      <td>1.199095</td>\n",
       "      <td>66.0</td>\n",
       "      <td>1.0</td>\n",
       "      <td>1.0</td>\n",
       "      <td>NaN</td>\n",
       "    </tr>\n",
       "    <tr>\n",
       "      <th>1</th>\n",
       "      <td>1</td>\n",
       "      <td>10312</td>\n",
       "      <td>Fakenham</td>\n",
       "      <td>02:55</td>\n",
       "      <td>20/01/01</td>\n",
       "      <td>Happy New Year Maiden Hurdle (Div I)</td>\n",
       "      <td>Class 4</td>\n",
       "      <td>NaN</td>\n",
       "      <td>4yo+</td>\n",
       "      <td>2m</td>\n",
       "      <td>...</td>\n",
       "      <td>110.0</td>\n",
       "      <td>Getaway</td>\n",
       "      <td>Shouette</td>\n",
       "      <td>Sadler's Wells</td>\n",
       "      <td>9.0</td>\n",
       "      <td>1.199095</td>\n",
       "      <td>65.0</td>\n",
       "      <td>0.0</td>\n",
       "      <td>1.0</td>\n",
       "      <td>NaN</td>\n",
       "    </tr>\n",
       "    <tr>\n",
       "      <th>2</th>\n",
       "      <td>2</td>\n",
       "      <td>10312</td>\n",
       "      <td>Fakenham</td>\n",
       "      <td>02:55</td>\n",
       "      <td>20/01/01</td>\n",
       "      <td>Happy New Year Maiden Hurdle (Div I)</td>\n",
       "      <td>Class 4</td>\n",
       "      <td>NaN</td>\n",
       "      <td>4yo+</td>\n",
       "      <td>2m</td>\n",
       "      <td>...</td>\n",
       "      <td>NaN</td>\n",
       "      <td>Vale Of York</td>\n",
       "      <td>Finnmark</td>\n",
       "      <td>Halling</td>\n",
       "      <td>9.0</td>\n",
       "      <td>1.199095</td>\n",
       "      <td>72.0</td>\n",
       "      <td>0.0</td>\n",
       "      <td>1.0</td>\n",
       "      <td>NaN</td>\n",
       "    </tr>\n",
       "    <tr>\n",
       "      <th>3</th>\n",
       "      <td>3</td>\n",
       "      <td>10312</td>\n",
       "      <td>Fakenham</td>\n",
       "      <td>02:55</td>\n",
       "      <td>20/01/01</td>\n",
       "      <td>Happy New Year Maiden Hurdle (Div I)</td>\n",
       "      <td>Class 4</td>\n",
       "      <td>NaN</td>\n",
       "      <td>4yo+</td>\n",
       "      <td>2m</td>\n",
       "      <td>...</td>\n",
       "      <td>NaN</td>\n",
       "      <td>Sixties Icon</td>\n",
       "      <td>Highland Jig</td>\n",
       "      <td>Norse Dancer</td>\n",
       "      <td>9.0</td>\n",
       "      <td>1.199095</td>\n",
       "      <td>72.0</td>\n",
       "      <td>0.0</td>\n",
       "      <td>0.0</td>\n",
       "      <td>NaN</td>\n",
       "    </tr>\n",
       "    <tr>\n",
       "      <th>4</th>\n",
       "      <td>4</td>\n",
       "      <td>10312</td>\n",
       "      <td>Fakenham</td>\n",
       "      <td>02:55</td>\n",
       "      <td>20/01/01</td>\n",
       "      <td>Happy New Year Maiden Hurdle (Div I)</td>\n",
       "      <td>Class 4</td>\n",
       "      <td>NaN</td>\n",
       "      <td>4yo+</td>\n",
       "      <td>2m</td>\n",
       "      <td>...</td>\n",
       "      <td>NaN</td>\n",
       "      <td>Iffraaj</td>\n",
       "      <td>Hallowed Park</td>\n",
       "      <td>Barathea</td>\n",
       "      <td>9.0</td>\n",
       "      <td>1.199095</td>\n",
       "      <td>72.0</td>\n",
       "      <td>0.0</td>\n",
       "      <td>0.0</td>\n",
       "      <td>NaN</td>\n",
       "    </tr>\n",
       "    <tr>\n",
       "      <th>...</th>\n",
       "      <td>...</td>\n",
       "      <td>...</td>\n",
       "      <td>...</td>\n",
       "      <td>...</td>\n",
       "      <td>...</td>\n",
       "      <td>...</td>\n",
       "      <td>...</td>\n",
       "      <td>...</td>\n",
       "      <td>...</td>\n",
       "      <td>...</td>\n",
       "      <td>...</td>\n",
       "      <td>...</td>\n",
       "      <td>...</td>\n",
       "      <td>...</td>\n",
       "      <td>...</td>\n",
       "      <td>...</td>\n",
       "      <td>...</td>\n",
       "      <td>...</td>\n",
       "      <td>...</td>\n",
       "      <td>...</td>\n",
       "      <td>...</td>\n",
       "    </tr>\n",
       "    <tr>\n",
       "      <th>149579</th>\n",
       "      <td>149579</td>\n",
       "      <td>415090</td>\n",
       "      <td>Trentham (NZ)</td>\n",
       "      <td>03:45</td>\n",
       "      <td>20/12/05 00:00</td>\n",
       "      <td>Rydges Wellington Captain Cook Stakes (Group 1...</td>\n",
       "      <td>NaN</td>\n",
       "      <td>NaN</td>\n",
       "      <td>2yo+</td>\n",
       "      <td>1m</td>\n",
       "      <td>...</td>\n",
       "      <td>NaN</td>\n",
       "      <td>Savabeel</td>\n",
       "      <td>Classic Legacy</td>\n",
       "      <td>Carnegie</td>\n",
       "      <td>11.0</td>\n",
       "      <td>1.191591</td>\n",
       "      <td>57.0</td>\n",
       "      <td>0.0</td>\n",
       "      <td>1.0</td>\n",
       "      <td>11/5</td>\n",
       "    </tr>\n",
       "    <tr>\n",
       "      <th>149581</th>\n",
       "      <td>149581</td>\n",
       "      <td>415090</td>\n",
       "      <td>Trentham (NZ)</td>\n",
       "      <td>03:45</td>\n",
       "      <td>20/12/05 00:00</td>\n",
       "      <td>Rydges Wellington Captain Cook Stakes (Group 1...</td>\n",
       "      <td>NaN</td>\n",
       "      <td>NaN</td>\n",
       "      <td>2yo+</td>\n",
       "      <td>1m</td>\n",
       "      <td>...</td>\n",
       "      <td>NaN</td>\n",
       "      <td>Reliable Man</td>\n",
       "      <td>Quality Dream</td>\n",
       "      <td>Elusive Quality</td>\n",
       "      <td>11.0</td>\n",
       "      <td>1.191591</td>\n",
       "      <td>58.0</td>\n",
       "      <td>0.0</td>\n",
       "      <td>0.0</td>\n",
       "      <td>31/10</td>\n",
       "    </tr>\n",
       "    <tr>\n",
       "      <th>149582</th>\n",
       "      <td>149582</td>\n",
       "      <td>415090</td>\n",
       "      <td>Trentham (NZ)</td>\n",
       "      <td>03:45</td>\n",
       "      <td>20/12/05 00:00</td>\n",
       "      <td>Rydges Wellington Captain Cook Stakes (Group 1...</td>\n",
       "      <td>NaN</td>\n",
       "      <td>NaN</td>\n",
       "      <td>2yo+</td>\n",
       "      <td>1m</td>\n",
       "      <td>...</td>\n",
       "      <td>NaN</td>\n",
       "      <td>Per Incanto</td>\n",
       "      <td>City Class Rose</td>\n",
       "      <td>City On A Hill</td>\n",
       "      <td>11.0</td>\n",
       "      <td>1.191591</td>\n",
       "      <td>58.0</td>\n",
       "      <td>0.0</td>\n",
       "      <td>0.0</td>\n",
       "      <td>48/1</td>\n",
       "    </tr>\n",
       "    <tr>\n",
       "      <th>149586</th>\n",
       "      <td>149586</td>\n",
       "      <td>415090</td>\n",
       "      <td>Trentham (NZ)</td>\n",
       "      <td>03:45</td>\n",
       "      <td>20/12/05 00:00</td>\n",
       "      <td>Rydges Wellington Captain Cook Stakes (Group 1...</td>\n",
       "      <td>NaN</td>\n",
       "      <td>NaN</td>\n",
       "      <td>2yo+</td>\n",
       "      <td>1m</td>\n",
       "      <td>...</td>\n",
       "      <td>NaN</td>\n",
       "      <td>Tavistock</td>\n",
       "      <td>Laoghaire</td>\n",
       "      <td>Pins</td>\n",
       "      <td>11.0</td>\n",
       "      <td>1.191591</td>\n",
       "      <td>58.0</td>\n",
       "      <td>0.0</td>\n",
       "      <td>0.0</td>\n",
       "      <td>217/10</td>\n",
       "    </tr>\n",
       "    <tr>\n",
       "      <th>149587</th>\n",
       "      <td>149587</td>\n",
       "      <td>415090</td>\n",
       "      <td>Trentham (NZ)</td>\n",
       "      <td>03:45</td>\n",
       "      <td>20/12/05 00:00</td>\n",
       "      <td>Rydges Wellington Captain Cook Stakes (Group 1...</td>\n",
       "      <td>NaN</td>\n",
       "      <td>NaN</td>\n",
       "      <td>2yo+</td>\n",
       "      <td>1m</td>\n",
       "      <td>...</td>\n",
       "      <td>NaN</td>\n",
       "      <td>Per Incanto</td>\n",
       "      <td>Ages Past</td>\n",
       "      <td>Slavic</td>\n",
       "      <td>11.0</td>\n",
       "      <td>1.191591</td>\n",
       "      <td>58.0</td>\n",
       "      <td>0.0</td>\n",
       "      <td>0.0</td>\n",
       "      <td>233/10</td>\n",
       "    </tr>\n",
       "  </tbody>\n",
       "</table>\n",
       "<p>113072 rows × 47 columns</p>\n",
       "</div>"
      ],
      "text/plain": [
       "        Unnamed: 0     rid         course   time            date   \n",
       "0                0   10312       Fakenham  02:55        20/01/01  \\\n",
       "1                1   10312       Fakenham  02:55        20/01/01   \n",
       "2                2   10312       Fakenham  02:55        20/01/01   \n",
       "3                3   10312       Fakenham  02:55        20/01/01   \n",
       "4                4   10312       Fakenham  02:55        20/01/01   \n",
       "...            ...     ...            ...    ...             ...   \n",
       "149579      149579  415090  Trentham (NZ)  03:45  20/12/05 00:00   \n",
       "149581      149581  415090  Trentham (NZ)  03:45  20/12/05 00:00   \n",
       "149582      149582  415090  Trentham (NZ)  03:45  20/12/05 00:00   \n",
       "149586      149586  415090  Trentham (NZ)  03:45  20/12/05 00:00   \n",
       "149587      149587  415090  Trentham (NZ)  03:45  20/12/05 00:00   \n",
       "\n",
       "                                                    title   rclass band  ages   \n",
       "0                    Happy New Year Maiden Hurdle (Div I)  Class 4  NaN  4yo+  \\\n",
       "1                    Happy New Year Maiden Hurdle (Div I)  Class 4  NaN  4yo+   \n",
       "2                    Happy New Year Maiden Hurdle (Div I)  Class 4  NaN  4yo+   \n",
       "3                    Happy New Year Maiden Hurdle (Div I)  Class 4  NaN  4yo+   \n",
       "4                    Happy New Year Maiden Hurdle (Div I)  Class 4  NaN  4yo+   \n",
       "...                                                   ...      ...  ...   ...   \n",
       "149579  Rydges Wellington Captain Cook Stakes (Group 1...      NaN  NaN  2yo+   \n",
       "149581  Rydges Wellington Captain Cook Stakes (Group 1...      NaN  NaN  2yo+   \n",
       "149582  Rydges Wellington Captain Cook Stakes (Group 1...      NaN  NaN  2yo+   \n",
       "149586  Rydges Wellington Captain Cook Stakes (Group 1...      NaN  NaN  2yo+   \n",
       "149587  Rydges Wellington Captain Cook Stakes (Group 1...      NaN  NaN  2yo+   \n",
       "\n",
       "       distance  ...     OR        father           mother            gfather   \n",
       "0            2m  ...    NaN      Pour Moi   Laughing Water  Duke Of Marmalade  \\\n",
       "1            2m  ...  110.0       Getaway         Shouette     Sadler's Wells   \n",
       "2            2m  ...    NaN  Vale Of York         Finnmark            Halling   \n",
       "3            2m  ...    NaN  Sixties Icon     Highland Jig       Norse Dancer   \n",
       "4            2m  ...    NaN       Iffraaj    Hallowed Park           Barathea   \n",
       "...         ...  ...    ...           ...              ...                ...   \n",
       "149579       1m  ...    NaN      Savabeel   Classic Legacy           Carnegie   \n",
       "149581       1m  ...    NaN  Reliable Man    Quality Dream    Elusive Quality   \n",
       "149582       1m  ...    NaN   Per Incanto  City Class Rose     City On A Hill   \n",
       "149586       1m  ...    NaN     Tavistock        Laoghaire               Pins   \n",
       "149587       1m  ...    NaN   Per Incanto        Ages Past             Slavic   \n",
       "\n",
       "        runners    margin weight  res_win  res_place   price  \n",
       "0           9.0  1.199095   66.0      1.0        1.0     NaN  \n",
       "1           9.0  1.199095   65.0      0.0        1.0     NaN  \n",
       "2           9.0  1.199095   72.0      0.0        1.0     NaN  \n",
       "3           9.0  1.199095   72.0      0.0        0.0     NaN  \n",
       "4           9.0  1.199095   72.0      0.0        0.0     NaN  \n",
       "...         ...       ...    ...      ...        ...     ...  \n",
       "149579     11.0  1.191591   57.0      0.0        1.0    11/5  \n",
       "149581     11.0  1.191591   58.0      0.0        0.0   31/10  \n",
       "149582     11.0  1.191591   58.0      0.0        0.0    48/1  \n",
       "149586     11.0  1.191591   58.0      0.0        0.0  217/10  \n",
       "149587     11.0  1.191591   58.0      0.0        0.0  233/10  \n",
       "\n",
       "[113072 rows x 47 columns]"
      ]
     },
     "execution_count": 14,
     "metadata": {},
     "output_type": "execute_result"
    }
   ],
   "source": [
    "# filter fathers\n",
    "father_counts = race_df['father'].value_counts()\n",
    "popular_sires = father_counts.index[father_counts >= 100]\n",
    "print(f'number of popular_sires: {len(popular_sires)}')\n",
    "race_df = race_df[race_df['father'].isin(popular_sires)]\n",
    "race_df"
   ]
  },
  {
   "cell_type": "code",
   "execution_count": 15,
   "metadata": {},
   "outputs": [
    {
     "name": "stderr",
     "output_type": "stream",
     "text": [
      "/Users/sunderiyabayarsaikhan/opt/anaconda3/lib/python3.9/site-packages/sklearn/linear_model/_logistic.py:814: ConvergenceWarning: lbfgs failed to converge (status=1):\n",
      "STOP: TOTAL NO. of ITERATIONS REACHED LIMIT.\n",
      "\n",
      "Increase the number of iterations (max_iter) or scale the data as shown in:\n",
      "    https://scikit-learn.org/stable/modules/preprocessing.html\n",
      "Please also refer to the documentation for alternative solver options:\n",
      "    https://scikit-learn.org/stable/modules/linear_model.html#logistic-regression\n",
      "  n_iter_i = _check_optimize_result(\n"
     ]
    },
    {
     "name": "stdout",
     "output_type": "stream",
     "text": [
      "Accuracy: 0.9638497809584322\n"
     ]
    }
   ],
   "source": [
    "from sklearn.model_selection import train_test_split\n",
    "from sklearn.linear_model import LogisticRegression\n",
    "from sklearn.metrics import accuracy_score\n",
    "\n",
    "# Perform one-hot encoding on the 'father' column\n",
    "father_encoded = pd.get_dummies(race_df_selected['father'], prefix='father')\n",
    "\n",
    "# Concatenate the encoded columns with the original dataframe\n",
    "race_df_encoded = pd.concat([race_df_selected.drop('father', axis=1), father_encoded], axis=1)\n",
    "\n",
    "# Select the features and target variable\n",
    "X = race_df_encoded.drop('res_place', axis=1)\n",
    "y = race_df_encoded['res_place']\n",
    "\n",
    "# Split the data into training and testing sets\n",
    "X_train, X_test, y_train, y_test = train_test_split(X, y, test_size=0.2, random_state=42)\n",
    "\n",
    "# Create a logistic regression model\n",
    "model = LogisticRegression()\n",
    "\n",
    "# Train the model\n",
    "model.fit(X_train, y_train)\n",
    "\n",
    "# Make predictions on the test set\n",
    "y_pred = model.predict(X_test)\n",
    "\n",
    "# Evaluate the model using accuracy score\n",
    "accuracy = accuracy_score(y_test, y_pred)\n",
    "print(\"Accuracy:\", accuracy)\n",
    "\n"
   ]
  },
  {
   "cell_type": "code",
   "execution_count": null,
   "metadata": {},
   "outputs": [],
   "source": []
  },
  {
   "cell_type": "code",
   "execution_count": 16,
   "metadata": {},
   "outputs": [
    {
     "name": "stdout",
     "output_type": "stream",
     "text": [
      "   position  res_place  father_A Giant Valentine  father_A Little Warm   \n",
      "0       1.0        1.0                     False                 False  \\\n",
      "1       2.0        1.0                     False                 False   \n",
      "2       3.0        1.0                     False                 False   \n",
      "3       4.0        0.0                     False                 False   \n",
      "4       5.0        0.0                     False                 False   \n",
      "\n",
      "   father_A P Arrow  father_A. P. Answer  father_A. P. Ridge   \n",
      "0             False                False               False  \\\n",
      "1             False                False               False   \n",
      "2             False                False               False   \n",
      "3             False                False               False   \n",
      "4             False                False               False   \n",
      "\n",
      "   father_A. P. Warrior  father_A.P. Delta  father_Abajo  ...  father_Zebedee   \n",
      "0                 False              False         False  ...           False  \\\n",
      "1                 False              False         False  ...           False   \n",
      "2                 False              False         False  ...           False   \n",
      "3                 False              False         False  ...           False   \n",
      "4                 False              False         False  ...           False   \n",
      "\n",
      "   father_Zed  father_Zenno Rob Roy  father_Zensational  father_Zerpour   \n",
      "0       False                 False               False           False  \\\n",
      "1       False                 False               False           False   \n",
      "2       False                 False               False           False   \n",
      "3       False                 False               False           False   \n",
      "4       False                 False               False           False   \n",
      "\n",
      "   father_Zip Quick  father_Zivo  father_Zizany  father_Zoffany   \n",
      "0             False        False          False           False  \\\n",
      "1             False        False          False           False   \n",
      "2             False        False          False           False   \n",
      "3             False        False          False           False   \n",
      "4             False        False          False           False   \n",
      "\n",
      "   father_Zoustar  \n",
      "0           False  \n",
      "1           False  \n",
      "2           False  \n",
      "3           False  \n",
      "4           False  \n",
      "\n",
      "[5 rows x 2761 columns]\n"
     ]
    }
   ],
   "source": [
    "# Perform one-hot encoding on the 'father' column\n",
    "father_encoded = pd.get_dummies(race_df_selected['father'], prefix='father')\n",
    "\n",
    "# Concatenate the encoded columns with the original dataframe\n",
    "race_df_encoded = pd.concat([race_df_selected.drop('father', axis=1), father_encoded], axis=1)\n",
    "\n",
    "# Display the encoded DataFrame\n",
    "print(race_df_encoded.head())\n"
   ]
  },
  {
   "cell_type": "code",
   "execution_count": 17,
   "metadata": {},
   "outputs": [
    {
     "name": "stdout",
     "output_type": "stream",
     "text": [
      "Confusion Matrix:\n",
      "[[20785   871]\n",
      " [  210  8037]]\n",
      "\n",
      "Classification Report:\n",
      "              precision    recall  f1-score   support\n",
      "\n",
      "         0.0       0.99      0.96      0.97     21656\n",
      "         1.0       0.90      0.97      0.94      8247\n",
      "\n",
      "    accuracy                           0.96     29903\n",
      "   macro avg       0.95      0.97      0.96     29903\n",
      "weighted avg       0.97      0.96      0.96     29903\n",
      "\n"
     ]
    },
    {
     "data": {
      "image/png": "[encoded data removed]",
      "text/plain": [
       "<Figure size 800x600 with 2 Axes>"
      ]
     },
     "metadata": {},
     "output_type": "display_data"
    }
   ],
   "source": [
    "from sklearn.metrics import confusion_matrix, classification_report\n",
    "import seaborn as sns\n",
    "\n",
    "\n",
    "# Create a confusion matrix\n",
    "cm = confusion_matrix(y_test, y_pred)\n",
    "\n",
    "# Create a classification report\n",
    "report = classification_report(y_test, y_pred)\n",
    "\n",
    "# Print the confusion matrix and classification report\n",
    "print(\"Confusion Matrix:\")\n",
    "print(cm)\n",
    "print(\"\\nClassification Report:\")\n",
    "print(report)\n",
    "\n",
    "# Plot the confusion matrix\n",
    "plt.figure(figsize=(8, 6))\n",
    "sns.heatmap(cm, annot=True, cmap='Blues', fmt='g')\n",
    "plt.title('Confusion Matrix')\n",
    "plt.xlabel('Predicted')\n",
    "plt.ylabel('Actual')\n",
    "plt.show()\n",
    "\n"
   ]
  },
  {
   "cell_type": "code",
   "execution_count": 18,
   "metadata": {},
   "outputs": [
    {
     "data": {
      "image/png": "[encoded data removed]",
      "text/plain": [
       "<Figure size 640x480 with 1 Axes>"
      ]
     },
     "metadata": {},
     "output_type": "display_data"
    }
   ],
   "source": [
    "# Calculate the average win rate\n",
    "average_win_rate = y_test.mean()\n",
    "\n",
    "# Calculate the precision of the model predictions\n",
    "precision = accuracy\n",
    "\n",
    "# Plotting the results\n",
    "labels = ['Average Win Rate', 'Model Predictions']\n",
    "values = [average_win_rate, precision]\n",
    "\n",
    "plt.bar(labels, values)\n",
    "plt.xlabel('Results')\n",
    "plt.ylabel('Accuracy / Precision')\n",
    "plt.title('Comparison: Average Win Rate vs. Model Predictions')\n",
    "plt.show()\n"
   ]
  },
  {
   "cell_type": "code",
   "execution_count": 19,
   "metadata": {},
   "outputs": [],
   "source": [
    "\n",
    "# Combine y_test and y_pred into a DataFrame\n",
    "predictions_df = pd.DataFrame({'Actual': y_test, 'Predicted': y_pred})\n",
    "\n",
    "# Save the DataFrame to a CSV file\n",
    "predictions_df.to_csv('predictions.csv', index=False)\n"
   ]
  },
  {
   "cell_type": "markdown",
   "metadata": {
    "colab_type": "text",
    "id": "vq-kfT6yUewG"
   },
   "source": [
    "Feature importance analysis for the logistic regression to see which features have the most influence on the predictions\n",
    "\n",
    "father_Daiwa Major', 'father_Screen Hero', and 'father_Deep Impact' features are the most influential positive features, as they have relatively large positive coefficients"
   ]
  },
  {
   "cell_type": "code",
   "execution_count": 20,
   "metadata": {
    "colab": {
     "base_uri": "https://localhost:8080/",
     "height": 153
    },
    "colab_type": "code",
    "id": "b4wkcAo7Uewz",
    "outputId": "94eab3b2-e29f-4abb-a327-4d8838c3a3a9"
   },
   "outputs": [
    {
     "name": "stdout",
     "output_type": "stream",
     "text": [
      "Feature Importances:\n",
      "                    Feature  Coefficient\n",
      "0                  position    -3.560428\n",
      "551      father_Daiwa Major     2.126464\n",
      "2108     father_Screen Hero     2.034203\n",
      "590      father_Deep Impact     1.876714\n",
      "2050       father_Rulership     1.736319\n",
      "...                     ...          ...\n",
      "776           father_Etched     0.000000\n",
      "773      father_Espoir City     0.000000\n",
      "1867       father_Pool Play     0.000000\n",
      "767          father_Erewhon     0.000000\n",
      "835   father_Filoso Emperor     0.000000\n",
      "\n",
      "[2760 rows x 2 columns]\n"
     ]
    }
   ],
   "source": [
    "# Get the feature coefficients from the trained logistic regression model\n",
    "feature_importance = model.coef_[0]\n",
    "\n",
    "# Create a DataFrame to store the feature names and their corresponding coefficients\n",
    "coef_df = pd.DataFrame({'Feature': X.columns, 'Coefficient': feature_importance})\n",
    "\n",
    "# Sort the DataFrame by absolute coefficient values in descending order\n",
    "coef_df = coef_df.reindex(coef_df['Coefficient'].abs().sort_values(ascending=False).index)\n",
    "\n",
    "# Display the feature importances\n",
    "print(\"Feature Importances:\")\n",
    "print(coef_df)\n"
   ]
  },
  {
   "cell_type": "code",
   "execution_count": 21,
   "metadata": {
    "colab": {
     "base_uri": "https://localhost:8080/",
     "height": 153
    },
    "colab_type": "code",
    "id": "HCKNp0aEUew3",
    "outputId": "a0925899-7b0a-4eb0-c805-214a62345509"
   },
   "outputs": [
    {
     "name": "stdout",
     "output_type": "stream",
     "text": [
      "Incorrectly Predicted Samples:\n",
      "        Actual  Predicted  Correct\n",
      "6832       0.0          1    False\n",
      "113131     0.0          1    False\n",
      "140137     0.0          1    False\n",
      "61718      0.0          1    False\n",
      "21455      0.0          1    False\n",
      "...        ...        ...      ...\n",
      "75034      0.0          1    False\n",
      "75113      0.0          1    False\n",
      "55338      0.0          1    False\n",
      "134494     0.0          1    False\n",
      "76052      0.0          1    False\n",
      "\n",
      "[1081 rows x 3 columns]\n"
     ]
    },
    {
     "data": {
      "image/png": "[encoded data removed]",
      "text/plain": [
       "<Figure size 800x600 with 1 Axes>"
      ]
     },
     "metadata": {},
     "output_type": "display_data"
    }
   ],
   "source": [
    "# Get the predicted probabilities for the positive class (class 1)\n",
    "y_probs = model.predict_proba(X_test)[:, 1]\n",
    "\n",
    "# Convert predicted probabilities to binary predictions based on a threshold\n",
    "threshold = 0.5\n",
    "y_pred_binary = np.where(y_probs >= threshold, 1, 0)\n",
    "\n",
    "# Create a DataFrame with the actual and predicted values\n",
    "error_analysis_df = pd.DataFrame({'Actual': y_test, 'Predicted': y_pred_binary})\n",
    "\n",
    "# Add a column to indicate correct or incorrect predictions\n",
    "error_analysis_df['Correct'] = error_analysis_df['Actual'] == error_analysis_df['Predicted']\n",
    "\n",
    "# Filter rows where predictions are incorrect\n",
    "incorrect_predictions = error_analysis_df[error_analysis_df['Correct'] == False]\n",
    "\n",
    "# Optionally, display the incorrectly predicted samples\n",
    "print(\"Incorrectly Predicted Samples:\")\n",
    "print(incorrect_predictions)\n",
    "\n",
    "# Plot a histogram of the model's prediction probabilities for incorrectly predicted samples\n",
    "plt.figure(figsize=(8, 6))\n",
    "plt.hist(y_probs[error_analysis_df['Correct'] == False], bins=20, alpha=0.7, color='red', label='Incorrect Predictions')\n",
    "plt.hist(y_probs[error_analysis_df['Correct'] == True], bins=20, alpha=0.7, color='green', label='Correct Predictions')\n",
    "plt.xlabel('Prediction Probability')\n",
    "plt.ylabel('Frequency')\n",
    "plt.title('Prediction Probabilities for Incorrectly Predicted Samples')\n",
    "plt.legend(loc='upper left')\n",
    "plt.show()\n"
   ]
  },
  {
   "cell_type": "code",
   "execution_count": null,
   "metadata": {
    "colab": {
     "base_uri": "https://localhost:8080/",
     "height": 153
    },
    "colab_type": "code",
    "id": "uppVIRZ3Uew8",
    "outputId": "69b30798-671a-4466-ba21-804b7282b2bf"
   },
   "outputs": [],
   "source": []
  },
  {
   "cell_type": "code",
   "execution_count": 22,
   "metadata": {
    "colab": {
     "base_uri": "https://localhost:8080/",
     "height": 34
    },
    "colab_type": "code",
    "id": "_p_Fft--Uew_",
    "outputId": "f1c2a79c-2847-4967-a974-7db4ff2afbeb"
   },
   "outputs": [
    {
     "data": {
      "image/png": "[encoded data removed]",
      "text/plain": [
       "<Figure size 1000x600 with 1 Axes>"
      ]
     },
     "metadata": {},
     "output_type": "display_data"
    }
   ],
   "source": [
    "import matplotlib.pyplot as plt\n",
    "\n",
    "# Calculate the number of offspring for each father\n",
    "father_counts = race_df['father'].value_counts()\n",
    "\n",
    "# Sort the fathers based on the number of offspring in descending order\n",
    "top_10_fathers = father_counts.head(10)\n",
    "\n",
    "# Create a bar plot to visualize the number of offspring for each father\n",
    "plt.figure(figsize=(10, 6))\n",
    "plt.bar(top_10_fathers.index, top_10_fathers.values)\n",
    "plt.xlabel('Father')\n",
    "plt.ylabel('Number of Offspring')\n",
    "plt.title('Top 10 Fathers with the Most Offspring')\n",
    "plt.xticks(rotation=45, ha='right')\n",
    "plt.tight_layout()\n",
    "plt.show()\n"
   ]
  },
  {
   "cell_type": "markdown",
   "metadata": {
    "colab_type": "text",
    "id": "dO0pdWQSUexD"
   },
   "source": []
  },
  {
   "cell_type": "code",
   "execution_count": 29,
   "metadata": {
    "colab": {},
    "colab_type": "code",
    "id": "Z-0pF6RVUexE"
   },
   "outputs": [
    {
     "data": {
      "image/png": "[encoded data removed]",
      "text/plain": [
       "<Figure size 1200x800 with 1 Axes>"
      ]
     },
     "metadata": {},
     "output_type": "display_data"
    }
   ],
   "source": [
    "import matplotlib.pyplot as plt\n",
    "\n",
    "# Calculate the number of offspring for each father\n",
    "father_counts = race_df['father'].value_counts()\n",
    "\n",
    "# Sort the fathers based on the number of offspring in descending order and select the top 10 fathers\n",
    "top_10_fathers = father_counts.head(10)\n",
    "\n",
    "# Filter the data to include only the top 10 fathers\n",
    "top_10_df = race_df[race_df['father'].isin(top_10_fathers.index)]\n",
    "\n",
    "# Calculate the number of offspring for each father-trainer combination\n",
    "father_trainer_counts = top_10_df.groupby(['father', 'position']).size().reset_index(name='count')\n",
    "\n",
    "# Sort the data based on the count in descending order to get the most frequent trainers for each father\n",
    "sorted_counts = father_trainer_counts.sort_values(['father', 'count'], ascending=[True, False])\n",
    "\n",
    "# Create a bar plot to visualize the top trainers for each father\n",
    "plt.figure(figsize=(12, 8))\n",
    "for father in top_10_fathers.index:\n",
    "    top_trainers = sorted_counts[sorted_counts['father'] == father].head(3)  # Show top 3 trainers for each father\n",
    "    plt.bar(top_trainers['position'], top_trainers['count'], label=father)\n",
    "\n",
    "plt.xlabel('position')\n",
    "plt.ylabel('Number of Offspring')\n",
    "plt.title('Top Trainers for the Top 10 Fathers')\n",
    "plt.xticks(rotation=45, ha='right')\n",
    "plt.legend(title='Father')\n",
    "plt.tight_layout()\n",
    "plt.show()\n"
   ]
  },
  {
   "cell_type": "code",
   "execution_count": null,
   "metadata": {
    "colab": {
     "base_uri": "https://localhost:8080/",
     "height": 142
    },
    "colab_type": "code",
    "id": "9XMUMESlUexI",
    "outputId": "cb503614-560a-47d3-fee7-4c9639f9301a"
   },
   "outputs": [],
   "source": []
  },
  {
   "cell_type": "code",
   "execution_count": null,
   "metadata": {
    "colab": {},
    "colab_type": "code",
    "id": "WOj-z65ZXNzX"
   },
   "outputs": [],
   "source": []
  },
  {
   "cell_type": "code",
   "execution_count": null,
   "metadata": {},
   "outputs": [],
   "source": []
  }
 ],
 "metadata": {
  "anaconda-cloud": {},
  "colab": {
   "collapsed_sections": [],
   "name": "spark_dataframe_basics.ipynb",
   "provenance": []
  },
  "kernel_info": {
   "name": "python3"
  },
  "kernelspec": {
   "display_name": "Python 3 (ipykernel)",
   "language": "python",
   "name": "python3"
  },
  "language_info": {
   "codemirror_mode": {
    "name": "ipython",
    "version": 3
   },
   "file_extension": ".py",
   "mimetype": "text/x-python",
   "name": "python",
   "nbconvert_exporter": "python",
   "pygments_lexer": "ipython3",
   "version": "3.9.13"
  },
  "nbpresent": {
   "slides": {},
   "themes": {
    "default": "0535adbc-b74f-46cc-9cd6-4eabe2477c8e",
    "theme": {
     "0535adbc-b74f-46cc-9cd6-4eabe2477c8e": {
      "backgrounds": {
       "backgroundColor": {
        "background-color": "backgroundColor",
        "id": "backgroundColor"
       }
      },
      "id": "0535adbc-b74f-46cc-9cd6-4eabe2477c8e",
      "palette": {
       "backgroundColor": {
        "id": "backgroundColor",
        "rgb": [
         43,
         43,
         43
        ]
       },
       "headingColor": {
        "id": "headingColor",
        "rgb": [
         238,
         238,
         238
        ]
       },
       "linkColor": {
        "id": "linkColor",
        "rgb": [
         19,
         218,
         236
        ]
       },
       "mainColor": {
        "id": "mainColor",
        "rgb": [
         238,
         238,
         238
        ]
       }
      },
      "rules": {
       "a": {
        "color": "linkColor"
       },
       "h1": {
        "color": "headingColor",
        "font-family": "Oswald",
        "font-size": 7
       },
       "h2": {
        "color": "headingColor",
        "font-family": "Oswald",
        "font-size": 5
       },
       "h3": {
        "color": "headingColor",
        "font-family": "Oswald",
        "font-size": 3.75
       },
       "h4": {
        "color": "headingColor",
        "font-family": "Oswald",
        "font-size": 3
       },
       "h5": {
        "color": "headingColor",
        "font-family": "Oswald"
       },
       "h6": {
        "color": "headingColor",
        "font-family": "Oswald"
       },
       "h7": {
        "color": "headingColor",
        "font-family": "Oswald"
       },
       "li": {
        "color": "mainColor",
        "font-family": "Lato",
        "font-size": 5
       },
       "p": {
        "color": "mainColor",
        "font-family": "Lato",
        "font-size": 5
       }
      },
      "text-base": {
       "color": "mainColor",
       "font-family": "Lato",
       "font-size": 5
      }
     },
     "cc59980f-cb69-400a-b63a-1fb85ca73c8a": {
      "backgrounds": {
       "dc7afa04-bf90-40b1-82a5-726e3cff5267": {
        "background-color": "31af15d2-7e15-44c5-ab5e-e04b16a89eff",
        "id": "dc7afa04-bf90-40b1-82a5-726e3cff5267"
       }
      },
      "id": "cc59980f-cb69-400a-b63a-1fb85ca73c8a",
      "palette": {
       "19cc588f-0593-49c9-9f4b-e4d7cc113b1c": {
        "id": "19cc588f-0593-49c9-9f4b-e4d7cc113b1c",
        "rgb": [
         252,
         252,
         252
        ]
       },
       "31af15d2-7e15-44c5-ab5e-e04b16a89eff": {
        "id": "31af15d2-7e15-44c5-ab5e-e04b16a89eff",
        "rgb": [
         68,
         68,
         68
        ]
       },
       "50f92c45-a630-455b-aec3-788680ec7410": {
        "id": "50f92c45-a630-455b-aec3-788680ec7410",
        "rgb": [
         197,
         226,
         245
        ]
       },
       "c5cc3653-2ee1-402a-aba2-7caae1da4f6c": {
        "id": "c5cc3653-2ee1-402a-aba2-7caae1da4f6c",
        "rgb": [
         43,
         126,
         184
        ]
       },
       "efa7f048-9acb-414c-8b04-a26811511a21": {
        "id": "efa7f048-9acb-414c-8b04-a26811511a21",
        "rgb": [
         25.118061674008803,
         73.60176211453744,
         107.4819383259912
        ]
       }
      },
      "rules": {
       "a": {
        "color": "19cc588f-0593-49c9-9f4b-e4d7cc113b1c"
       },
       "blockquote": {
        "color": "50f92c45-a630-455b-aec3-788680ec7410",
        "font-size": 3
       },
       "code": {
        "font-family": "Anonymous Pro"
       },
       "h1": {
        "color": "19cc588f-0593-49c9-9f4b-e4d7cc113b1c",
        "font-family": "Merriweather",
        "font-size": 8
       },
       "h2": {
        "color": "19cc588f-0593-49c9-9f4b-e4d7cc113b1c",
        "font-family": "Merriweather",
        "font-size": 6
       },
       "h3": {
        "color": "50f92c45-a630-455b-aec3-788680ec7410",
        "font-family": "Lato",
        "font-size": 5.5
       },
       "h4": {
        "color": "c5cc3653-2ee1-402a-aba2-7caae1da4f6c",
        "font-family": "Lato",
        "font-size": 5
       },
       "h5": {
        "font-family": "Lato"
       },
       "h6": {
        "font-family": "Lato"
       },
       "h7": {
        "font-family": "Lato"
       },
       "li": {
        "color": "50f92c45-a630-455b-aec3-788680ec7410",
        "font-size": 3.25
       },
       "pre": {
        "font-family": "Anonymous Pro",
        "font-size": 4
       }
      },
      "text-base": {
       "color": "19cc588f-0593-49c9-9f4b-e4d7cc113b1c",
       "font-family": "Lato",
       "font-size": 4
      }
     }
    }
   }
  },
  "nteract": {
   "version": "0.10.0"
  },
  "varInspector": {
   "cols": {
    "lenName": 16,
    "lenType": 16,
    "lenVar": 40
   },
   "kernels_config": {
    "python": {
     "delete_cmd_postfix": "",
     "delete_cmd_prefix": "del ",
     "library": "var_list.py",
     "varRefreshCmd": "print(var_dic_list())"
    },
    "r": {
     "delete_cmd_postfix": ") ",
     "delete_cmd_prefix": "rm(",
     "library": "var_list.r",
     "varRefreshCmd": "cat(var_dic_list()) "
    }
   },
   "types_to_exclude": [
    "module",
    "function",
    "builtin_function_or_method",
    "instance",
    "_Feature"
   ],
   "window_display": false
  }
 },
 "nbformat": 4,
 "nbformat_minor": 4
}
