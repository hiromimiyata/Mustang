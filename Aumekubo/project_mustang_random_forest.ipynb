{
 "cells": [
  {
   "cell_type": "code",
   "execution_count": 1,
   "id": "594e2852",
   "metadata": {},
   "outputs": [],
   "source": [
    "# Import our dependencies\n",
    " \n",
    "import pandas as pd\n",
    "from pathlib import Path\n",
    "from sklearn.ensemble import RandomForestClassifier\n",
    "from sklearn.preprocessing import StandardScaler\n",
    "from sklearn.model_selection import train_test_split\n",
    "from sklearn.metrics import confusion_matrix, accuracy_score, classification_report\n",
    "%matplotlib inline"
   ]
  },
  {
   "cell_type": "markdown",
   "id": "eb3295f5",
   "metadata": {},
   "source": [
    "### For data clean up pls refer to CleanUp file "
   ]
  },
  {
   "cell_type": "markdown",
   "id": "d1f3b9c6",
   "metadata": {},
   "source": [
    "# **Preprocessing Model 2 - Characteristics of a Horse winner**"
   ]
  },
  {
   "cell_type": "markdown",
   "id": "3aed5758",
   "metadata": {},
   "source": [
    " Step 1: Read the filtered_df_tree.csv data from the Resources folder into a Pandas DataFrame."
   ]
  },
  {
   "cell_type": "code",
   "execution_count": 3,
   "id": "9d2ec3f5",
   "metadata": {},
   "outputs": [
    {
     "data": {
      "text/html": [
       "<div>\n",
       "<style scoped>\n",
       "    .dataframe tbody tr th:only-of-type {\n",
       "        vertical-align: middle;\n",
       "    }\n",
       "\n",
       "    .dataframe tbody tr th {\n",
       "        vertical-align: top;\n",
       "    }\n",
       "\n",
       "    .dataframe thead th {\n",
       "        text-align: right;\n",
       "    }\n",
       "</style>\n",
       "<table border=\"1\" class=\"dataframe\">\n",
       "  <thead>\n",
       "    <tr style=\"text-align: right;\">\n",
       "      <th></th>\n",
       "      <th>rid</th>\n",
       "      <th>winningTime</th>\n",
       "      <th>metric</th>\n",
       "      <th>ncond</th>\n",
       "      <th>class</th>\n",
       "      <th>condition</th>\n",
       "      <th>horseName</th>\n",
       "      <th>trainerName</th>\n",
       "      <th>jockeyName</th>\n",
       "      <th>age</th>\n",
       "      <th>...</th>\n",
       "      <th>outHandicap</th>\n",
       "      <th>RPR</th>\n",
       "      <th>saddle</th>\n",
       "      <th>father</th>\n",
       "      <th>TR</th>\n",
       "      <th>OR</th>\n",
       "      <th>runners</th>\n",
       "      <th>weight</th>\n",
       "      <th>res_win</th>\n",
       "      <th>res_place</th>\n",
       "    </tr>\n",
       "  </thead>\n",
       "  <tbody>\n",
       "    <tr>\n",
       "      <th>0</th>\n",
       "      <td>10312</td>\n",
       "      <td>253.88</td>\n",
       "      <td>3218.0</td>\n",
       "      <td>10</td>\n",
       "      <td>4</td>\n",
       "      <td>Good To Soft</td>\n",
       "      <td>Waterproof</td>\n",
       "      <td>Shaun Keightley</td>\n",
       "      <td>Brendan Powell</td>\n",
       "      <td>4.0</td>\n",
       "      <td>...</td>\n",
       "      <td>2.541359</td>\n",
       "      <td>103.0</td>\n",
       "      <td>9.0</td>\n",
       "      <td>Pour Moi</td>\n",
       "      <td>103.0</td>\n",
       "      <td>80.446685</td>\n",
       "      <td>9.0</td>\n",
       "      <td>66.0</td>\n",
       "      <td>1.0</td>\n",
       "      <td>1.0</td>\n",
       "    </tr>\n",
       "    <tr>\n",
       "      <th>1</th>\n",
       "      <td>10312</td>\n",
       "      <td>253.88</td>\n",
       "      <td>3218.0</td>\n",
       "      <td>10</td>\n",
       "      <td>4</td>\n",
       "      <td>Good To Soft</td>\n",
       "      <td>Eva's Diva</td>\n",
       "      <td>Phil Middleton</td>\n",
       "      <td>Mr Sam Lee</td>\n",
       "      <td>6.0</td>\n",
       "      <td>...</td>\n",
       "      <td>2.541359</td>\n",
       "      <td>96.0</td>\n",
       "      <td>7.0</td>\n",
       "      <td>Getaway</td>\n",
       "      <td>89.0</td>\n",
       "      <td>110.000000</td>\n",
       "      <td>9.0</td>\n",
       "      <td>65.0</td>\n",
       "      <td>0.0</td>\n",
       "      <td>1.0</td>\n",
       "    </tr>\n",
       "    <tr>\n",
       "      <th>2</th>\n",
       "      <td>10312</td>\n",
       "      <td>253.88</td>\n",
       "      <td>3218.0</td>\n",
       "      <td>10</td>\n",
       "      <td>4</td>\n",
       "      <td>Good To Soft</td>\n",
       "      <td>Incredible Dream</td>\n",
       "      <td>Conrad Allen</td>\n",
       "      <td>Joshua Moore</td>\n",
       "      <td>7.0</td>\n",
       "      <td>...</td>\n",
       "      <td>2.541359</td>\n",
       "      <td>97.0</td>\n",
       "      <td>5.0</td>\n",
       "      <td>Vale Of York</td>\n",
       "      <td>88.0</td>\n",
       "      <td>80.446685</td>\n",
       "      <td>9.0</td>\n",
       "      <td>72.0</td>\n",
       "      <td>0.0</td>\n",
       "      <td>1.0</td>\n",
       "    </tr>\n",
       "  </tbody>\n",
       "</table>\n",
       "<p>3 rows × 23 columns</p>\n",
       "</div>"
      ],
      "text/plain": [
       "     rid  winningTime  metric  ncond  class     condition         horseName   \n",
       "0  10312       253.88  3218.0     10      4  Good To Soft        Waterproof  \\\n",
       "1  10312       253.88  3218.0     10      4  Good To Soft        Eva's Diva   \n",
       "2  10312       253.88  3218.0     10      4  Good To Soft  Incredible Dream   \n",
       "\n",
       "       trainerName      jockeyName  age  ...  outHandicap    RPR  saddle   \n",
       "0  Shaun Keightley  Brendan Powell  4.0  ...     2.541359  103.0     9.0  \\\n",
       "1   Phil Middleton      Mr Sam Lee  6.0  ...     2.541359   96.0     7.0   \n",
       "2     Conrad Allen    Joshua Moore  7.0  ...     2.541359   97.0     5.0   \n",
       "\n",
       "         father     TR          OR runners  weight  res_win  res_place  \n",
       "0      Pour Moi  103.0   80.446685     9.0    66.0      1.0        1.0  \n",
       "1       Getaway   89.0  110.000000     9.0    65.0      0.0        1.0  \n",
       "2  Vale Of York   88.0   80.446685     9.0    72.0      0.0        1.0  \n",
       "\n",
       "[3 rows x 23 columns]"
      ]
     },
     "execution_count": 3,
     "metadata": {},
     "output_type": "execute_result"
    }
   ],
   "source": [
    "file_path = r'C:\\Users\\aumek\\OneDrive\\Desktop\\Git_Personnal_Rep\\Resource_mustang\\coverted_tree_df.csv'\n",
    "\n",
    "# Read the CSV file into pandas\n",
    "random_forest = pd.read_csv(file_path)\n",
    "random_forest.head(3)\n"
   ]
  },
  {
   "cell_type": "code",
   "execution_count": 4,
   "id": "d2bb68ad",
   "metadata": {},
   "outputs": [
    {
     "name": "stdout",
     "output_type": "stream",
     "text": [
      "rid            14077\n",
      "winningTime     8692\n",
      "metric            53\n",
      "ncond             18\n",
      "class              8\n",
      "condition         18\n",
      "horseName      44803\n",
      "trainerName     4250\n",
      "jockeyName      2822\n",
      "age               16\n",
      "isFav              2\n",
      "position          35\n",
      "distance           8\n",
      "outHandicap       27\n",
      "RPR              178\n",
      "saddle            36\n",
      "father          2691\n",
      "TR               158\n",
      "OR               171\n",
      "runners           27\n",
      "weight            34\n",
      "res_win            2\n",
      "res_place          2\n",
      "dtype: int64\n"
     ]
    }
   ],
   "source": [
    "# Determine the number of unique values in each column.\n",
    "unique_application = random_forest.nunique()\n",
    "print(unique_application)"
   ]
  },
  {
   "cell_type": "code",
   "execution_count": 5,
   "id": "21de62fe",
   "metadata": {},
   "outputs": [
    {
     "name": "stdout",
     "output_type": "stream",
     "text": [
      "Column 'res_win' is present in the dataset.\n"
     ]
    }
   ],
   "source": [
    "if \"res_win\" in random_forest.columns:\n",
    "    print(\"Column 'res_win' is present in the dataset.\")\n",
    "else:\n",
    "    print(\"Column 'res_win' is not present in the dataset.\")"
   ]
  },
  {
   "cell_type": "code",
   "execution_count": 6,
   "id": "42235395",
   "metadata": {},
   "outputs": [
    {
     "data": {
      "text/plain": [
       "res_win\n",
       "0.0    128817\n",
       "1.0     14094\n",
       "Name: count, dtype: int64"
      ]
     },
     "execution_count": 6,
     "metadata": {},
     "output_type": "execute_result"
    }
   ],
   "source": [
    "# Look at res_win value counts for binning - where 0=did not win; 1=won\n",
    "application_type_counts = random_forest['res_win'].value_counts()\n",
    "application_type_counts"
   ]
  },
  {
   "cell_type": "code",
   "execution_count": 7,
   "id": "6dc11d34",
   "metadata": {},
   "outputs": [
    {
     "name": "stdout",
     "output_type": "stream",
     "text": [
      "Columns with NaN values:\n",
      "[]\n"
     ]
    }
   ],
   "source": [
    "# Check for missing values (NaN)\n",
    "nan_columns = random_forest.columns[random_forest.isnull().any()].tolist()\n",
    "print(\"Columns with NaN values:\")\n",
    "print(nan_columns)"
   ]
  },
  {
   "cell_type": "code",
   "execution_count": 8,
   "id": "52a1f187",
   "metadata": {},
   "outputs": [
    {
     "name": "stdout",
     "output_type": "stream",
     "text": [
      "Number of Rows: 142911\n",
      "Number of Columns: 23\n"
     ]
    }
   ],
   "source": [
    "num_rows = random_forest.shape[0]\n",
    "num_columns = random_forest.shape[1]\n",
    "print(\"Number of Rows:\", num_rows)\n",
    "print(\"Number of Columns:\", num_columns)"
   ]
  },
  {
   "cell_type": "code",
   "execution_count": 9,
   "id": "19e1c044",
   "metadata": {},
   "outputs": [
    {
     "name": "stdout",
     "output_type": "stream",
     "text": [
      "Number of Rows: 30000\n",
      "Number of Columns: 23\n"
     ]
    }
   ],
   "source": [
    "sampled_df = random_forest.sample(n=30000, random_state=42)\n",
    "num_rows = sampled_df.shape[0]\n",
    "num_columns = sampled_df.shape[1]\n",
    "print(\"Number of Rows:\", num_rows)\n",
    "print(\"Number of Columns:\", num_columns)"
   ]
  },
  {
   "cell_type": "code",
   "execution_count": 10,
   "id": "cf9f4c38",
   "metadata": {},
   "outputs": [
    {
     "data": {
      "text/html": [
       "<div>\n",
       "<style scoped>\n",
       "    .dataframe tbody tr th:only-of-type {\n",
       "        vertical-align: middle;\n",
       "    }\n",
       "\n",
       "    .dataframe tbody tr th {\n",
       "        vertical-align: top;\n",
       "    }\n",
       "\n",
       "    .dataframe thead th {\n",
       "        text-align: right;\n",
       "    }\n",
       "</style>\n",
       "<table border=\"1\" class=\"dataframe\">\n",
       "  <thead>\n",
       "    <tr style=\"text-align: right;\">\n",
       "      <th></th>\n",
       "      <th>rid</th>\n",
       "      <th>winningTime</th>\n",
       "      <th>metric</th>\n",
       "      <th>ncond</th>\n",
       "      <th>class</th>\n",
       "      <th>age</th>\n",
       "      <th>isFav</th>\n",
       "      <th>position</th>\n",
       "      <th>distance</th>\n",
       "      <th>outHandicap</th>\n",
       "      <th>...</th>\n",
       "      <th>father_Zambezi Sun</th>\n",
       "      <th>father_Zamindar</th>\n",
       "      <th>father_Zanzibari</th>\n",
       "      <th>father_Zebedee</th>\n",
       "      <th>father_Zed</th>\n",
       "      <th>father_Zenno Rob Roy</th>\n",
       "      <th>father_Zerpour</th>\n",
       "      <th>father_Zivo</th>\n",
       "      <th>father_Zoffany</th>\n",
       "      <th>father_Zoustar</th>\n",
       "    </tr>\n",
       "  </thead>\n",
       "  <tbody>\n",
       "    <tr>\n",
       "      <th>101353</th>\n",
       "      <td>410815</td>\n",
       "      <td>222.40</td>\n",
       "      <td>3218.0</td>\n",
       "      <td>1</td>\n",
       "      <td>4</td>\n",
       "      <td>6.0</td>\n",
       "      <td>0.0</td>\n",
       "      <td>5.0</td>\n",
       "      <td>2.0</td>\n",
       "      <td>2.541359</td>\n",
       "      <td>...</td>\n",
       "      <td>False</td>\n",
       "      <td>False</td>\n",
       "      <td>False</td>\n",
       "      <td>False</td>\n",
       "      <td>False</td>\n",
       "      <td>False</td>\n",
       "      <td>False</td>\n",
       "      <td>False</td>\n",
       "      <td>False</td>\n",
       "      <td>False</td>\n",
       "    </tr>\n",
       "    <tr>\n",
       "      <th>29275</th>\n",
       "      <td>401605</td>\n",
       "      <td>93.58</td>\n",
       "      <td>1407.0</td>\n",
       "      <td>12</td>\n",
       "      <td>0</td>\n",
       "      <td>3.0</td>\n",
       "      <td>0.0</td>\n",
       "      <td>11.0</td>\n",
       "      <td>1407.0</td>\n",
       "      <td>2.541359</td>\n",
       "      <td>...</td>\n",
       "      <td>False</td>\n",
       "      <td>False</td>\n",
       "      <td>False</td>\n",
       "      <td>False</td>\n",
       "      <td>False</td>\n",
       "      <td>False</td>\n",
       "      <td>False</td>\n",
       "      <td>False</td>\n",
       "      <td>False</td>\n",
       "      <td>False</td>\n",
       "    </tr>\n",
       "    <tr>\n",
       "      <th>92053</th>\n",
       "      <td>409839</td>\n",
       "      <td>107.79</td>\n",
       "      <td>1810.0</td>\n",
       "      <td>8</td>\n",
       "      <td>0</td>\n",
       "      <td>4.0</td>\n",
       "      <td>0.0</td>\n",
       "      <td>1.0</td>\n",
       "      <td>1.0</td>\n",
       "      <td>2.541359</td>\n",
       "      <td>...</td>\n",
       "      <td>False</td>\n",
       "      <td>False</td>\n",
       "      <td>False</td>\n",
       "      <td>False</td>\n",
       "      <td>False</td>\n",
       "      <td>False</td>\n",
       "      <td>False</td>\n",
       "      <td>False</td>\n",
       "      <td>False</td>\n",
       "      <td>False</td>\n",
       "    </tr>\n",
       "    <tr>\n",
       "      <th>38706</th>\n",
       "      <td>404193</td>\n",
       "      <td>300.77</td>\n",
       "      <td>4323.5</td>\n",
       "      <td>3</td>\n",
       "      <td>0</td>\n",
       "      <td>6.0</td>\n",
       "      <td>0.0</td>\n",
       "      <td>40.0</td>\n",
       "      <td>2.0</td>\n",
       "      <td>2.541359</td>\n",
       "      <td>...</td>\n",
       "      <td>False</td>\n",
       "      <td>False</td>\n",
       "      <td>False</td>\n",
       "      <td>False</td>\n",
       "      <td>False</td>\n",
       "      <td>False</td>\n",
       "      <td>False</td>\n",
       "      <td>False</td>\n",
       "      <td>False</td>\n",
       "      <td>False</td>\n",
       "    </tr>\n",
       "    <tr>\n",
       "      <th>86312</th>\n",
       "      <td>409139</td>\n",
       "      <td>88.24</td>\n",
       "      <td>1407.0</td>\n",
       "      <td>0</td>\n",
       "      <td>5</td>\n",
       "      <td>9.0</td>\n",
       "      <td>0.0</td>\n",
       "      <td>11.0</td>\n",
       "      <td>1407.0</td>\n",
       "      <td>2.541359</td>\n",
       "      <td>...</td>\n",
       "      <td>False</td>\n",
       "      <td>False</td>\n",
       "      <td>False</td>\n",
       "      <td>False</td>\n",
       "      <td>False</td>\n",
       "      <td>False</td>\n",
       "      <td>False</td>\n",
       "      <td>False</td>\n",
       "      <td>False</td>\n",
       "      <td>False</td>\n",
       "    </tr>\n",
       "  </tbody>\n",
       "</table>\n",
       "<p>5 rows × 27431 columns</p>\n",
       "</div>"
      ],
      "text/plain": [
       "           rid  winningTime  metric  ncond  class  age  isFav  position   \n",
       "101353  410815       222.40  3218.0      1      4  6.0    0.0       5.0  \\\n",
       "29275   401605        93.58  1407.0     12      0  3.0    0.0      11.0   \n",
       "92053   409839       107.79  1810.0      8      0  4.0    0.0       1.0   \n",
       "38706   404193       300.77  4323.5      3      0  6.0    0.0      40.0   \n",
       "86312   409139        88.24  1407.0      0      5  9.0    0.0      11.0   \n",
       "\n",
       "        distance  outHandicap  ...  father_Zambezi Sun  father_Zamindar   \n",
       "101353       2.0     2.541359  ...               False            False  \\\n",
       "29275     1407.0     2.541359  ...               False            False   \n",
       "92053        1.0     2.541359  ...               False            False   \n",
       "38706        2.0     2.541359  ...               False            False   \n",
       "86312     1407.0     2.541359  ...               False            False   \n",
       "\n",
       "        father_Zanzibari  father_Zebedee  father_Zed  father_Zenno Rob Roy   \n",
       "101353             False           False       False                 False  \\\n",
       "29275              False           False       False                 False   \n",
       "92053              False           False       False                 False   \n",
       "38706              False           False       False                 False   \n",
       "86312              False           False       False                 False   \n",
       "\n",
       "        father_Zerpour  father_Zivo  father_Zoffany  father_Zoustar  \n",
       "101353           False        False           False           False  \n",
       "29275            False        False           False           False  \n",
       "92053            False        False           False           False  \n",
       "38706            False        False           False           False  \n",
       "86312            False        False           False           False  \n",
       "\n",
       "[5 rows x 27431 columns]"
      ]
     },
     "execution_count": 10,
     "metadata": {},
     "output_type": "execute_result"
    }
   ],
   "source": [
    "encoded_df = pd.get_dummies(sampled_df)\n",
    "encoded_df.head(5)"
   ]
  },
  {
   "cell_type": "markdown",
   "id": "7fb97cd4",
   "metadata": {},
   "source": [
    "### Further steps in the model-building process: feature selection, model selection, training, and evaluation ###"
   ]
  },
  {
   "cell_type": "code",
   "execution_count": 11,
   "id": "daa2df2c",
   "metadata": {},
   "outputs": [
    {
     "data": {
      "text/html": [
       "<div>\n",
       "<style scoped>\n",
       "    .dataframe tbody tr th:only-of-type {\n",
       "        vertical-align: middle;\n",
       "    }\n",
       "\n",
       "    .dataframe tbody tr th {\n",
       "        vertical-align: top;\n",
       "    }\n",
       "\n",
       "    .dataframe thead th {\n",
       "        text-align: right;\n",
       "    }\n",
       "</style>\n",
       "<table border=\"1\" class=\"dataframe\">\n",
       "  <thead>\n",
       "    <tr style=\"text-align: right;\">\n",
       "      <th></th>\n",
       "      <th>rid</th>\n",
       "      <th>winningTime</th>\n",
       "      <th>metric</th>\n",
       "      <th>ncond</th>\n",
       "      <th>class</th>\n",
       "      <th>age</th>\n",
       "      <th>isFav</th>\n",
       "      <th>position</th>\n",
       "      <th>distance</th>\n",
       "      <th>outHandicap</th>\n",
       "      <th>...</th>\n",
       "      <th>father_Zambezi Sun</th>\n",
       "      <th>father_Zamindar</th>\n",
       "      <th>father_Zanzibari</th>\n",
       "      <th>father_Zebedee</th>\n",
       "      <th>father_Zed</th>\n",
       "      <th>father_Zenno Rob Roy</th>\n",
       "      <th>father_Zerpour</th>\n",
       "      <th>father_Zivo</th>\n",
       "      <th>father_Zoffany</th>\n",
       "      <th>father_Zoustar</th>\n",
       "    </tr>\n",
       "  </thead>\n",
       "  <tbody>\n",
       "    <tr>\n",
       "      <th>101353</th>\n",
       "      <td>410815</td>\n",
       "      <td>222.40</td>\n",
       "      <td>3218.0</td>\n",
       "      <td>1</td>\n",
       "      <td>4</td>\n",
       "      <td>6.0</td>\n",
       "      <td>0.0</td>\n",
       "      <td>5.0</td>\n",
       "      <td>2.0</td>\n",
       "      <td>2.541359</td>\n",
       "      <td>...</td>\n",
       "      <td>False</td>\n",
       "      <td>False</td>\n",
       "      <td>False</td>\n",
       "      <td>False</td>\n",
       "      <td>False</td>\n",
       "      <td>False</td>\n",
       "      <td>False</td>\n",
       "      <td>False</td>\n",
       "      <td>False</td>\n",
       "      <td>False</td>\n",
       "    </tr>\n",
       "    <tr>\n",
       "      <th>29275</th>\n",
       "      <td>401605</td>\n",
       "      <td>93.58</td>\n",
       "      <td>1407.0</td>\n",
       "      <td>12</td>\n",
       "      <td>0</td>\n",
       "      <td>3.0</td>\n",
       "      <td>0.0</td>\n",
       "      <td>11.0</td>\n",
       "      <td>1407.0</td>\n",
       "      <td>2.541359</td>\n",
       "      <td>...</td>\n",
       "      <td>False</td>\n",
       "      <td>False</td>\n",
       "      <td>False</td>\n",
       "      <td>False</td>\n",
       "      <td>False</td>\n",
       "      <td>False</td>\n",
       "      <td>False</td>\n",
       "      <td>False</td>\n",
       "      <td>False</td>\n",
       "      <td>False</td>\n",
       "    </tr>\n",
       "    <tr>\n",
       "      <th>92053</th>\n",
       "      <td>409839</td>\n",
       "      <td>107.79</td>\n",
       "      <td>1810.0</td>\n",
       "      <td>8</td>\n",
       "      <td>0</td>\n",
       "      <td>4.0</td>\n",
       "      <td>0.0</td>\n",
       "      <td>1.0</td>\n",
       "      <td>1.0</td>\n",
       "      <td>2.541359</td>\n",
       "      <td>...</td>\n",
       "      <td>False</td>\n",
       "      <td>False</td>\n",
       "      <td>False</td>\n",
       "      <td>False</td>\n",
       "      <td>False</td>\n",
       "      <td>False</td>\n",
       "      <td>False</td>\n",
       "      <td>False</td>\n",
       "      <td>False</td>\n",
       "      <td>False</td>\n",
       "    </tr>\n",
       "    <tr>\n",
       "      <th>38706</th>\n",
       "      <td>404193</td>\n",
       "      <td>300.77</td>\n",
       "      <td>4323.5</td>\n",
       "      <td>3</td>\n",
       "      <td>0</td>\n",
       "      <td>6.0</td>\n",
       "      <td>0.0</td>\n",
       "      <td>40.0</td>\n",
       "      <td>2.0</td>\n",
       "      <td>2.541359</td>\n",
       "      <td>...</td>\n",
       "      <td>False</td>\n",
       "      <td>False</td>\n",
       "      <td>False</td>\n",
       "      <td>False</td>\n",
       "      <td>False</td>\n",
       "      <td>False</td>\n",
       "      <td>False</td>\n",
       "      <td>False</td>\n",
       "      <td>False</td>\n",
       "      <td>False</td>\n",
       "    </tr>\n",
       "    <tr>\n",
       "      <th>86312</th>\n",
       "      <td>409139</td>\n",
       "      <td>88.24</td>\n",
       "      <td>1407.0</td>\n",
       "      <td>0</td>\n",
       "      <td>5</td>\n",
       "      <td>9.0</td>\n",
       "      <td>0.0</td>\n",
       "      <td>11.0</td>\n",
       "      <td>1407.0</td>\n",
       "      <td>2.541359</td>\n",
       "      <td>...</td>\n",
       "      <td>False</td>\n",
       "      <td>False</td>\n",
       "      <td>False</td>\n",
       "      <td>False</td>\n",
       "      <td>False</td>\n",
       "      <td>False</td>\n",
       "      <td>False</td>\n",
       "      <td>False</td>\n",
       "      <td>False</td>\n",
       "      <td>False</td>\n",
       "    </tr>\n",
       "  </tbody>\n",
       "</table>\n",
       "<p>5 rows × 27430 columns</p>\n",
       "</div>"
      ],
      "text/plain": [
       "           rid  winningTime  metric  ncond  class  age  isFav  position   \n",
       "101353  410815       222.40  3218.0      1      4  6.0    0.0       5.0  \\\n",
       "29275   401605        93.58  1407.0     12      0  3.0    0.0      11.0   \n",
       "92053   409839       107.79  1810.0      8      0  4.0    0.0       1.0   \n",
       "38706   404193       300.77  4323.5      3      0  6.0    0.0      40.0   \n",
       "86312   409139        88.24  1407.0      0      5  9.0    0.0      11.0   \n",
       "\n",
       "        distance  outHandicap  ...  father_Zambezi Sun  father_Zamindar   \n",
       "101353       2.0     2.541359  ...               False            False  \\\n",
       "29275     1407.0     2.541359  ...               False            False   \n",
       "92053        1.0     2.541359  ...               False            False   \n",
       "38706        2.0     2.541359  ...               False            False   \n",
       "86312     1407.0     2.541359  ...               False            False   \n",
       "\n",
       "        father_Zanzibari  father_Zebedee  father_Zed  father_Zenno Rob Roy   \n",
       "101353             False           False       False                 False  \\\n",
       "29275              False           False       False                 False   \n",
       "92053              False           False       False                 False   \n",
       "38706              False           False       False                 False   \n",
       "86312              False           False       False                 False   \n",
       "\n",
       "        father_Zerpour  father_Zivo  father_Zoffany  father_Zoustar  \n",
       "101353           False        False           False           False  \n",
       "29275            False        False           False           False  \n",
       "92053            False        False           False           False  \n",
       "38706            False        False           False           False  \n",
       "86312            False        False           False           False  \n",
       "\n",
       "[5 rows x 27430 columns]"
      ]
     },
     "execution_count": 11,
     "metadata": {},
     "output_type": "execute_result"
    }
   ],
   "source": [
    " # Define features set\n",
    "features = encoded_df.copy()\n",
    "features.drop(\"res_win\", axis=1, inplace=True)\n",
    "features.head()\n"
   ]
  },
  {
   "cell_type": "code",
   "execution_count": 12,
   "id": "2545543f",
   "metadata": {},
   "outputs": [
    {
     "data": {
      "text/plain": [
       "array([[0.],\n",
       "       [0.],\n",
       "       [1.],\n",
       "       [0.],\n",
       "       [0.]])"
      ]
     },
     "execution_count": 12,
     "metadata": {},
     "output_type": "execute_result"
    }
   ],
   "source": [
    "# Define target vector\n",
    "target = encoded_df[\"res_win\"].values.reshape(-1, 1)\n",
    "target[:5]\n"
   ]
  },
  {
   "cell_type": "code",
   "execution_count": 13,
   "id": "0e7060dd",
   "metadata": {},
   "outputs": [],
   "source": [
    "# Splitting into Train and Test sets\n",
    "X_train, X_test, y_train, y_test = train_test_split(features, target, test_size=0.3, random_state=78)"
   ]
  },
  {
   "cell_type": "code",
   "execution_count": 14,
   "id": "e9add018",
   "metadata": {},
   "outputs": [],
   "source": [
    "# Creating StandardScaler instance\n",
    "scaler = StandardScaler()\n"
   ]
  },
  {
   "cell_type": "code",
   "execution_count": 15,
   "id": "2f99b01e",
   "metadata": {},
   "outputs": [],
   "source": [
    "# Fitting Standard Scaller\n",
    "X_scaler = scaler.fit(X_train)\n"
   ]
  },
  {
   "cell_type": "code",
   "execution_count": 16,
   "id": "a9519d3b",
   "metadata": {},
   "outputs": [],
   "source": [
    " # Scaling data\n",
    "X_train_scaled = X_scaler.transform(X_train)\n",
    "X_test_scaled = X_scaler.transform(X_test)"
   ]
  },
  {
   "cell_type": "markdown",
   "id": "6d917135",
   "metadata": {},
   "source": [
    " ## Fitting the RandomForest"
   ]
  },
  {
   "cell_type": "code",
   "execution_count": 17,
   "id": "9a99d92d",
   "metadata": {},
   "outputs": [],
   "source": [
    "# Create a random forest classifier\n",
    "rf_model = RandomForestClassifier(n_estimators=500, random_state=78)\n",
    "# Reshape the target vector y using ravel()\n",
    "y_train = y_train.ravel()"
   ]
  },
  {
   "cell_type": "code",
   "execution_count": 18,
   "id": "36ef5f83",
   "metadata": {},
   "outputs": [],
   "source": [
    "# Fitting the model\n",
    "rf_model = rf_model.fit(X_train_scaled, y_train)"
   ]
  },
  {
   "cell_type": "markdown",
   "id": "5a59d735",
   "metadata": {},
   "source": [
    "##  Making Predictions Using the RandomForest"
   ]
  },
  {
   "cell_type": "code",
   "execution_count": 19,
   "id": "2cfc1307",
   "metadata": {},
   "outputs": [],
   "source": [
    " # Making predictions using the testing data\n",
    "predictions = rf_model.predict(X_test_scaled)"
   ]
  },
  {
   "cell_type": "markdown",
   "id": "3373a42c",
   "metadata": {},
   "source": [
    " ## Model Evaluation"
   ]
  },
  {
   "cell_type": "code",
   "execution_count": 20,
   "id": "e8071fc3",
   "metadata": {},
   "outputs": [],
   "source": [
    " # Calculating the confusion matrix\n",
    "# Calculating the confusion matrix\n",
    "cm = confusion_matrix(y_test, predictions)\n",
    "cm_df = pd.DataFrame(\n",
    "    cm, index=[\"Actual 0\", \"Actual 1\"], columns=[\"Predicted 0\", \"Predicted 1\"]\n",
    ")\n",
    "\n",
    "# Calculating the accuracy score\n",
    "acc_score = accuracy_score(y_test, predictions)"
   ]
  },
  {
   "cell_type": "code",
   "execution_count": 21,
   "id": "cb41af14",
   "metadata": {},
   "outputs": [
    {
     "name": "stdout",
     "output_type": "stream",
     "text": [
      "Confusion Matrix\n"
     ]
    },
    {
     "data": {
      "text/html": [
       "<div>\n",
       "<style scoped>\n",
       "    .dataframe tbody tr th:only-of-type {\n",
       "        vertical-align: middle;\n",
       "    }\n",
       "\n",
       "    .dataframe tbody tr th {\n",
       "        vertical-align: top;\n",
       "    }\n",
       "\n",
       "    .dataframe thead th {\n",
       "        text-align: right;\n",
       "    }\n",
       "</style>\n",
       "<table border=\"1\" class=\"dataframe\">\n",
       "  <thead>\n",
       "    <tr style=\"text-align: right;\">\n",
       "      <th></th>\n",
       "      <th>Predicted 0</th>\n",
       "      <th>Predicted 1</th>\n",
       "    </tr>\n",
       "  </thead>\n",
       "  <tbody>\n",
       "    <tr>\n",
       "      <th>Actual 0</th>\n",
       "      <td>8036</td>\n",
       "      <td>0</td>\n",
       "    </tr>\n",
       "    <tr>\n",
       "      <th>Actual 1</th>\n",
       "      <td>0</td>\n",
       "      <td>964</td>\n",
       "    </tr>\n",
       "  </tbody>\n",
       "</table>\n",
       "</div>"
      ],
      "text/plain": [
       "          Predicted 0  Predicted 1\n",
       "Actual 0         8036            0\n",
       "Actual 1            0          964"
      ]
     },
     "metadata": {},
     "output_type": "display_data"
    },
    {
     "name": "stdout",
     "output_type": "stream",
     "text": [
      "Accuracy Score : 1.0\n",
      "Classification Report\n",
      "              precision    recall  f1-score   support\n",
      "\n",
      "         0.0       1.00      1.00      1.00      8036\n",
      "         1.0       1.00      1.00      1.00       964\n",
      "\n",
      "    accuracy                           1.00      9000\n",
      "   macro avg       1.00      1.00      1.00      9000\n",
      "weighted avg       1.00      1.00      1.00      9000\n",
      "\n"
     ]
    }
   ],
   "source": [
    "# Displaying results\n",
    "print(\"Confusion Matrix\")\n",
    "display(cm_df)\n",
    "print(f\"Accuracy Score : {acc_score}\")\n",
    "print(\"Classification Report\")\n",
    "print(classification_report(y_test, predictions))"
   ]
  },
  {
   "cell_type": "markdown",
   "id": "92bb387a",
   "metadata": {},
   "source": [
    "## Feature Importance"
   ]
  },
  {
   "cell_type": "code",
   "execution_count": 22,
   "id": "1c1b95a7",
   "metadata": {},
   "outputs": [
    {
     "data": {
      "text/plain": [
       "Index(['rid', 'winningTime', 'metric', 'ncond', 'class', 'condition',\n",
       "       'horseName', 'trainerName', 'jockeyName', 'age', 'isFav', 'position',\n",
       "       'distance', 'outHandicap', 'RPR', 'saddle', 'father', 'TR', 'OR',\n",
       "       'runners', 'weight', 'res_win', 'res_place'],\n",
       "      dtype='object')"
      ]
     },
     "execution_count": 22,
     "metadata": {},
     "output_type": "execute_result"
    }
   ],
   "source": [
    "random_forest.columns"
   ]
  },
  {
   "cell_type": "code",
   "execution_count": 23,
   "id": "e7e2a291",
   "metadata": {},
   "outputs": [],
   "source": [
    "# Filter the top 10 winner horses\n",
    "top_10_winners = random_forest[random_forest['res_win'] == 1].head(10)\n",
    "\n",
    "# Select the desired features for printing\n",
    "features_to_print = ['jockeyName', 'father', 'isFav', 'RPR','class', 'age' ]\n",
    "\n"
   ]
  },
  {
   "cell_type": "code",
   "execution_count": 57,
   "id": "55e2f7ab",
   "metadata": {},
   "outputs": [
    {
     "data": {
      "image/png": "[encoded data removed]",
      "text/plain": [
       "<Figure size 1000x600 with 1 Axes>"
      ]
     },
     "metadata": {},
     "output_type": "display_data"
    }
   ],
   "source": [
    "import matplotlib.pyplot as plt\n",
    "\n",
    "# Filter the top 50 winner horses\n",
    "top_50_winners = random_forest[random_forest['res_win'] == 1].head(50)\n",
    "\n",
    "# # Select the desired features for printing\n",
    "# features_to_print = ['position', 'res_place', 'isFav', 'RPR','class']\n",
    "\n",
    "# Plot the features for the top 10 winner horses\n",
    "top_10_winners[features_to_print].plot(kind='bar', x='position', figsize=(10, 6))\n",
    "\n",
    "# Set the plot title and axis labels\n",
    "plt.title('Features of Top 50 Winner Horses')\n",
    "plt.xlabel('Features')\n",
    "plt.ylabel('Feature Values')\n",
    "\n",
    "# Display the plot\n",
    "plt.show()\n"
   ]
  },
  {
   "cell_type": "code",
   "execution_count": 83,
   "id": "d407ff4d",
   "metadata": {},
   "outputs": [],
   "source": [
    "# Define a dictionary to map the old column names to the new ones\n",
    "column_name_mapping = {\n",
    "    'rid': 'Race ID',\n",
    "    'winningTime': 'Winning Time',\n",
    "    'metric': 'Metric',\n",
    "    'ncond': 'Condition',\n",
    "    'class': 'Class',\n",
    "    'horseName': 'HorseName',\n",
    "    'trainerName': 'TrainerName',\n",
    "    'jockeyName': 'JockeyName',\n",
    "    'age': 'Age',\n",
    "    'isFav': 'IsFavorite',\n",
    "    'position': 'Position',\n",
    "    'distance': 'Distance',\n",
    "    'outHandicap': 'OutHandicap',\n",
    "    'RPR': 'Racing Post Rating',\n",
    "    'saddle': 'Saddle',\n",
    "    'father': 'Father',\n",
    "    'TR': 'Timeform Rating',\n",
    "    'OR': 'Official Rating',\n",
    "    'runners': 'Runners',\n",
    "    'weight': 'Weight',\n",
    "    'res_win': 'Result_Win',\n",
    "    'res_place': 'Result_Place',\n",
    "}\n",
    "\n",
    "# Rename the columns using the dictionary\n",
    "renamed_df= random_forest.rename(columns=column_name_mapping)\n"
   ]
  },
  {
   "cell_type": "code",
   "execution_count": 82,
   "id": "285afe93",
   "metadata": {},
   "outputs": [
    {
     "data": {
      "image/png": "[encoded data removed]",
      "text/plain": [
       "<Figure size 1000x600 with 1 Axes>"
      ]
     },
     "metadata": {},
     "output_type": "display_data"
    }
   ],
   "source": [
    "import matplotlib.pyplot as plt\n",
    "\n",
    "# Assuming you have 'rf_model' and 'df' with your features as defined in your code\n",
    "\n",
    "# Get the feature importances from the random forest model\n",
    "importances = rf_model.feature_importances_\n",
    "\n",
    "# Create a list of feature names\n",
    "feature_names = renamed_df.columns\n",
    "\n",
    "# Sort the features and their importances in descending order\n",
    "sorted_features = sorted(zip(importances, feature_names), reverse=False)\n",
    "importances, feature_names = zip(*sorted_features)\n",
    "\n",
    "# Plot the top 10 features in a bar chart\n",
    "plt.figure(figsize=(10, 6))\n",
    "plt.barh(feature_names[:10], importances[:10])\n",
    "plt.xlabel('Feature Importance')\n",
    "plt.ylabel('Feature Name')\n",
    "plt.title('Top 10 Features Importance in Horse Race')\n",
    "plt.tight_layout()\n",
    "plt.show()\n"
   ]
  },
  {
   "cell_type": "code",
   "execution_count": 71,
   "id": "82714055",
   "metadata": {},
   "outputs": [
    {
     "data": {
      "text/plain": [
       "Index(['RaceID', 'WinningTime', 'Metric', 'NCond', 'Class', 'Condition',\n",
       "       'HorseName', 'TrainerName', 'JockeyName', 'Age', 'IsFavorite',\n",
       "       'Position', 'Distance', 'OutHandicap', 'Racing Post Rating', 'Saddle',\n",
       "       'Father', 'Timeform Rating', 'Official Rating', 'Runners', 'Weight',\n",
       "       'Result_Win', 'Result_Place'],\n",
       "      dtype='object')"
      ]
     },
     "execution_count": 71,
     "metadata": {},
     "output_type": "execute_result"
    }
   ],
   "source": [
    "random_forest.columns"
   ]
  },
  {
   "cell_type": "code",
   "execution_count": 72,
   "id": "2ec111f7",
   "metadata": {},
   "outputs": [
    {
     "name": "stdout",
     "output_type": "stream",
     "text": [
      "Total Winner Horses under Every Trainer:\n",
      "TrainerName\n",
      "A Bonin               5.0\n",
      "A Botti               5.0\n",
      "A C Greeff            5.0\n",
      "A Chaille-Chaille    21.0\n",
      "A Cintra Pereira      1.0\n",
      "                     ... \n",
      "Yuichi Shikato        1.0\n",
      "Yuji Iida             1.0\n",
      "Yvette Bremner        1.0\n",
      "Z Oosthuizen          2.0\n",
      "Zoe Davison           6.0\n",
      "Name: Result_Win, Length: 1816, dtype: float64\n",
      "\n",
      "Total Winner Horses under Every Jockey:\n",
      "JockeyName\n",
      "A Alfouraidi        1.0\n",
      "A Andrews           1.0\n",
      "A Correia           2.0\n",
      "A Domeyer           2.0\n",
      "A L Silva           1.0\n",
      "                  ...  \n",
      "Yuji Tannai         1.0\n",
      "Yusuke Fujioka      1.0\n",
      "Yutaka Take         8.0\n",
      "Yutaka Yoshida      1.0\n",
      "Zac Purton        127.0\n",
      "Name: Result_Win, Length: 1293, dtype: float64\n",
      "\n",
      "Best Trainer: Gordon Elliott\n",
      "Best Jockey: Ben Curtis\n"
     ]
    }
   ],
   "source": [
    "\n",
    "# Group by 'trainerName' and 'jockeyName', and count the number of winners for each group\n",
    "trainer_winners = random_forest[random_forest['Result_Win'] == 1].groupby('TrainerName')['Result_Win'].sum()\n",
    "jockey_winners = random_forest[random_forest['Result_Win'] == 1].groupby('JockeyName')['Result_Win'].sum()\n",
    "\n",
    "# Sort the results in descending order to find the best trainer and jockey\n",
    "best_trainer = trainer_winners.idxmax()\n",
    "best_jockey = jockey_winners.idxmax()\n",
    "\n",
    "# Display the total winner horses under every trainer and jockey\n",
    "print(\"Total Winner Horses under Every Trainer:\")\n",
    "print(trainer_winners)\n",
    "print(\"\\nTotal Winner Horses under Every Jockey:\")\n",
    "print(jockey_winners)\n",
    "\n",
    "# Display the best trainer and jockey\n",
    "print(\"\\nBest Trainer:\", best_trainer)\n",
    "print(\"Best Jockey:\", best_jockey)\n",
    "\n"
   ]
  },
  {
   "cell_type": "code",
   "execution_count": 80,
   "id": "61a1ecb4",
   "metadata": {},
   "outputs": [
    {
     "data": {
      "image/png": "[encoded data removed]",
      "text/plain": [
       "<Figure size 1000x600 with 1 Axes>"
      ]
     },
     "metadata": {},
     "output_type": "display_data"
    },
    {
     "data": {
      "image/png": "[encoded data removed]",
      "text/plain": [
       "<Figure size 1000x600 with 1 Axes>"
      ]
     },
     "metadata": {},
     "output_type": "display_data"
    },
    {
     "name": "stdout",
     "output_type": "stream",
     "text": [
      "\n",
      "Best Trainer: Gordon Elliott\n",
      "Best Jockey: Ben Curtis\n"
     ]
    }
   ],
   "source": [
    "# Group by 'trainerName' and 'jockeyName', and count the number of winners for each group\n",
    "trainer_winners = random_forest[random_forest['Result_Win'] == 1].groupby('TrainerName')['Result_Win'].sum()\n",
    "jockey_winners = random_forest[random_forest['Result_Win'] == 1].groupby('JockeyName')['Result_Win'].sum()\n",
    "\n",
    "# Sort the results in descending order to find the top 10 trainers and jockeys\n",
    "top_10_trainers = trainer_winners.nlargest(10)\n",
    "top_10_jockeys = jockey_winners.nlargest(10)\n",
    "\n",
    "# Plot the bar chart for top 10 trainers with the highest number of winners\n",
    "plt.figure(figsize=(10, 6))\n",
    "top_10_trainers.plot(kind='bar')\n",
    "plt.xlabel('Trainer Name')\n",
    "plt.ylabel('Total Winners')\n",
    "plt.title('Top 10 Trainers with the Highest Number of Winner Horses')\n",
    "plt.xticks(rotation=45, ha='right')\n",
    "plt.tight_layout()\n",
    "plt.show()\n",
    "\n",
    "# Plot the bar chart for top 10 jockeys with the highest number of winners\n",
    "plt.figure(figsize=(10, 6))\n",
    "top_10_jockeys.plot(kind='bar')\n",
    "plt.xlabel('Jockey Name')\n",
    "plt.ylabel('Total Winners')\n",
    "plt.title('Top 10 Jockeys with the Highest Number of Winner Horses')\n",
    "plt.xticks(rotation=45, ha='right')\n",
    "plt.tight_layout()\n",
    "plt.show()\n",
    "\n",
    "# Display the names of the best trainer and jockey\n",
    "print(\"\\nBest Trainer:\", top_10_trainers.idxmax())\n",
    "print(\"Best Jockey:\", top_10_jockeys.idxmax())\n"
   ]
  },
  {
   "cell_type": "code",
   "execution_count": null,
   "id": "a9ed3377",
   "metadata": {},
   "outputs": [],
   "source": []
  }
 ],
 "metadata": {
  "kernelspec": {
   "display_name": "Python 3 (ipykernel)",
   "language": "python",
   "name": "python3"
  },
  "language_info": {
   "codemirror_mode": {
    "name": "ipython",
    "version": 3
   },
   "file_extension": ".py",
   "mimetype": "text/x-python",
   "name": "python",
   "nbconvert_exporter": "python",
   "pygments_lexer": "ipython3",
   "version": "3.9.13"
  }
 },
 "nbformat": 4,
 "nbformat_minor": 5
}
