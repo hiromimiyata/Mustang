{
 "cells": [
  {
   "cell_type": "code",
   "execution_count": 1,
   "id": "594e2852",
   "metadata": {},
   "outputs": [],
   "source": [
    "# Import our dependencies\n",
    "import pandas as pd\n",
    "import os\n",
    "from sklearn.model_selection import train_test_split\n",
    "from sklearn.preprocessing import StandardScaler\n",
    "import tensorflow as tf\n",
    "import matplotlib.pyplot as plt\n",
    "from sklearn.tree import DecisionTreeClassifier\n",
    "from sklearn import tree\n",
    "from sklearn import datasets\n",
    "from sklearn.metrics import confusion_matrix, accuracy_score, classification_report"
   ]
  },
  {
   "cell_type": "markdown",
   "id": "06571217",
   "metadata": {},
   "source": [
    "**Preparing the data For Model1 - where we are predicting if the 'favorite' horse wins, we used two datasets from \"Kaggle\" as listed below:**\n",
    "\n",
    "*dataset 1 = races_* columns description: \n",
    "- rid - Race id; \n",
    "- Distance\n",
    "- winningTime - Best time shown\n",
    "- metric - Distance in meters\n",
    "- class - class type (created from rclass feature).\n",
    "\n",
    "*dataset 2 = horses_* columns description: \n",
    "- rid - Race id (column used to merge the 2 datasets)\n",
    "- age - Horse age; \n",
    "- saddle - Saddle # where horse starts; \n",
    "- isFav - Was horse favorite before start? Can be more then one fav in a race;  \n",
    "- position - Finishing position, 40 if horse didn't finish; \n",
    "- positionL - how far a horse has finished from the pursued horse, horses corpses; \n",
    "- outHandicap - Handicap; \n",
    "- RPR - RP Rating; \n",
    "- TR - Topspeed; \n",
    "- OR - Official Rating father - Horse's Father name; \n",
    "- runners - Runners total; \n",
    "- weight - Horse weight in kg; \n",
    "- res_win - Horse won or not; \n"
   ]
  },
  {
   "cell_type": "markdown",
   "id": "eb3295f5",
   "metadata": {},
   "source": [
    "### For data clean up pls refer to CleanUp file "
   ]
  },
  {
   "cell_type": "markdown",
   "id": "d1f3b9c6",
   "metadata": {},
   "source": [
    "# **Preprocessing Model 2 - Characteristics of a Horse winner**"
   ]
  },
  {
   "cell_type": "markdown",
   "id": "3aed5758",
   "metadata": {},
   "source": [
    " Step 1: Read the filtered_df_tree.csv data from the Resources folder into a Pandas DataFrame."
   ]
  },
  {
   "cell_type": "code",
   "execution_count": 2,
   "id": "9d2ec3f5",
   "metadata": {},
   "outputs": [
    {
     "data": {
      "text/html": [
       "<div>\n",
       "<style scoped>\n",
       "    .dataframe tbody tr th:only-of-type {\n",
       "        vertical-align: middle;\n",
       "    }\n",
       "\n",
       "    .dataframe tbody tr th {\n",
       "        vertical-align: top;\n",
       "    }\n",
       "\n",
       "    .dataframe thead th {\n",
       "        text-align: right;\n",
       "    }\n",
       "</style>\n",
       "<table border=\"1\" class=\"dataframe\">\n",
       "  <thead>\n",
       "    <tr style=\"text-align: right;\">\n",
       "      <th></th>\n",
       "      <th>rid</th>\n",
       "      <th>winningTime</th>\n",
       "      <th>metric</th>\n",
       "      <th>ncond</th>\n",
       "      <th>class</th>\n",
       "      <th>condition</th>\n",
       "      <th>horseName</th>\n",
       "      <th>trainerName</th>\n",
       "      <th>jockeyName</th>\n",
       "      <th>age</th>\n",
       "      <th>...</th>\n",
       "      <th>outHandicap</th>\n",
       "      <th>RPR</th>\n",
       "      <th>saddle</th>\n",
       "      <th>father</th>\n",
       "      <th>TR</th>\n",
       "      <th>OR</th>\n",
       "      <th>runners</th>\n",
       "      <th>weight</th>\n",
       "      <th>res_win</th>\n",
       "      <th>res_place</th>\n",
       "    </tr>\n",
       "  </thead>\n",
       "  <tbody>\n",
       "    <tr>\n",
       "      <th>0</th>\n",
       "      <td>10312</td>\n",
       "      <td>253.88</td>\n",
       "      <td>3218.0</td>\n",
       "      <td>10</td>\n",
       "      <td>4</td>\n",
       "      <td>Good To Soft</td>\n",
       "      <td>Waterproof</td>\n",
       "      <td>Shaun Keightley</td>\n",
       "      <td>Brendan Powell</td>\n",
       "      <td>4.0</td>\n",
       "      <td>...</td>\n",
       "      <td>2.541359</td>\n",
       "      <td>103.0</td>\n",
       "      <td>9.0</td>\n",
       "      <td>Pour Moi</td>\n",
       "      <td>103.0</td>\n",
       "      <td>80.446685</td>\n",
       "      <td>9.0</td>\n",
       "      <td>66.0</td>\n",
       "      <td>1.0</td>\n",
       "      <td>1.0</td>\n",
       "    </tr>\n",
       "    <tr>\n",
       "      <th>1</th>\n",
       "      <td>10312</td>\n",
       "      <td>253.88</td>\n",
       "      <td>3218.0</td>\n",
       "      <td>10</td>\n",
       "      <td>4</td>\n",
       "      <td>Good To Soft</td>\n",
       "      <td>Eva's Diva</td>\n",
       "      <td>Phil Middleton</td>\n",
       "      <td>Mr Sam Lee</td>\n",
       "      <td>6.0</td>\n",
       "      <td>...</td>\n",
       "      <td>2.541359</td>\n",
       "      <td>96.0</td>\n",
       "      <td>7.0</td>\n",
       "      <td>Getaway</td>\n",
       "      <td>89.0</td>\n",
       "      <td>110.000000</td>\n",
       "      <td>9.0</td>\n",
       "      <td>65.0</td>\n",
       "      <td>0.0</td>\n",
       "      <td>1.0</td>\n",
       "    </tr>\n",
       "    <tr>\n",
       "      <th>2</th>\n",
       "      <td>10312</td>\n",
       "      <td>253.88</td>\n",
       "      <td>3218.0</td>\n",
       "      <td>10</td>\n",
       "      <td>4</td>\n",
       "      <td>Good To Soft</td>\n",
       "      <td>Incredible Dream</td>\n",
       "      <td>Conrad Allen</td>\n",
       "      <td>Joshua Moore</td>\n",
       "      <td>7.0</td>\n",
       "      <td>...</td>\n",
       "      <td>2.541359</td>\n",
       "      <td>97.0</td>\n",
       "      <td>5.0</td>\n",
       "      <td>Vale Of York</td>\n",
       "      <td>88.0</td>\n",
       "      <td>80.446685</td>\n",
       "      <td>9.0</td>\n",
       "      <td>72.0</td>\n",
       "      <td>0.0</td>\n",
       "      <td>1.0</td>\n",
       "    </tr>\n",
       "    <tr>\n",
       "      <th>3</th>\n",
       "      <td>10312</td>\n",
       "      <td>253.88</td>\n",
       "      <td>3218.0</td>\n",
       "      <td>10</td>\n",
       "      <td>4</td>\n",
       "      <td>Good To Soft</td>\n",
       "      <td>Hats Off To Larry</td>\n",
       "      <td>Mick Channon</td>\n",
       "      <td>Marc Goldstein</td>\n",
       "      <td>6.0</td>\n",
       "      <td>...</td>\n",
       "      <td>2.541359</td>\n",
       "      <td>89.0</td>\n",
       "      <td>4.0</td>\n",
       "      <td>Sixties Icon</td>\n",
       "      <td>75.0</td>\n",
       "      <td>80.446685</td>\n",
       "      <td>9.0</td>\n",
       "      <td>72.0</td>\n",
       "      <td>0.0</td>\n",
       "      <td>0.0</td>\n",
       "    </tr>\n",
       "    <tr>\n",
       "      <th>4</th>\n",
       "      <td>10312</td>\n",
       "      <td>253.88</td>\n",
       "      <td>3218.0</td>\n",
       "      <td>10</td>\n",
       "      <td>4</td>\n",
       "      <td>Good To Soft</td>\n",
       "      <td>Taqwaa</td>\n",
       "      <td>Laura Morgan</td>\n",
       "      <td>Richie McLernon</td>\n",
       "      <td>7.0</td>\n",
       "      <td>...</td>\n",
       "      <td>2.541359</td>\n",
       "      <td>82.0</td>\n",
       "      <td>6.0</td>\n",
       "      <td>Iffraaj</td>\n",
       "      <td>67.0</td>\n",
       "      <td>80.446685</td>\n",
       "      <td>9.0</td>\n",
       "      <td>72.0</td>\n",
       "      <td>0.0</td>\n",
       "      <td>0.0</td>\n",
       "    </tr>\n",
       "  </tbody>\n",
       "</table>\n",
       "<p>5 rows × 23 columns</p>\n",
       "</div>"
      ],
      "text/plain": [
       "     rid  winningTime  metric  ncond  class     condition          horseName   \n",
       "0  10312       253.88  3218.0     10      4  Good To Soft         Waterproof  \\\n",
       "1  10312       253.88  3218.0     10      4  Good To Soft         Eva's Diva   \n",
       "2  10312       253.88  3218.0     10      4  Good To Soft   Incredible Dream   \n",
       "3  10312       253.88  3218.0     10      4  Good To Soft  Hats Off To Larry   \n",
       "4  10312       253.88  3218.0     10      4  Good To Soft             Taqwaa   \n",
       "\n",
       "       trainerName       jockeyName  age  ...  outHandicap    RPR  saddle   \n",
       "0  Shaun Keightley   Brendan Powell  4.0  ...     2.541359  103.0     9.0  \\\n",
       "1   Phil Middleton       Mr Sam Lee  6.0  ...     2.541359   96.0     7.0   \n",
       "2     Conrad Allen     Joshua Moore  7.0  ...     2.541359   97.0     5.0   \n",
       "3     Mick Channon   Marc Goldstein  6.0  ...     2.541359   89.0     4.0   \n",
       "4     Laura Morgan  Richie McLernon  7.0  ...     2.541359   82.0     6.0   \n",
       "\n",
       "         father     TR          OR runners  weight  res_win  res_place  \n",
       "0      Pour Moi  103.0   80.446685     9.0    66.0      1.0        1.0  \n",
       "1       Getaway   89.0  110.000000     9.0    65.0      0.0        1.0  \n",
       "2  Vale Of York   88.0   80.446685     9.0    72.0      0.0        1.0  \n",
       "3  Sixties Icon   75.0   80.446685     9.0    72.0      0.0        0.0  \n",
       "4       Iffraaj   67.0   80.446685     9.0    72.0      0.0        0.0  \n",
       "\n",
       "[5 rows x 23 columns]"
      ]
     },
     "execution_count": 2,
     "metadata": {},
     "output_type": "execute_result"
    }
   ],
   "source": [
    "decision_tree = pd.read_csv('Resources/coverted_tree_df.csv')\n",
    "decision_tree.head(5)"
   ]
  },
  {
   "cell_type": "code",
   "execution_count": 3,
   "id": "d2bb68ad",
   "metadata": {},
   "outputs": [
    {
     "name": "stdout",
     "output_type": "stream",
     "text": [
      "rid            14077\n",
      "winningTime     8692\n",
      "metric            53\n",
      "ncond             18\n",
      "class              8\n",
      "condition         18\n",
      "horseName      44803\n",
      "trainerName     4250\n",
      "jockeyName      2822\n",
      "age               16\n",
      "isFav              2\n",
      "position          35\n",
      "distance           8\n",
      "outHandicap       27\n",
      "RPR              178\n",
      "saddle            36\n",
      "father          2691\n",
      "TR               158\n",
      "OR               171\n",
      "runners           27\n",
      "weight            34\n",
      "res_win            2\n",
      "res_place          2\n",
      "dtype: int64\n"
     ]
    }
   ],
   "source": [
    "# Determine the number of unique values in each column.\n",
    "unique_application = decision_tree.nunique()\n",
    "print(unique_application)"
   ]
  },
  {
   "cell_type": "code",
   "execution_count": 4,
   "id": "320d7dfc",
   "metadata": {},
   "outputs": [
    {
     "name": "stdout",
     "output_type": "stream",
     "text": [
      "Column 'res_win' is present in the dataset.\n"
     ]
    }
   ],
   "source": [
    "if \"res_win\" in decision_tree.columns:\n",
    "    print(\"Column 'res_win' is present in the dataset.\")\n",
    "else:\n",
    "    print(\"Column 'res_win' is not present in the dataset.\")"
   ]
  },
  {
   "cell_type": "code",
   "execution_count": 5,
   "id": "42235395",
   "metadata": {},
   "outputs": [
    {
     "data": {
      "text/plain": [
       "res_win\n",
       "0.0    128817\n",
       "1.0     14094\n",
       "Name: count, dtype: int64"
      ]
     },
     "execution_count": 5,
     "metadata": {},
     "output_type": "execute_result"
    }
   ],
   "source": [
    "# Look at res_win value counts for binning - where 0=did not win; 1=won\n",
    "application_type_counts = decision_tree['res_win'].value_counts()\n",
    "application_type_counts"
   ]
  },
  {
   "cell_type": "code",
   "execution_count": 6,
   "id": "4f571aea",
   "metadata": {},
   "outputs": [
    {
     "name": "stdout",
     "output_type": "stream",
     "text": [
      "Columns with NaN values:\n",
      "[]\n"
     ]
    }
   ],
   "source": [
    "# Check for missing values (NaN)\n",
    "nan_columns = decision_tree.columns[decision_tree.isnull().any()].tolist()\n",
    "print(\"Columns with NaN values:\")\n",
    "print(nan_columns)"
   ]
  },
  {
   "cell_type": "code",
   "execution_count": 7,
   "id": "81edd49e",
   "metadata": {},
   "outputs": [],
   "source": [
    "# columns_with_null = ['distance']\n",
    "\n",
    "# # Replace null values with the mean of each column\n",
    "# for column in columns_with_null:\n",
    "#     decision_tree[column].fillna(decision_tree[column].mean(), inplace=True)\n",
    "\n",
    "# # Verify that null values are replaced\n",
    "# nan_columns = decision_tree.columns[decision_tree.isnull().any()].tolist()\n",
    "# print(\"Columns with NaN values after replacement:\")\n",
    "# print(nan_columns)"
   ]
  },
  {
   "cell_type": "code",
   "execution_count": 8,
   "id": "92cb1ef1",
   "metadata": {},
   "outputs": [
    {
     "name": "stdout",
     "output_type": "stream",
     "text": [
      "Number of Rows: 142911\n",
      "Number of Columns: 23\n"
     ]
    }
   ],
   "source": [
    "num_rows = decision_tree.shape[0]\n",
    "num_columns = decision_tree.shape[1]\n",
    "print(\"Number of Rows:\", num_rows)\n",
    "print(\"Number of Columns:\", num_columns)"
   ]
  },
  {
   "cell_type": "code",
   "execution_count": 9,
   "id": "5d7d2541",
   "metadata": {},
   "outputs": [
    {
     "name": "stdout",
     "output_type": "stream",
     "text": [
      "Number of Rows: 15000\n",
      "Number of Columns: 23\n"
     ]
    }
   ],
   "source": [
    "sampled_df = decision_tree.sample(n=15000, random_state=42)\n",
    "num_rows = sampled_df.shape[0]\n",
    "num_columns = sampled_df.shape[1]\n",
    "print(\"Number of Rows:\", num_rows)\n",
    "print(\"Number of Columns:\", num_columns)"
   ]
  },
  {
   "cell_type": "code",
   "execution_count": 10,
   "id": "2e3800da",
   "metadata": {},
   "outputs": [],
   "source": [
    "encoded_df = pd.get_dummies(sampled_df)\n"
   ]
  },
  {
   "cell_type": "markdown",
   "id": "7fb97cd4",
   "metadata": {},
   "source": [
    "### Further steps in the model-building process: feature selection, model selection, training, and evaluation ###"
   ]
  },
  {
   "cell_type": "code",
   "execution_count": 11,
   "id": "ada8c3f5",
   "metadata": {},
   "outputs": [
    {
     "data": {
      "text/html": [
       "<div>\n",
       "<style scoped>\n",
       "    .dataframe tbody tr th:only-of-type {\n",
       "        vertical-align: middle;\n",
       "    }\n",
       "\n",
       "    .dataframe tbody tr th {\n",
       "        vertical-align: top;\n",
       "    }\n",
       "\n",
       "    .dataframe thead th {\n",
       "        text-align: right;\n",
       "    }\n",
       "</style>\n",
       "<table border=\"1\" class=\"dataframe\">\n",
       "  <thead>\n",
       "    <tr style=\"text-align: right;\">\n",
       "      <th></th>\n",
       "      <th>rid</th>\n",
       "      <th>winningTime</th>\n",
       "      <th>metric</th>\n",
       "      <th>ncond</th>\n",
       "      <th>class</th>\n",
       "      <th>age</th>\n",
       "      <th>isFav</th>\n",
       "      <th>position</th>\n",
       "      <th>distance</th>\n",
       "      <th>outHandicap</th>\n",
       "      <th>...</th>\n",
       "      <th>father_Zambezi Sun</th>\n",
       "      <th>father_Zamindar</th>\n",
       "      <th>father_Zanzibari</th>\n",
       "      <th>father_Zebedee</th>\n",
       "      <th>father_Zed</th>\n",
       "      <th>father_Zenno Rob Roy</th>\n",
       "      <th>father_Zerpour</th>\n",
       "      <th>father_Zivo</th>\n",
       "      <th>father_Zoffany</th>\n",
       "      <th>father_Zoustar</th>\n",
       "    </tr>\n",
       "  </thead>\n",
       "  <tbody>\n",
       "    <tr>\n",
       "      <th>101353</th>\n",
       "      <td>410815</td>\n",
       "      <td>222.40</td>\n",
       "      <td>3218.0</td>\n",
       "      <td>1</td>\n",
       "      <td>4</td>\n",
       "      <td>6.0</td>\n",
       "      <td>0.0</td>\n",
       "      <td>5.0</td>\n",
       "      <td>2.0</td>\n",
       "      <td>2.541359</td>\n",
       "      <td>...</td>\n",
       "      <td>False</td>\n",
       "      <td>False</td>\n",
       "      <td>False</td>\n",
       "      <td>False</td>\n",
       "      <td>False</td>\n",
       "      <td>False</td>\n",
       "      <td>False</td>\n",
       "      <td>False</td>\n",
       "      <td>False</td>\n",
       "      <td>False</td>\n",
       "    </tr>\n",
       "    <tr>\n",
       "      <th>29275</th>\n",
       "      <td>401605</td>\n",
       "      <td>93.58</td>\n",
       "      <td>1407.0</td>\n",
       "      <td>12</td>\n",
       "      <td>0</td>\n",
       "      <td>3.0</td>\n",
       "      <td>0.0</td>\n",
       "      <td>11.0</td>\n",
       "      <td>1407.0</td>\n",
       "      <td>2.541359</td>\n",
       "      <td>...</td>\n",
       "      <td>False</td>\n",
       "      <td>False</td>\n",
       "      <td>False</td>\n",
       "      <td>False</td>\n",
       "      <td>False</td>\n",
       "      <td>False</td>\n",
       "      <td>False</td>\n",
       "      <td>False</td>\n",
       "      <td>False</td>\n",
       "      <td>False</td>\n",
       "    </tr>\n",
       "    <tr>\n",
       "      <th>92053</th>\n",
       "      <td>409839</td>\n",
       "      <td>107.79</td>\n",
       "      <td>1810.0</td>\n",
       "      <td>8</td>\n",
       "      <td>0</td>\n",
       "      <td>4.0</td>\n",
       "      <td>0.0</td>\n",
       "      <td>1.0</td>\n",
       "      <td>1.0</td>\n",
       "      <td>2.541359</td>\n",
       "      <td>...</td>\n",
       "      <td>False</td>\n",
       "      <td>False</td>\n",
       "      <td>False</td>\n",
       "      <td>False</td>\n",
       "      <td>False</td>\n",
       "      <td>False</td>\n",
       "      <td>False</td>\n",
       "      <td>False</td>\n",
       "      <td>False</td>\n",
       "      <td>False</td>\n",
       "    </tr>\n",
       "    <tr>\n",
       "      <th>38706</th>\n",
       "      <td>404193</td>\n",
       "      <td>300.77</td>\n",
       "      <td>4323.5</td>\n",
       "      <td>3</td>\n",
       "      <td>0</td>\n",
       "      <td>6.0</td>\n",
       "      <td>0.0</td>\n",
       "      <td>40.0</td>\n",
       "      <td>2.0</td>\n",
       "      <td>2.541359</td>\n",
       "      <td>...</td>\n",
       "      <td>False</td>\n",
       "      <td>False</td>\n",
       "      <td>False</td>\n",
       "      <td>False</td>\n",
       "      <td>False</td>\n",
       "      <td>False</td>\n",
       "      <td>False</td>\n",
       "      <td>False</td>\n",
       "      <td>False</td>\n",
       "      <td>False</td>\n",
       "    </tr>\n",
       "    <tr>\n",
       "      <th>86312</th>\n",
       "      <td>409139</td>\n",
       "      <td>88.24</td>\n",
       "      <td>1407.0</td>\n",
       "      <td>0</td>\n",
       "      <td>5</td>\n",
       "      <td>9.0</td>\n",
       "      <td>0.0</td>\n",
       "      <td>11.0</td>\n",
       "      <td>1407.0</td>\n",
       "      <td>2.541359</td>\n",
       "      <td>...</td>\n",
       "      <td>False</td>\n",
       "      <td>False</td>\n",
       "      <td>False</td>\n",
       "      <td>False</td>\n",
       "      <td>False</td>\n",
       "      <td>False</td>\n",
       "      <td>False</td>\n",
       "      <td>False</td>\n",
       "      <td>False</td>\n",
       "      <td>False</td>\n",
       "    </tr>\n",
       "  </tbody>\n",
       "</table>\n",
       "<p>5 rows × 17745 columns</p>\n",
       "</div>"
      ],
      "text/plain": [
       "           rid  winningTime  metric  ncond  class  age  isFav  position   \n",
       "101353  410815       222.40  3218.0      1      4  6.0    0.0       5.0  \\\n",
       "29275   401605        93.58  1407.0     12      0  3.0    0.0      11.0   \n",
       "92053   409839       107.79  1810.0      8      0  4.0    0.0       1.0   \n",
       "38706   404193       300.77  4323.5      3      0  6.0    0.0      40.0   \n",
       "86312   409139        88.24  1407.0      0      5  9.0    0.0      11.0   \n",
       "\n",
       "        distance  outHandicap  ...  father_Zambezi Sun  father_Zamindar   \n",
       "101353       2.0     2.541359  ...               False            False  \\\n",
       "29275     1407.0     2.541359  ...               False            False   \n",
       "92053        1.0     2.541359  ...               False            False   \n",
       "38706        2.0     2.541359  ...               False            False   \n",
       "86312     1407.0     2.541359  ...               False            False   \n",
       "\n",
       "        father_Zanzibari  father_Zebedee  father_Zed  father_Zenno Rob Roy   \n",
       "101353             False           False       False                 False  \\\n",
       "29275              False           False       False                 False   \n",
       "92053              False           False       False                 False   \n",
       "38706              False           False       False                 False   \n",
       "86312              False           False       False                 False   \n",
       "\n",
       "        father_Zerpour  father_Zivo  father_Zoffany  father_Zoustar  \n",
       "101353           False        False           False           False  \n",
       "29275            False        False           False           False  \n",
       "92053            False        False           False           False  \n",
       "38706            False        False           False           False  \n",
       "86312            False        False           False           False  \n",
       "\n",
       "[5 rows x 17745 columns]"
      ]
     },
     "execution_count": 11,
     "metadata": {},
     "output_type": "execute_result"
    }
   ],
   "source": [
    " # Define features set\n",
    "features = encoded_df.copy()\n",
    "features.drop(\"res_win\", axis=1, inplace=True)\n",
    "features.head()\n"
   ]
  },
  {
   "cell_type": "code",
   "execution_count": 12,
   "id": "d40d6fca",
   "metadata": {},
   "outputs": [
    {
     "data": {
      "text/plain": [
       "array([[0.],\n",
       "       [0.],\n",
       "       [1.],\n",
       "       [0.],\n",
       "       [0.]])"
      ]
     },
     "execution_count": 12,
     "metadata": {},
     "output_type": "execute_result"
    }
   ],
   "source": [
    "# Define target vector\n",
    "target = encoded_df[\"res_win\"].values.reshape(-1, 1)\n",
    "target[:5]\n"
   ]
  },
  {
   "cell_type": "code",
   "execution_count": 14,
   "id": "4f7511a5",
   "metadata": {},
   "outputs": [],
   "source": [
    "# Splitting into Train and Test sets\n",
    "X_train, X_test, y_train, y_test = train_test_split(features, target, random_state=78)"
   ]
  },
  {
   "cell_type": "code",
   "execution_count": 15,
   "id": "5575614a",
   "metadata": {},
   "outputs": [],
   "source": [
    "# Creating StandardScaler instance\n",
    "scaler = StandardScaler()\n"
   ]
  },
  {
   "cell_type": "code",
   "execution_count": 16,
   "id": "f5e6878a",
   "metadata": {},
   "outputs": [],
   "source": [
    "# Fitting Standard Scaller\n",
    "X_scaler = scaler.fit(X_train)\n"
   ]
  },
  {
   "cell_type": "code",
   "execution_count": 17,
   "id": "1b94a087",
   "metadata": {},
   "outputs": [],
   "source": [
    " # Scaling data\n",
    "X_train_scaled = X_scaler.transform(X_train)\n",
    "X_test_scaled = X_scaler.transform(X_test)"
   ]
  },
  {
   "cell_type": "markdown",
   "id": "101993d8",
   "metadata": {},
   "source": [
    " ## Fitting the Decision Tree Model"
   ]
  },
  {
   "cell_type": "code",
   "execution_count": 18,
   "id": "6426e1c2",
   "metadata": {},
   "outputs": [],
   "source": [
    "# Creating the decision tree classifier instance\n",
    "model = tree.DecisionTreeClassifier()"
   ]
  },
  {
   "cell_type": "code",
   "execution_count": 19,
   "id": "58667bf3",
   "metadata": {},
   "outputs": [],
   "source": [
    "# Fitting the model\n",
    "model = model.fit(X_train_scaled, y_train)"
   ]
  },
  {
   "cell_type": "markdown",
   "id": "fd3ad181",
   "metadata": {},
   "source": [
    "##  Making Predictions Using the Tree Model"
   ]
  },
  {
   "cell_type": "code",
   "execution_count": 20,
   "id": "859f07a3",
   "metadata": {},
   "outputs": [],
   "source": [
    " # Making predictions using the testing data\n",
    "predictions = model.predict(X_test_scaled)"
   ]
  },
  {
   "cell_type": "markdown",
   "id": "b8e1d55b",
   "metadata": {},
   "source": [
    " ## Model Evaluation"
   ]
  },
  {
   "cell_type": "code",
   "execution_count": 26,
   "id": "13ed0676",
   "metadata": {},
   "outputs": [],
   "source": [
    " # Calculating the confusion matrix\n",
    "cm = confusion_matrix(y_test, predictions)\n",
    "cm_df = pd.DataFrame(\n",
    "    cm, index=[\"Actual 0\", \"Actual 1\"], columns=[\"Predicted 0\", \"Predicted 1\"]\n",
    ")\n",
    "\n",
    "# Calculating the accuracy score\n",
    "acc_score = accuracy_score(y_test, predictions)"
   ]
  },
  {
   "cell_type": "code",
   "execution_count": 22,
   "id": "7443f534",
   "metadata": {},
   "outputs": [
    {
     "name": "stdout",
     "output_type": "stream",
     "text": [
      "Confusion Matrix\n"
     ]
    },
    {
     "data": {
      "text/html": [
       "<div>\n",
       "<style scoped>\n",
       "    .dataframe tbody tr th:only-of-type {\n",
       "        vertical-align: middle;\n",
       "    }\n",
       "\n",
       "    .dataframe tbody tr th {\n",
       "        vertical-align: top;\n",
       "    }\n",
       "\n",
       "    .dataframe thead th {\n",
       "        text-align: right;\n",
       "    }\n",
       "</style>\n",
       "<table border=\"1\" class=\"dataframe\">\n",
       "  <thead>\n",
       "    <tr style=\"text-align: right;\">\n",
       "      <th></th>\n",
       "      <th>Predicted 0</th>\n",
       "      <th>Predicted 1</th>\n",
       "    </tr>\n",
       "  </thead>\n",
       "  <tbody>\n",
       "    <tr>\n",
       "      <th>Actual 0</th>\n",
       "      <td>3374</td>\n",
       "      <td>0</td>\n",
       "    </tr>\n",
       "    <tr>\n",
       "      <th>Actual 1</th>\n",
       "      <td>0</td>\n",
       "      <td>376</td>\n",
       "    </tr>\n",
       "  </tbody>\n",
       "</table>\n",
       "</div>"
      ],
      "text/plain": [
       "          Predicted 0  Predicted 1\n",
       "Actual 0         3374            0\n",
       "Actual 1            0          376"
      ]
     },
     "metadata": {},
     "output_type": "display_data"
    },
    {
     "name": "stdout",
     "output_type": "stream",
     "text": [
      "Accuracy Score : 1.0\n",
      "Classification Report\n",
      "              precision    recall  f1-score   support\n",
      "\n",
      "         0.0       1.00      1.00      1.00      3374\n",
      "         1.0       1.00      1.00      1.00       376\n",
      "\n",
      "    accuracy                           1.00      3750\n",
      "   macro avg       1.00      1.00      1.00      3750\n",
      "weighted avg       1.00      1.00      1.00      3750\n",
      "\n"
     ]
    }
   ],
   "source": [
    " # Displaying results\n",
    "print(\"Confusion Matrix\")\n",
    "display(cm_df)\n",
    "print(f\"Accuracy Score : {acc_score}\")\n",
    "print(\"Classification Report\")\n",
    "print(classification_report(y_test, predictions))"
   ]
  },
  {
   "cell_type": "code",
   "execution_count": 23,
   "id": "c6a59862",
   "metadata": {},
   "outputs": [
    {
     "name": "stdout",
     "output_type": "stream",
     "text": [
      "Cross-Validation Scores: [0.96666667 0.96666667 0.9        1.         1.        ]\n",
      "Mean Score: 0.9666666666666668\n"
     ]
    }
   ],
   "source": [
    "from sklearn.model_selection import cross_val_score\n",
    "from sklearn.tree import DecisionTreeClassifier\n",
    "from sklearn.datasets import load_iris\n",
    "\n",
    "\n",
    "# Load the dataset\n",
    "iris = load_iris()\n",
    "X, y = iris.data, iris.target\n",
    "\n",
    "# Create a decision tree classifier\n",
    "clf = DecisionTreeClassifier()\n",
    "\n",
    "# Perform cross-validation\n",
    "scores = cross_val_score(clf, X, y, cv=5)  # cv=5 specifies 5-fold cross-validation\n",
    "\n",
    "# Print the cross-validation scores\n",
    "print(\"Cross-Validation Scores:\", scores)\n",
    "print(\"Mean Score:\", scores.mean())"
   ]
  },
  {
   "cell_type": "code",
   "execution_count": null,
   "id": "8497fb46",
   "metadata": {},
   "outputs": [],
   "source": []
  }
 ],
 "metadata": {
  "kernelspec": {
   "display_name": "Python 3 (ipykernel)",
   "language": "python",
   "name": "python3"
  },
  "language_info": {
   "codemirror_mode": {
    "name": "ipython",
    "version": 3
   },
   "file_extension": ".py",
   "mimetype": "text/x-python",
   "name": "python",
   "nbconvert_exporter": "python",
   "pygments_lexer": "ipython3",
   "version": "3.9.13"
  }
 },
 "nbformat": 4,
 "nbformat_minor": 5
}
