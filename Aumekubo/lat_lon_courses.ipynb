{
 "cells": [
  {
   "cell_type": "code",
   "execution_count": 17,
   "id": "3f255480",
   "metadata": {},
   "outputs": [],
   "source": [
    " # Dependencies\n",
    "import requests\n",
    "import json\n",
    "import pandas as pd\n",
    "\n"
   ]
  },
  {
   "cell_type": "code",
   "execution_count": 26,
   "id": "0b421bff",
   "metadata": {},
   "outputs": [
    {
     "name": "stdout",
     "output_type": "stream",
     "text": [
      "         City         Country   Latitude  Longitude\n",
      "0    Fakenham  United Kingdom  52.829919   0.847732\n",
      "1  Cheltenham  United Kingdom  51.899569  -2.071156\n",
      "2     Tramore   United States  29.670858 -98.492054\n",
      "3  Fairyhouse         Ireland  53.499974  -6.468569\n",
      "4   Southwell  United Kingdom  50.532890  -2.446753\n"
     ]
    }
   ],
   "source": [
    "# Import the API key\n",
    "with open(r'C:\\Users\\aumek\\OneDrive\\Desktop\\Git_Personnal_Rep\\Resource_mustang\\geo_api', 'r') as file:\n",
    "     api_key = file.read().strip()\n",
    "\n",
    "base_url = \"https://api.geoapify.com/v1/geocode/search\"\n",
    "\n",
    "\n",
    "cities = [\n",
    "    'Fakenham', 'Cheltenham', 'Tramore', 'Fairyhouse', 'Southwell', 'Musselburgh', 'Ellerslie', 'Santa Anita',\n",
    "    'Sha Tin', 'Catterick', 'Exeter', 'Flemington', 'Meydan', 'Lingfield', 'Chelmsford', 'Ayr', 'Deauville',\n",
    "    'Hereford', 'Wolverhampton', 'Dundalk', 'Kempton', 'Cork', 'Sandown', 'Ascot', 'Gulfstream Park', 'Wincanton',\n",
    "    'Newcastle', 'Naas', 'Plumpton', 'Nakayama', 'Kyoto', 'Chepstow', 'Maronas', 'Taunton', 'Happy Valley',\n",
    "    'Ludlow', 'Chantilly', 'Clonmel', 'Thurles', 'Sedgefield', 'Kenilworth', 'Warwick', 'Wetherby', 'Trentham',\n",
    "    'Punchestown', 'Kelso', 'Cagnes-Sur-Mer', 'Doncaster', 'Newbury', 'Market Rasen', 'Haydock', 'Aqueduct',\n",
    "    'Navan', 'Fair Grounds', 'Kokura', 'Gowran Park', 'Huntingdon', 'Jebel Ali', 'Moonee Valley', 'Uttoxeter',\n",
    "    'Caulfield', 'Sam Houston', 'Fontwell', 'Down Royal', 'Leicester', 'Ffos Las', 'Limerick', 'Leopardstown',\n",
    "    'Randwick', 'Oaklawn Park', 'St Moritz', 'Valparaiso Sporting Club', 'Tokyo', 'Carlisle', 'Bangor-on-Dee',\n",
    "    'Tampa Bay Downs', 'Te Rapa', 'Gavea', 'Hobart', 'Warwick Farm', 'Laurel Park', 'Otaki', 'Rosehill', 'Auteuil',\n",
    "    'Launceston', 'Morphettville', 'Riyadh', 'Armidale', 'Hanshin', 'Compiegne', 'Turffontein Standside', 'Canberra',\n",
    "    'Stratford', 'Kembla Grange', 'Chukyo', 'San Isidro', 'Turfway Park', 'Saint-Cloud', 'Wexford', 'Greyville',\n",
    "    'Golden Gate Fields', 'Turffontein Inside', 'Fairview', 'Durbanville', 'Downpatrick', 'Flamingo Park',\n",
    "    'Will Rogers Downs', 'Vaal', 'Wellington', 'Gold Coast', 'Ipswich', 'Wagga Wagga', 'Fukushima', 'Fonner Park',\n",
    "    'Balaklava', 'Hanover', 'Cologne', 'Doomben', 'Hoppegarten', 'Longchamp', 'Toulouse', 'Marseille Pont-de-Vivaux',\n",
    "    'Angers', 'Lyon Parilly', 'Strasbourg', 'Vichy', 'Marseille Borely', 'La Teste De Buch', 'Le Lion-D\\'Angers',\n",
    "    'Dieppe', 'Baden-Baden', 'Bordeaux Le Bouscat', 'Churchill Downs', 'Eagle Farm', 'Jagersro', 'Chateaubriant',\n",
    "    'Pau', 'Clairefontaine', 'Moulins', 'Cidade Jardim', 'Fort Erie', 'Nantes', 'Yarmouth', 'Belmont Park',\n",
    "    'Newmarket', 'San Siro', 'Tarbes', 'Thistledown', 'Pontefract', 'Beverley', 'Craon', 'Curragh', 'Dresden',\n",
    "    'Goodwood', 'Capannelle', 'Roscommon', 'Thirsk', 'Windsor', 'Dax', 'Redcar', 'Tipperary', 'Ripon', 'Dortmund',\n",
    "    'Dusseldorf', 'Hakodate', 'Delaware Park', 'Le Croise-Laroche', 'Hamilton', 'Bath', 'Kilbeggan', 'Bellewstown',\n",
    "    'Sligo', 'Epsom', 'Los Alamitos', 'Scottsville', 'Woodbine', 'Prairie Meadows', 'Killarney', 'Newton Abbot',\n",
    "    'York', 'Indiana Grand', 'Hamburg', 'Keeneland', 'Salisbury', 'Sunshine Coast', 'Saratoga', 'Monmouth Park',\n",
    "    'Ballinrobe', 'Perth', 'Charles town', 'Cartmel', 'Del Mar', 'Ellis Park', 'Munich', 'Niigata', 'Galway',\n",
    "    'Vittel', 'Sapporo', 'Pornichet-La Baule', 'Arlington Park', 'Chester', 'Le Touquet', 'San Sebastian', 'Ovrevoll',\n",
    "    'Hexham', 'Evreux', 'Wyong', 'Kentucky Downs', 'Belterra Park', 'Emerald Downs', 'Palermo', 'Cholet',\n",
    "    'Fontainebleau', 'Hastings', 'Listowel', 'Bro Park', 'Argentan', 'Nottingham', 'Remington Park', 'Century Mile',\n",
    "    'Pimlico', 'Club Hipico de Santiago', 'La Zarzuela', 'Gulfstream Park West', 'Ankara', 'Hipodromo Chile',\n",
    "    'Geelong', 'Aintree', 'Veliefendi', 'Bendigo', 'Riccarton Park', 'Krefeld', 'La Plata', 'Mountaineer Park'\n",
    "]\n",
    "\n",
    "results = []\n",
    "\n",
    "for city in cities:\n",
    "    params = {\n",
    "        \"text\": city,\n",
    "        \"apiKey\": api_key\n",
    "    }\n",
    "\n",
    "    response = requests.get(base_url, params=params)\n",
    "    data = response.json()\n",
    "    \n",
    "    if 'features' in data:\n",
    "        lat = data['features'][0]['properties']['lat']\n",
    "        lon = data['features'][0]['properties']['lon']\n",
    "        country = data['features'][0]['properties']['country']\n",
    "        results.append({'City': city, 'Country': country, 'Latitude': lat, 'Longitude': lon})\n",
    "    else:\n",
    "        results.append({'City': city, 'Country': None, 'Latitude': None, 'Longitude': None})\n",
    "\n",
    "df = pd.DataFrame(results)\n",
    "print(df.head(5))  # Print the top 5 results\n",
    "df.to_csv('Resources/city_coordinates.csv', index=False)"
   ]
  },
  {
   "cell_type": "code",
   "execution_count": null,
   "id": "b4ca1ecf",
   "metadata": {},
   "outputs": [],
   "source": []
  }
 ],
 "metadata": {
  "kernelspec": {
   "display_name": "Python 3 (ipykernel)",
   "language": "python",
   "name": "python3"
  },
  "language_info": {
   "codemirror_mode": {
    "name": "ipython",
    "version": 3
   },
   "file_extension": ".py",
   "mimetype": "text/x-python",
   "name": "python",
   "nbconvert_exporter": "python",
   "pygments_lexer": "ipython3",
   "version": "3.9.13"
  }
 },
 "nbformat": 4,
 "nbformat_minor": 5
}
