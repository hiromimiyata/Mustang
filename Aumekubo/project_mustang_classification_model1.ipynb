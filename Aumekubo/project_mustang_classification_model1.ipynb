{
 "cells": [
  {
   "cell_type": "code",
   "execution_count": 1,
   "id": "594e2852",
   "metadata": {},
   "outputs": [],
   "source": [
    "# Import our dependencies\n",
    "import pandas as pd\n",
    "import os\n",
    "from sklearn.model_selection import train_test_split\n",
    "from sklearn.preprocessing import StandardScaler\n",
    "import pandas as pd\n",
    "import tensorflow as tf\n",
    "\n"
   ]
  },
  {
   "cell_type": "markdown",
   "id": "06571217",
   "metadata": {},
   "source": [
    "**Preparing the data For Model1 - where we are predicting if the 'favorite' horse wins, we used two datasets from \"Kaggle\" as listed below:**\n",
    "\n",
    "*dataset 1 = races_* columns description: \n",
    "- rid - Race id; \n",
    "- Distance\n",
    "- winningTime - Best time shown\n",
    "- metric - Distance in meters\n",
    "- class - class type (created from rclass feature).\n",
    "\n",
    "*dataset 2 = horses_* columns description: \n",
    "- rid - Race id (column used to merge the 2 datasets)\n",
    "- age - Horse age; \n",
    "- saddle - Saddle # where horse starts; \n",
    "- isFav - Was horse favorite before start? Can be more then one fav in a race;  \n",
    "- position - Finishing position, 40 if horse didn't finish; \n",
    "- positionL - how far a horse has finished from the pursued horse, horses corpses; \n",
    "- outHandicap - Handicap; \n",
    "- RPR - RP Rating; \n",
    "- TR - Topspeed; \n",
    "- OR - Official Rating father - Horse's Father name; \n",
    "- runners - Runners total; \n",
    "- weight - Horse weight in kg; \n",
    "- res_win - Horse won or not; \n"
   ]
  },
  {
   "cell_type": "markdown",
   "id": "eb3295f5",
   "metadata": {},
   "source": [
    "### For data clean up pls refer to CleanUp file "
   ]
  },
  {
   "cell_type": "markdown",
   "id": "d1f3b9c6",
   "metadata": {},
   "source": [
    "# **Preprocessing Model 1 - Does the Favorite Horse win?**"
   ]
  },
  {
   "cell_type": "markdown",
   "id": "3aed5758",
   "metadata": {},
   "source": [
    " Step 1: Read the clean_data_model1.csv data from the Resources folder into a Pandas DataFrame."
   ]
  },
  {
   "cell_type": "code",
   "execution_count": 2,
   "id": "9d2ec3f5",
   "metadata": {},
   "outputs": [
    {
     "data": {
      "text/html": [
       "<div>\n",
       "<style scoped>\n",
       "    .dataframe tbody tr th:only-of-type {\n",
       "        vertical-align: middle;\n",
       "    }\n",
       "\n",
       "    .dataframe tbody tr th {\n",
       "        vertical-align: top;\n",
       "    }\n",
       "\n",
       "    .dataframe thead th {\n",
       "        text-align: right;\n",
       "    }\n",
       "</style>\n",
       "<table border=\"1\" class=\"dataframe\">\n",
       "  <thead>\n",
       "    <tr style=\"text-align: right;\">\n",
       "      <th></th>\n",
       "      <th>rid</th>\n",
       "      <th>winningTime</th>\n",
       "      <th>metric</th>\n",
       "      <th>ncond</th>\n",
       "      <th>class</th>\n",
       "      <th>age</th>\n",
       "      <th>decimalPrice</th>\n",
       "      <th>isFav</th>\n",
       "      <th>position</th>\n",
       "      <th>positionL</th>\n",
       "      <th>distance</th>\n",
       "      <th>outHandicap</th>\n",
       "      <th>RPR</th>\n",
       "      <th>saddle</th>\n",
       "      <th>TR</th>\n",
       "      <th>OR</th>\n",
       "      <th>runners</th>\n",
       "      <th>weight</th>\n",
       "      <th>res_win</th>\n",
       "    </tr>\n",
       "  </thead>\n",
       "  <tbody>\n",
       "    <tr>\n",
       "      <th>0</th>\n",
       "      <td>10312</td>\n",
       "      <td>253.88</td>\n",
       "      <td>3218.0</td>\n",
       "      <td>10</td>\n",
       "      <td>4</td>\n",
       "      <td>4</td>\n",
       "      <td>0.076923</td>\n",
       "      <td>0.0</td>\n",
       "      <td>1</td>\n",
       "      <td>4.57028</td>\n",
       "      <td>2.0</td>\n",
       "      <td>2.541359</td>\n",
       "      <td>103.0</td>\n",
       "      <td>9.0</td>\n",
       "      <td>103.0</td>\n",
       "      <td>74.677073</td>\n",
       "      <td>9.0</td>\n",
       "      <td>66.0</td>\n",
       "      <td>1.0</td>\n",
       "    </tr>\n",
       "    <tr>\n",
       "      <th>1</th>\n",
       "      <td>10312</td>\n",
       "      <td>253.88</td>\n",
       "      <td>3218.0</td>\n",
       "      <td>10</td>\n",
       "      <td>4</td>\n",
       "      <td>6</td>\n",
       "      <td>0.444444</td>\n",
       "      <td>1.0</td>\n",
       "      <td>2</td>\n",
       "      <td>15.00000</td>\n",
       "      <td>2.0</td>\n",
       "      <td>2.541359</td>\n",
       "      <td>96.0</td>\n",
       "      <td>7.0</td>\n",
       "      <td>89.0</td>\n",
       "      <td>110.000000</td>\n",
       "      <td>9.0</td>\n",
       "      <td>65.0</td>\n",
       "      <td>0.0</td>\n",
       "    </tr>\n",
       "    <tr>\n",
       "      <th>2</th>\n",
       "      <td>10312</td>\n",
       "      <td>253.88</td>\n",
       "      <td>3218.0</td>\n",
       "      <td>10</td>\n",
       "      <td>4</td>\n",
       "      <td>7</td>\n",
       "      <td>0.019608</td>\n",
       "      <td>0.0</td>\n",
       "      <td>3</td>\n",
       "      <td>5.50000</td>\n",
       "      <td>2.0</td>\n",
       "      <td>2.541359</td>\n",
       "      <td>97.0</td>\n",
       "      <td>5.0</td>\n",
       "      <td>88.0</td>\n",
       "      <td>74.677073</td>\n",
       "      <td>9.0</td>\n",
       "      <td>72.0</td>\n",
       "      <td>0.0</td>\n",
       "    </tr>\n",
       "    <tr>\n",
       "      <th>3</th>\n",
       "      <td>10312</td>\n",
       "      <td>253.88</td>\n",
       "      <td>3218.0</td>\n",
       "      <td>10</td>\n",
       "      <td>4</td>\n",
       "      <td>6</td>\n",
       "      <td>0.230769</td>\n",
       "      <td>0.0</td>\n",
       "      <td>4</td>\n",
       "      <td>10.00000</td>\n",
       "      <td>2.0</td>\n",
       "      <td>2.541359</td>\n",
       "      <td>89.0</td>\n",
       "      <td>4.0</td>\n",
       "      <td>75.0</td>\n",
       "      <td>74.677073</td>\n",
       "      <td>9.0</td>\n",
       "      <td>72.0</td>\n",
       "      <td>0.0</td>\n",
       "    </tr>\n",
       "    <tr>\n",
       "      <th>4</th>\n",
       "      <td>10312</td>\n",
       "      <td>253.88</td>\n",
       "      <td>3218.0</td>\n",
       "      <td>10</td>\n",
       "      <td>4</td>\n",
       "      <td>7</td>\n",
       "      <td>0.038462</td>\n",
       "      <td>0.0</td>\n",
       "      <td>5</td>\n",
       "      <td>5.50000</td>\n",
       "      <td>2.0</td>\n",
       "      <td>2.541359</td>\n",
       "      <td>82.0</td>\n",
       "      <td>6.0</td>\n",
       "      <td>67.0</td>\n",
       "      <td>74.677073</td>\n",
       "      <td>9.0</td>\n",
       "      <td>72.0</td>\n",
       "      <td>0.0</td>\n",
       "    </tr>\n",
       "  </tbody>\n",
       "</table>\n",
       "</div>"
      ],
      "text/plain": [
       "     rid  winningTime  metric  ncond  class  age  decimalPrice  isFav   \n",
       "0  10312       253.88  3218.0     10      4    4      0.076923    0.0  \\\n",
       "1  10312       253.88  3218.0     10      4    6      0.444444    1.0   \n",
       "2  10312       253.88  3218.0     10      4    7      0.019608    0.0   \n",
       "3  10312       253.88  3218.0     10      4    6      0.230769    0.0   \n",
       "4  10312       253.88  3218.0     10      4    7      0.038462    0.0   \n",
       "\n",
       "   position  positionL  distance  outHandicap    RPR  saddle     TR   \n",
       "0         1    4.57028       2.0     2.541359  103.0     9.0  103.0  \\\n",
       "1         2   15.00000       2.0     2.541359   96.0     7.0   89.0   \n",
       "2         3    5.50000       2.0     2.541359   97.0     5.0   88.0   \n",
       "3         4   10.00000       2.0     2.541359   89.0     4.0   75.0   \n",
       "4         5    5.50000       2.0     2.541359   82.0     6.0   67.0   \n",
       "\n",
       "           OR  runners  weight  res_win  \n",
       "0   74.677073      9.0    66.0      1.0  \n",
       "1  110.000000      9.0    65.0      0.0  \n",
       "2   74.677073      9.0    72.0      0.0  \n",
       "3   74.677073      9.0    72.0      0.0  \n",
       "4   74.677073      9.0    72.0      0.0  "
      ]
     },
     "execution_count": 2,
     "metadata": {},
     "output_type": "execute_result"
    }
   ],
   "source": [
    "clean_m1_df = pd.read_csv(\"Resources/clean_data_model1.csv\")\n",
    "clean_m1_df.head(5)"
   ]
  },
  {
   "cell_type": "code",
   "execution_count": 3,
   "id": "580b0a67",
   "metadata": {},
   "outputs": [],
   "source": [
    "# Convert categorical data to numeric with `pd.get_dummies`\n",
    "coverted_df= pd.get_dummies(clean_m1_df)"
   ]
  },
  {
   "cell_type": "code",
   "execution_count": 4,
   "id": "45a60acf",
   "metadata": {},
   "outputs": [],
   "source": [
    "#drop any NaN from the dataset\n",
    "coverted_df = clean_m1_df.dropna()\n"
   ]
  },
  {
   "cell_type": "code",
   "execution_count": 5,
   "id": "d2bb68ad",
   "metadata": {},
   "outputs": [
    {
     "name": "stdout",
     "output_type": "stream",
     "text": [
      "rid             5617\n",
      "winningTime     4375\n",
      "metric            49\n",
      "ncond             15\n",
      "class              8\n",
      "age               14\n",
      "decimalPrice     274\n",
      "isFav              2\n",
      "position          25\n",
      "positionL        106\n",
      "distance           7\n",
      "outHandicap       16\n",
      "RPR              169\n",
      "saddle            29\n",
      "TR               157\n",
      "OR               151\n",
      "runners           26\n",
      "weight            33\n",
      "res_win            2\n",
      "dtype: int64\n"
     ]
    }
   ],
   "source": [
    "# Determine the number of unique values in each column.\n",
    "unique_application = coverted_df.nunique()\n",
    "print(unique_application)"
   ]
  },
  {
   "cell_type": "code",
   "execution_count": 6,
   "id": "42235395",
   "metadata": {},
   "outputs": [
    {
     "data": {
      "text/plain": [
       "isFav\n",
       "0.0    33733\n",
       "1.0     4841\n",
       "Name: count, dtype: int64"
      ]
     },
     "execution_count": 6,
     "metadata": {},
     "output_type": "execute_result"
    }
   ],
   "source": [
    "# Look at isFav value counts for binning - where 0=not fav; 1=fav\n",
    "application_type_counts = coverted_df['isFav'].value_counts()\n",
    "application_type_counts"
   ]
  },
  {
   "cell_type": "code",
   "execution_count": 7,
   "id": "aef93630",
   "metadata": {},
   "outputs": [],
   "source": [
    "# save to csv to visualize data\n",
    "coverted_df.to_csv('Resources/coverted_df_m1.csv', index=False)"
   ]
  },
  {
   "cell_type": "markdown",
   "id": "7fb97cd4",
   "metadata": {},
   "source": [
    "### Further steps in the model-building process: feature selection, model selection, training, and evaluation ###"
   ]
  },
  {
   "cell_type": "code",
   "execution_count": 8,
   "id": "e55a4786",
   "metadata": {},
   "outputs": [],
   "source": [
    "#feature selection - In this case our target is if the favorite horse wins\n",
    "y = coverted_df[\"isFav\"]\n",
    "X = coverted_df.drop(columns=\"isFav\")"
   ]
  },
  {
   "cell_type": "code",
   "execution_count": 9,
   "id": "6da50404",
   "metadata": {},
   "outputs": [
    {
     "data": {
      "text/plain": [
       "(28930, 18)"
      ]
     },
     "execution_count": 9,
     "metadata": {},
     "output_type": "execute_result"
    }
   ],
   "source": [
    "#splitting the data in train/test\n",
    "\n",
    "from sklearn.model_selection import train_test_split\n",
    "\n",
    "X_train, X_test, y_train, y_test = train_test_split(X, \n",
    "                                                    y, \n",
    "                                                    random_state=1, \n",
    "                                                    stratify=y)\n",
    "X_train.shape"
   ]
  },
  {
   "cell_type": "code",
   "execution_count": 10,
   "id": "022ca7f9",
   "metadata": {},
   "outputs": [],
   "source": [
    "# Create a StandardScaler instances\n",
    "scaler = StandardScaler()\n",
    "\n",
    "# Fit the StandardScaler\n",
    "X_scaler = scaler.fit(X_train)\n",
    "\n",
    "# Scale the data\n",
    "X_train_scaled = X_scaler.transform(X_train)\n",
    "X_test_scaled = X_scaler.transform(X_test)"
   ]
  },
  {
   "cell_type": "markdown",
   "id": "790ae130",
   "metadata": {},
   "source": [
    "# Compile, Train and Evaluate the Model\n",
    "### Since our Model 1 is trying to answer does a  \"favorite horse\" wins? Yes or No, we are using a classification model "
   ]
  },
  {
   "cell_type": "code",
   "execution_count": 11,
   "id": "22fa27df",
   "metadata": {},
   "outputs": [
    {
     "name": "stdout",
     "output_type": "stream",
     "text": [
      "Epoch 1/10\n",
      "905/905 [==============================] - 2s 2ms/step - loss: 0.0442 - accuracy: 0.9377\n",
      "Epoch 2/10\n",
      "905/905 [==============================] - 1s 2ms/step - loss: 0.0388 - accuracy: 0.9447\n",
      "Epoch 3/10\n",
      "905/905 [==============================] - 1s 2ms/step - loss: 0.0380 - accuracy: 0.9458\n",
      "Epoch 4/10\n",
      "905/905 [==============================] - 2s 2ms/step - loss: 0.0373 - accuracy: 0.9470\n",
      "Epoch 5/10\n",
      "905/905 [==============================] - 1s 1ms/step - loss: 0.0368 - accuracy: 0.9471\n",
      "Epoch 6/10\n",
      "905/905 [==============================] - 1s 2ms/step - loss: 0.0365 - accuracy: 0.9478\n",
      "Epoch 7/10\n",
      "905/905 [==============================] - 1s 2ms/step - loss: 0.0362 - accuracy: 0.9480\n",
      "Epoch 8/10\n",
      "905/905 [==============================] - 1s 2ms/step - loss: 0.0361 - accuracy: 0.9487\n",
      "Epoch 9/10\n",
      "905/905 [==============================] - 1s 2ms/step - loss: 0.0355 - accuracy: 0.9501\n",
      "Epoch 10/10\n",
      "905/905 [==============================] - 2s 2ms/step - loss: 0.0353 - accuracy: 0.9502\n",
      "Model: \"sequential\"\n",
      "_________________________________________________________________\n",
      " Layer (type)                Output Shape              Param #   \n",
      "=================================================================\n",
      " dense (Dense)               (None, 500)               9500      \n",
      "                                                                 \n",
      " dense_1 (Dense)             (None, 300)               150300    \n",
      "                                                                 \n",
      " dense_2 (Dense)             (None, 1)                 301       \n",
      "                                                                 \n",
      "=================================================================\n",
      "Total params: 160,101\n",
      "Trainable params: 160,101\n",
      "Non-trainable params: 0\n",
      "_________________________________________________________________\n"
     ]
    }
   ],
   "source": [
    "# Define the model - deep neural net, i.e., the number of input features and hidden nodes for each layer.\n",
    "\n",
    "coverted_df = tf.keras.Sequential([\n",
    "    tf.keras.layers.Dense(500, input_dim=X_train.shape[1], activation=\"relu\"),#first hidden layer\n",
    "    tf.keras.layers.Dense(300, activation=\"tanh\"), #2nd hidden layer\n",
    "    tf.keras.layers.Dense(1, activation=\"sigmoid\") #output layer\n",
    "])\n",
    "\n",
    "# Compile the model\n",
    "coverted_df.compile(optimizer=\"adam\", loss=\"mean_squared_error\", metrics=[\"accuracy\"])\n",
    "\n",
    "coverted_df.fit(X_train_scaled, y_train, epochs=10)\n",
    "\n",
    "# # Scale the test data (above)\n",
    "\n",
    "\n",
    "# Check the structure of the model\n",
    "coverted_df.summary()\n",
    "\n"
   ]
  },
  {
   "cell_type": "code",
   "execution_count": 12,
   "id": "a115afda",
   "metadata": {},
   "outputs": [
    {
     "name": "stdout",
     "output_type": "stream",
     "text": [
      "302/302 [==============================] - 0s 861us/step - loss: 0.0368 - accuracy: 0.9487\n",
      "Loss: 0.0368104949593544\n",
      "Accuracy: 0.9486727714538574\n"
     ]
    }
   ],
   "source": [
    "# Evaluate the model on the scaled test data\n",
    "loss, accuracy = coverted_df.evaluate(X_test_scaled, y_test)\n",
    "print(\"Loss:\", loss)\n",
    "print(\"Accuracy:\", accuracy)"
   ]
  },
  {
   "cell_type": "code",
   "execution_count": 13,
   "id": "37ee5ed6",
   "metadata": {},
   "outputs": [
    {
     "name": "stdout",
     "output_type": "stream",
     "text": [
      "302/302 [==============================] - 0s 801us/step\n"
     ]
    }
   ],
   "source": [
    "# Make predictions on the test data\n",
    "y_pred = coverted_df.predict(X_test_scaled)\n",
    "y_pred_binary = (y_pred > 0.5).astype(int)"
   ]
  },
  {
   "cell_type": "code",
   "execution_count": 14,
   "id": "b1335524",
   "metadata": {},
   "outputs": [
    {
     "name": "stdout",
     "output_type": "stream",
     "text": [
      "Precision: 0.8229448961156278\n"
     ]
    }
   ],
   "source": [
    "from sklearn.metrics import precision_score\n",
    "\n",
    "precision = precision_score(y_test, y_pred_binary)\n",
    "print(\"Precision:\", precision)\n"
   ]
  },
  {
   "cell_type": "code",
   "execution_count": 15,
   "id": "adf44459",
   "metadata": {},
   "outputs": [
    {
     "name": "stdout",
     "output_type": "stream",
     "text": [
      "              precision    recall  f1-score   support\n",
      "\n",
      "         0.0       0.96      0.98      0.97      8434\n",
      "         1.0       0.82      0.75      0.79      1210\n",
      "\n",
      "    accuracy                           0.95      9644\n",
      "   macro avg       0.89      0.86      0.88      9644\n",
      "weighted avg       0.95      0.95      0.95      9644\n",
      "\n"
     ]
    }
   ],
   "source": [
    "from sklearn.metrics import classification_report\n",
    "\n",
    "print(classification_report(y_test, y_pred_binary))"
   ]
  },
  {
   "cell_type": "code",
   "execution_count": 16,
   "id": "c47295d7",
   "metadata": {},
   "outputs": [
    {
     "name": "stdout",
     "output_type": "stream",
     "text": [
      "Average Win Rate for Favorite Horse: 0.7528925619834711\n"
     ]
    }
   ],
   "source": [
    "# Create a DataFrame with actual and predicted labels\n",
    "results_df = pd.DataFrame({'Actual': y_test, 'Predicted': y_pred_binary.flatten()})\n",
    "\n",
    "# Filter under favorite horse - column y_test= 'isFav' (Actual = 1)\n",
    "favorite_horse_df = results_df[results_df['Actual'] == 1]\n",
    "\n",
    "# Calculate the average win rate for the favorite horse\n",
    "favorite_horse_win_rate = favorite_horse_df['Predicted'].mean()\n",
    "\n",
    "# Print the average win rate for the favorite horse\n",
    "print(\"Average Win Rate for Favorite Horse:\", favorite_horse_win_rate)"
   ]
  },
  {
   "cell_type": "code",
   "execution_count": 17,
   "id": "3ba995c5",
   "metadata": {},
   "outputs": [
    {
     "data": {
      "image/png": "[encoded data removed]",
      "text/plain": [
       "<Figure size 640x480 with 1 Axes>"
      ]
     },
     "metadata": {},
     "output_type": "display_data"
    }
   ],
   "source": [
    "import matplotlib.pyplot as plt\n",
    "\n",
    "# Calculate the average win rate for the favorite horse\n",
    "favorite_horse_win_rate = favorite_horse_df['Predicted'].mean()\n",
    "\n",
    "# Plotting the results\n",
    "labels = ['Average Win Rate', 'Model Predictions']\n",
    "values = [favorite_horse_win_rate, precision]\n",
    "\n",
    "plt.bar(labels, values)\n",
    "plt.xlabel('Results')\n",
    "plt.ylabel('Win Rate / Precision')\n",
    "plt.title('Comparison: Average Win Rate vs. Model Predictions')\n",
    "plt.show()\n"
   ]
  },
  {
   "cell_type": "code",
   "execution_count": 18,
   "id": "4717b103",
   "metadata": {},
   "outputs": [
    {
     "data": {
      "image/png": "[encoded data removed]",
      "text/plain": [
       "<Figure size 800x600 with 1 Axes>"
      ]
     },
     "metadata": {},
     "output_type": "display_data"
    }
   ],
   "source": [
    "# Filter the dataset to include only winning horses\n",
    "winning_horses_df = clean_m1_df[clean_m1_df['res_win'] == 1]\n",
    "\n",
    "# Set the figure size\n",
    "plt.figure(figsize=(8, 6))\n",
    "\n",
    "# Plot the age distribution of winning horses\n",
    "plt.hist(winning_horses_df['age'], bins=20, color='blue')\n",
    "\n",
    "# Add gridlines\n",
    "plt.grid(axis='y', alpha=0.5)\n",
    "\n",
    "# Customize colors and labels\n",
    "plt.xlabel('Age', fontsize=12)\n",
    "plt.ylabel('Count', fontsize=12)\n",
    "plt.title('Distribution of Age Among Winning Horses', fontsize=14)\n",
    "\n",
    "# Set a light background color\n",
    "plt.gca().set_facecolor('white')\n",
    "\n",
    "# Show the plot\n",
    "plt.show()"
   ]
  },
  {
   "cell_type": "markdown",
   "id": "6228ea2b",
   "metadata": {},
   "source": [
    "# testing with different parms"
   ]
  },
  {
   "cell_type": "code",
   "execution_count": 19,
   "id": "a3bb7445",
   "metadata": {},
   "outputs": [
    {
     "name": "stdout",
     "output_type": "stream",
     "text": [
      "Epoch 1/10\n",
      "905/905 [==============================] - 1s 863us/step - loss: 0.2168 - accuracy: 0.9140\n",
      "Epoch 2/10\n",
      "905/905 [==============================] - 1s 843us/step - loss: 0.1301 - accuracy: 0.9421\n",
      "Epoch 3/10\n",
      "905/905 [==============================] - 1s 877us/step - loss: 0.1265 - accuracy: 0.9425\n",
      "Epoch 4/10\n",
      "905/905 [==============================] - 1s 857us/step - loss: 0.1247 - accuracy: 0.9427\n",
      "Epoch 5/10\n",
      "905/905 [==============================] - 1s 841us/step - loss: 0.1234 - accuracy: 0.9425\n",
      "Epoch 6/10\n",
      "905/905 [==============================] - 1s 846us/step - loss: 0.1221 - accuracy: 0.9431\n",
      "Epoch 7/10\n",
      "905/905 [==============================] - 1s 867us/step - loss: 0.1211 - accuracy: 0.9428\n",
      "Epoch 8/10\n",
      "905/905 [==============================] - 1s 848us/step - loss: 0.1199 - accuracy: 0.9430\n",
      "Epoch 9/10\n",
      "905/905 [==============================] - 1s 866us/step - loss: 0.1191 - accuracy: 0.9440\n",
      "Epoch 10/10\n",
      "905/905 [==============================] - 1s 849us/step - loss: 0.1184 - accuracy: 0.9442\n",
      "Model: \"sequential_1\"\n",
      "_________________________________________________________________\n",
      " Layer (type)                Output Shape              Param #   \n",
      "=================================================================\n",
      " dense_3 (Dense)             (None, 80)                1520      \n",
      "                                                                 \n",
      " dense_4 (Dense)             (None, 30)                2430      \n",
      "                                                                 \n",
      " dense_5 (Dense)             (None, 1)                 31        \n",
      "                                                                 \n",
      "=================================================================\n",
      "Total params: 3,981\n",
      "Trainable params: 3,981\n",
      "Non-trainable params: 0\n",
      "_________________________________________________________________\n"
     ]
    }
   ],
   "source": [
    "coverted_df = tf.keras.Sequential([\n",
    "    tf.keras.layers.Dense(80, input_dim=X_train.shape[1], activation=\"sigmoid\"),\n",
    "    tf.keras.layers.Dense(30, activation=\"sigmoid\"),\n",
    "    tf.keras.layers.Dense(1, activation=\"sigmoid\")\n",
    "])\n",
    "\n",
    "coverted_df.compile(optimizer=\"adam\", loss=\"binary_crossentropy\", metrics=[\"accuracy\"])\n",
    "\n",
    "coverted_df.fit(X_train_scaled, y_train, epochs=10)\n",
    "\n",
    "# Scale the test data (above)\n",
    "\n",
    "# Check the structure of the model\n",
    "coverted_df.summary()\n"
   ]
  },
  {
   "cell_type": "code",
   "execution_count": 20,
   "id": "509b3135",
   "metadata": {},
   "outputs": [
    {
     "name": "stdout",
     "output_type": "stream",
     "text": [
      "302/302 [==============================] - 0s 755us/step - loss: 0.1129 - accuracy: 0.9469\n",
      "Loss: 0.11290835589170456\n",
      "Accuracy: 0.94691002368927\n"
     ]
    }
   ],
   "source": [
    "# Evaluate the model on the scaled test data\n",
    "loss, accuracy = coverted_df.evaluate(X_test_scaled, y_test)\n",
    "print(\"Loss:\", loss)\n",
    "print(\"Accuracy:\", accuracy)"
   ]
  },
  {
   "cell_type": "code",
   "execution_count": 21,
   "id": "1e360239",
   "metadata": {},
   "outputs": [
    {
     "name": "stdout",
     "output_type": "stream",
     "text": [
      "302/302 [==============================] - 0s 724us/step\n"
     ]
    }
   ],
   "source": [
    "# Make predictions on the test data\n",
    "y_pred = coverted_df.predict(X_test_scaled)\n",
    "y_pred_binary = (y_pred > 0.5).astype(int)"
   ]
  },
  {
   "cell_type": "code",
   "execution_count": 22,
   "id": "957c096c",
   "metadata": {},
   "outputs": [
    {
     "name": "stdout",
     "output_type": "stream",
     "text": [
      "Precision: 0.8116071428571429\n"
     ]
    }
   ],
   "source": [
    "from sklearn.metrics import precision_score\n",
    "\n",
    "precision = precision_score(y_test, y_pred_binary)\n",
    "print(\"Precision:\", precision)\n"
   ]
  },
  {
   "cell_type": "code",
   "execution_count": 23,
   "id": "a342340f",
   "metadata": {},
   "outputs": [
    {
     "name": "stdout",
     "output_type": "stream",
     "text": [
      "              precision    recall  f1-score   support\n",
      "\n",
      "         0.0       0.96      0.97      0.97      8434\n",
      "         1.0       0.81      0.75      0.78      1210\n",
      "\n",
      "    accuracy                           0.95      9644\n",
      "   macro avg       0.89      0.86      0.88      9644\n",
      "weighted avg       0.95      0.95      0.95      9644\n",
      "\n"
     ]
    }
   ],
   "source": [
    "from sklearn.metrics import classification_report\n",
    "\n",
    "print(classification_report(y_test, y_pred_binary))"
   ]
  },
  {
   "cell_type": "code",
   "execution_count": 24,
   "id": "2c8b4fc0",
   "metadata": {},
   "outputs": [
    {
     "name": "stdout",
     "output_type": "stream",
     "text": [
      "Average Win Rate for Favorite Horse: 0.7512396694214876\n"
     ]
    }
   ],
   "source": [
    "# Create a DataFrame with actual and predicted labels\n",
    "results_df = pd.DataFrame({'Actual': y_test, 'Predicted': y_pred_binary.flatten()})\n",
    "\n",
    "# Filter under favorite horse - column y_test= 'isFav' (Actual = 1)\n",
    "favorite_horse_df = results_df[results_df['Actual'] == 1]\n",
    "\n",
    "# Calculate the average win rate for the favorite horse\n",
    "favorite_horse_win_rate = favorite_horse_df['Predicted'].mean()\n",
    "\n",
    "# Print the average win rate for the favorite horse\n",
    "print(\"Average Win Rate for Favorite Horse:\", favorite_horse_win_rate)\n",
    "\n"
   ]
  },
  {
   "cell_type": "code",
   "execution_count": 25,
   "id": "596f3c20",
   "metadata": {},
   "outputs": [
    {
     "data": {
      "image/png": "[encoded data removed]",
      "text/plain": [
       "<Figure size 640x480 with 1 Axes>"
      ]
     },
     "metadata": {},
     "output_type": "display_data"
    }
   ],
   "source": [
    "import matplotlib.pyplot as plt\n",
    "\n",
    "# Calculate the average win rate for the favorite horse\n",
    "favorite_horse_win_rate = favorite_horse_df['Predicted'].mean()\n",
    "\n",
    "# Plotting the results\n",
    "labels = ['Average Win Rate', 'Model Predictions']\n",
    "values = [favorite_horse_win_rate, precision]\n",
    "\n",
    "plt.bar(labels, values)\n",
    "plt.xlabel('Results')\n",
    "plt.ylabel('Win Rate / Precision')\n",
    "plt.title('Comparison: Average Win Rate vs. Model Predictions')\n",
    "plt.show()\n"
   ]
  },
  {
   "cell_type": "code",
   "execution_count": 26,
   "id": "2aa2d46d",
   "metadata": {},
   "outputs": [
    {
     "data": {
      "image/png": "[encoded data removed]",
      "text/plain": [
       "<Figure size 800x600 with 1 Axes>"
      ]
     },
     "metadata": {},
     "output_type": "display_data"
    }
   ],
   "source": [
    "# Filter the dataset to include only winning horses\n",
    "winning_horses_df = clean_m1_df[clean_m1_df['res_win'] == 1]\n",
    "\n",
    "# Set the figure size\n",
    "plt.figure(figsize=(8, 6))\n",
    "\n",
    "# Plot the age distribution of winning horses\n",
    "plt.hist(winning_horses_df['age'], bins=20, color='blue')\n",
    "\n",
    "# Add gridlines\n",
    "plt.grid(axis='y', alpha=0.5)\n",
    "\n",
    "# Customize colors and labels\n",
    "plt.xlabel('Age', fontsize=12)\n",
    "plt.ylabel('Count', fontsize=12)\n",
    "plt.title('Distribution of Age Among Winning Horses', fontsize=14)\n",
    "\n",
    "# Set a light background color\n",
    "plt.gca().set_facecolor('white')\n",
    "\n",
    "# Show the plot\n",
    "plt.show()\n"
   ]
  },
  {
   "cell_type": "code",
   "execution_count": null,
   "id": "39a11294",
   "metadata": {},
   "outputs": [],
   "source": []
  }
 ],
 "metadata": {
  "kernelspec": {
   "display_name": "Python 3 (ipykernel)",
   "language": "python",
   "name": "python3"
  },
  "language_info": {
   "codemirror_mode": {
    "name": "ipython",
    "version": 3
   },
   "file_extension": ".py",
   "mimetype": "text/x-python",
   "name": "python",
   "nbconvert_exporter": "python",
   "pygments_lexer": "ipython3",
   "version": "3.9.13"
  }
 },
 "nbformat": 4,
 "nbformat_minor": 5
}
