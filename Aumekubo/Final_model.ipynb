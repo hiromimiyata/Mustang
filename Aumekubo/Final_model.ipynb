{
 "cells": [
  {
   "cell_type": "markdown",
   "id": "a4c20436",
   "metadata": {},
   "source": [
    "Note: see Clean_up file for Mongo DF"
   ]
  },
  {
   "cell_type": "code",
   "execution_count": 37,
   "id": "90aeff17",
   "metadata": {},
   "outputs": [],
   "source": [
    " # Initial imports\n",
    "import pandas as pd\n",
    "from pathlib import Path\n",
    "from sklearn.ensemble import RandomForestClassifier\n",
    "from sklearn.preprocessing import StandardScaler\n",
    "from sklearn.model_selection import train_test_split\n",
    "from sklearn.metrics import confusion_matrix, accuracy_score, classification_report\n",
    "%matplotlib inline"
   ]
  },
  {
   "cell_type": "markdown",
   "id": "4dc3ad30",
   "metadata": {},
   "source": [
    " ## Loading and Preprocessing Loans Encoded Data"
   ]
  },
  {
   "cell_type": "code",
   "execution_count": 61,
   "id": "b5dc66f8",
   "metadata": {},
   "outputs": [
    {
     "data": {
      "text/html": [
       "<div>\n",
       "<style scoped>\n",
       "    .dataframe tbody tr th:only-of-type {\n",
       "        vertical-align: middle;\n",
       "    }\n",
       "\n",
       "    .dataframe tbody tr th {\n",
       "        vertical-align: top;\n",
       "    }\n",
       "\n",
       "    .dataframe thead th {\n",
       "        text-align: right;\n",
       "    }\n",
       "</style>\n",
       "<table border=\"1\" class=\"dataframe\">\n",
       "  <thead>\n",
       "    <tr style=\"text-align: right;\">\n",
       "      <th></th>\n",
       "      <th>rid</th>\n",
       "      <th>winningTime</th>\n",
       "      <th>metric</th>\n",
       "      <th>ncond</th>\n",
       "      <th>class</th>\n",
       "      <th>condition</th>\n",
       "      <th>horseName</th>\n",
       "      <th>trainerName</th>\n",
       "      <th>jockeyName</th>\n",
       "      <th>age</th>\n",
       "      <th>...</th>\n",
       "      <th>outHandicap</th>\n",
       "      <th>RPR</th>\n",
       "      <th>saddle</th>\n",
       "      <th>father</th>\n",
       "      <th>TR</th>\n",
       "      <th>OR</th>\n",
       "      <th>runners</th>\n",
       "      <th>weight</th>\n",
       "      <th>res_win</th>\n",
       "      <th>res_place</th>\n",
       "    </tr>\n",
       "  </thead>\n",
       "  <tbody>\n",
       "    <tr>\n",
       "      <th>0</th>\n",
       "      <td>10312</td>\n",
       "      <td>253.88</td>\n",
       "      <td>3218.0</td>\n",
       "      <td>10</td>\n",
       "      <td>4</td>\n",
       "      <td>Good To Soft</td>\n",
       "      <td>Waterproof</td>\n",
       "      <td>Shaun Keightley</td>\n",
       "      <td>Brendan Powell</td>\n",
       "      <td>4.0</td>\n",
       "      <td>...</td>\n",
       "      <td>2.541359</td>\n",
       "      <td>103.0</td>\n",
       "      <td>9.0</td>\n",
       "      <td>Pour Moi</td>\n",
       "      <td>103.0</td>\n",
       "      <td>80.446685</td>\n",
       "      <td>9.0</td>\n",
       "      <td>66.0</td>\n",
       "      <td>1.0</td>\n",
       "      <td>1.0</td>\n",
       "    </tr>\n",
       "    <tr>\n",
       "      <th>1</th>\n",
       "      <td>10312</td>\n",
       "      <td>253.88</td>\n",
       "      <td>3218.0</td>\n",
       "      <td>10</td>\n",
       "      <td>4</td>\n",
       "      <td>Good To Soft</td>\n",
       "      <td>Eva's Diva</td>\n",
       "      <td>Phil Middleton</td>\n",
       "      <td>Mr Sam Lee</td>\n",
       "      <td>6.0</td>\n",
       "      <td>...</td>\n",
       "      <td>2.541359</td>\n",
       "      <td>96.0</td>\n",
       "      <td>7.0</td>\n",
       "      <td>Getaway</td>\n",
       "      <td>89.0</td>\n",
       "      <td>110.000000</td>\n",
       "      <td>9.0</td>\n",
       "      <td>65.0</td>\n",
       "      <td>0.0</td>\n",
       "      <td>1.0</td>\n",
       "    </tr>\n",
       "    <tr>\n",
       "      <th>2</th>\n",
       "      <td>10312</td>\n",
       "      <td>253.88</td>\n",
       "      <td>3218.0</td>\n",
       "      <td>10</td>\n",
       "      <td>4</td>\n",
       "      <td>Good To Soft</td>\n",
       "      <td>Incredible Dream</td>\n",
       "      <td>Conrad Allen</td>\n",
       "      <td>Joshua Moore</td>\n",
       "      <td>7.0</td>\n",
       "      <td>...</td>\n",
       "      <td>2.541359</td>\n",
       "      <td>97.0</td>\n",
       "      <td>5.0</td>\n",
       "      <td>Vale Of York</td>\n",
       "      <td>88.0</td>\n",
       "      <td>80.446685</td>\n",
       "      <td>9.0</td>\n",
       "      <td>72.0</td>\n",
       "      <td>0.0</td>\n",
       "      <td>1.0</td>\n",
       "    </tr>\n",
       "  </tbody>\n",
       "</table>\n",
       "<p>3 rows × 23 columns</p>\n",
       "</div>"
      ],
      "text/plain": [
       "     rid  winningTime  metric  ncond  class     condition         horseName   \n",
       "0  10312       253.88  3218.0     10      4  Good To Soft        Waterproof  \\\n",
       "1  10312       253.88  3218.0     10      4  Good To Soft        Eva's Diva   \n",
       "2  10312       253.88  3218.0     10      4  Good To Soft  Incredible Dream   \n",
       "\n",
       "       trainerName      jockeyName  age  ...  outHandicap    RPR  saddle   \n",
       "0  Shaun Keightley  Brendan Powell  4.0  ...     2.541359  103.0     9.0  \\\n",
       "1   Phil Middleton      Mr Sam Lee  6.0  ...     2.541359   96.0     7.0   \n",
       "2     Conrad Allen    Joshua Moore  7.0  ...     2.541359   97.0     5.0   \n",
       "\n",
       "         father     TR          OR runners  weight  res_win  res_place  \n",
       "0      Pour Moi  103.0   80.446685     9.0    66.0      1.0        1.0  \n",
       "1       Getaway   89.0  110.000000     9.0    65.0      0.0        1.0  \n",
       "2  Vale Of York   88.0   80.446685     9.0    72.0      0.0        1.0  \n",
       "\n",
       "[3 rows x 23 columns]"
      ]
     },
     "execution_count": 61,
     "metadata": {},
     "output_type": "execute_result"
    }
   ],
   "source": [
    "file_path = r'C:\\Users\\aumek\\OneDrive\\Desktop\\Git_Personnal_Rep\\Resource_mustang\\coverted_tree_df.csv'\n",
    "# Read the CSV file into pandas\n",
    "random_forest = pd.read_csv(file_path)\n",
    "random_forest.head(3)"
   ]
  },
  {
   "cell_type": "code",
   "execution_count": 62,
   "id": "e828da3b",
   "metadata": {},
   "outputs": [
    {
     "data": {
      "text/plain": [
       "Index(['rid', 'winningTime', 'metric', 'ncond', 'class', 'condition',\n",
       "       'horseName', 'trainerName', 'jockeyName', 'age', 'isFav', 'position',\n",
       "       'distance', 'outHandicap', 'RPR', 'saddle', 'father', 'TR', 'OR',\n",
       "       'runners', 'weight', 'res_win', 'res_place'],\n",
       "      dtype='object')"
      ]
     },
     "execution_count": 62,
     "metadata": {},
     "output_type": "execute_result"
    }
   ],
   "source": [
    "random_forest.columns"
   ]
  },
  {
   "cell_type": "code",
   "execution_count": 63,
   "id": "e54a8bff",
   "metadata": {},
   "outputs": [
    {
     "data": {
      "text/html": [
       "<div>\n",
       "<style scoped>\n",
       "    .dataframe tbody tr th:only-of-type {\n",
       "        vertical-align: middle;\n",
       "    }\n",
       "\n",
       "    .dataframe tbody tr th {\n",
       "        vertical-align: top;\n",
       "    }\n",
       "\n",
       "    .dataframe thead th {\n",
       "        text-align: right;\n",
       "    }\n",
       "</style>\n",
       "<table border=\"1\" class=\"dataframe\">\n",
       "  <thead>\n",
       "    <tr style=\"text-align: right;\">\n",
       "      <th></th>\n",
       "      <th>class</th>\n",
       "      <th>age</th>\n",
       "      <th>distance</th>\n",
       "      <th>condition</th>\n",
       "      <th>winningTime</th>\n",
       "      <th>RPR</th>\n",
       "      <th>res_win</th>\n",
       "    </tr>\n",
       "  </thead>\n",
       "  <tbody>\n",
       "    <tr>\n",
       "      <th>0</th>\n",
       "      <td>4</td>\n",
       "      <td>4.0</td>\n",
       "      <td>2.0</td>\n",
       "      <td>Good To Soft</td>\n",
       "      <td>253.88</td>\n",
       "      <td>103.0</td>\n",
       "      <td>1.0</td>\n",
       "    </tr>\n",
       "    <tr>\n",
       "      <th>1</th>\n",
       "      <td>4</td>\n",
       "      <td>6.0</td>\n",
       "      <td>2.0</td>\n",
       "      <td>Good To Soft</td>\n",
       "      <td>253.88</td>\n",
       "      <td>96.0</td>\n",
       "      <td>0.0</td>\n",
       "    </tr>\n",
       "    <tr>\n",
       "      <th>2</th>\n",
       "      <td>4</td>\n",
       "      <td>7.0</td>\n",
       "      <td>2.0</td>\n",
       "      <td>Good To Soft</td>\n",
       "      <td>253.88</td>\n",
       "      <td>97.0</td>\n",
       "      <td>0.0</td>\n",
       "    </tr>\n",
       "    <tr>\n",
       "      <th>3</th>\n",
       "      <td>4</td>\n",
       "      <td>6.0</td>\n",
       "      <td>2.0</td>\n",
       "      <td>Good To Soft</td>\n",
       "      <td>253.88</td>\n",
       "      <td>89.0</td>\n",
       "      <td>0.0</td>\n",
       "    </tr>\n",
       "    <tr>\n",
       "      <th>4</th>\n",
       "      <td>4</td>\n",
       "      <td>7.0</td>\n",
       "      <td>2.0</td>\n",
       "      <td>Good To Soft</td>\n",
       "      <td>253.88</td>\n",
       "      <td>82.0</td>\n",
       "      <td>0.0</td>\n",
       "    </tr>\n",
       "  </tbody>\n",
       "</table>\n",
       "</div>"
      ],
      "text/plain": [
       "   class  age  distance     condition  winningTime    RPR  res_win\n",
       "0      4  4.0       2.0  Good To Soft       253.88  103.0      1.0\n",
       "1      4  6.0       2.0  Good To Soft       253.88   96.0      0.0\n",
       "2      4  7.0       2.0  Good To Soft       253.88   97.0      0.0\n",
       "3      4  6.0       2.0  Good To Soft       253.88   89.0      0.0\n",
       "4      4  7.0       2.0  Good To Soft       253.88   82.0      0.0"
      ]
     },
     "execution_count": 63,
     "metadata": {},
     "output_type": "execute_result"
    }
   ],
   "source": [
    "# List of relevant columns for prediction\n",
    "columns_to_keep = ['class', 'age', 'distance', 'condition', 'winningTime', 'RPR', 'res_win']\n",
    "\n",
    "# Create a new DataFrame with only the selected columns\n",
    "horse_characteristics_df = random_forest[columns_to_keep]\n",
    "\n",
    "# Display the first few rows of the new DataFrame\n",
    "horse_characteristics_df.head()\n"
   ]
  },
  {
   "cell_type": "code",
   "execution_count": 64,
   "id": "06906b02",
   "metadata": {},
   "outputs": [
    {
     "data": {
      "text/plain": [
       "class            int64\n",
       "age            float64\n",
       "distance       float64\n",
       "condition       object\n",
       "winningTime    float64\n",
       "RPR            float64\n",
       "res_win        float64\n",
       "dtype: object"
      ]
     },
     "execution_count": 64,
     "metadata": {},
     "output_type": "execute_result"
    }
   ],
   "source": [
    "horse_characteristics_df.dtypes"
   ]
  },
  {
   "cell_type": "code",
   "execution_count": 81,
   "id": "56ca0c8e",
   "metadata": {},
   "outputs": [
    {
     "name": "stdout",
     "output_type": "stream",
     "text": [
      "Columns with NaN values:\n",
      "[]\n"
     ]
    }
   ],
   "source": [
    "# Check for missing values (NaN)\n",
    "nan_columns = horse_characteristics_df.columns[horse_characteristics_df.isnull().any()].tolist()\n",
    "print(\"Columns with NaN values:\")\n",
    "print(nan_columns)"
   ]
  },
  {
   "cell_type": "code",
   "execution_count": 82,
   "id": "45a889b6",
   "metadata": {},
   "outputs": [],
   "source": [
    "horse_data_df = pd.get_dummies(horse_characteristics_df)"
   ]
  },
  {
   "cell_type": "code",
   "execution_count": 83,
   "id": "d4338322",
   "metadata": {},
   "outputs": [
    {
     "data": {
      "text/plain": [
       "Index(['class', 'age', 'distance', 'winningTime', 'RPR', 'res_win',\n",
       "       'condition_Fast', 'condition_Firm', 'condition_Frozen',\n",
       "       'condition_Good', 'condition_Good To Firm', 'condition_Good To Soft',\n",
       "       'condition_Good To Yielding', 'condition_Heavy', 'condition_Muddy',\n",
       "       'condition_Sloppy', 'condition_Slow', 'condition_Soft',\n",
       "       'condition_Soft To Heavy', 'condition_Standard',\n",
       "       'condition_Standard To Slow', 'condition_Very Soft',\n",
       "       'condition_Yielding', 'condition_Yielding To Soft'],\n",
       "      dtype='object')"
      ]
     },
     "execution_count": 83,
     "metadata": {},
     "output_type": "execute_result"
    }
   ],
   "source": [
    "horse_data_df.columns"
   ]
  },
  {
   "cell_type": "code",
   "execution_count": 84,
   "id": "c4bea622",
   "metadata": {},
   "outputs": [
    {
     "data": {
      "text/html": [
       "<div>\n",
       "<style scoped>\n",
       "    .dataframe tbody tr th:only-of-type {\n",
       "        vertical-align: middle;\n",
       "    }\n",
       "\n",
       "    .dataframe tbody tr th {\n",
       "        vertical-align: top;\n",
       "    }\n",
       "\n",
       "    .dataframe thead th {\n",
       "        text-align: right;\n",
       "    }\n",
       "</style>\n",
       "<table border=\"1\" class=\"dataframe\">\n",
       "  <thead>\n",
       "    <tr style=\"text-align: right;\">\n",
       "      <th></th>\n",
       "      <th>class</th>\n",
       "      <th>age</th>\n",
       "      <th>distance</th>\n",
       "      <th>winningTime</th>\n",
       "      <th>RPR</th>\n",
       "      <th>condition_Fast</th>\n",
       "      <th>condition_Firm</th>\n",
       "      <th>condition_Frozen</th>\n",
       "      <th>condition_Good</th>\n",
       "      <th>condition_Good To Firm</th>\n",
       "      <th>...</th>\n",
       "      <th>condition_Muddy</th>\n",
       "      <th>condition_Sloppy</th>\n",
       "      <th>condition_Slow</th>\n",
       "      <th>condition_Soft</th>\n",
       "      <th>condition_Soft To Heavy</th>\n",
       "      <th>condition_Standard</th>\n",
       "      <th>condition_Standard To Slow</th>\n",
       "      <th>condition_Very Soft</th>\n",
       "      <th>condition_Yielding</th>\n",
       "      <th>condition_Yielding To Soft</th>\n",
       "    </tr>\n",
       "  </thead>\n",
       "  <tbody>\n",
       "    <tr>\n",
       "      <th>0</th>\n",
       "      <td>4</td>\n",
       "      <td>4.0</td>\n",
       "      <td>2.0</td>\n",
       "      <td>253.88</td>\n",
       "      <td>103.0</td>\n",
       "      <td>False</td>\n",
       "      <td>False</td>\n",
       "      <td>False</td>\n",
       "      <td>False</td>\n",
       "      <td>False</td>\n",
       "      <td>...</td>\n",
       "      <td>False</td>\n",
       "      <td>False</td>\n",
       "      <td>False</td>\n",
       "      <td>False</td>\n",
       "      <td>False</td>\n",
       "      <td>False</td>\n",
       "      <td>False</td>\n",
       "      <td>False</td>\n",
       "      <td>False</td>\n",
       "      <td>False</td>\n",
       "    </tr>\n",
       "    <tr>\n",
       "      <th>1</th>\n",
       "      <td>4</td>\n",
       "      <td>6.0</td>\n",
       "      <td>2.0</td>\n",
       "      <td>253.88</td>\n",
       "      <td>96.0</td>\n",
       "      <td>False</td>\n",
       "      <td>False</td>\n",
       "      <td>False</td>\n",
       "      <td>False</td>\n",
       "      <td>False</td>\n",
       "      <td>...</td>\n",
       "      <td>False</td>\n",
       "      <td>False</td>\n",
       "      <td>False</td>\n",
       "      <td>False</td>\n",
       "      <td>False</td>\n",
       "      <td>False</td>\n",
       "      <td>False</td>\n",
       "      <td>False</td>\n",
       "      <td>False</td>\n",
       "      <td>False</td>\n",
       "    </tr>\n",
       "    <tr>\n",
       "      <th>2</th>\n",
       "      <td>4</td>\n",
       "      <td>7.0</td>\n",
       "      <td>2.0</td>\n",
       "      <td>253.88</td>\n",
       "      <td>97.0</td>\n",
       "      <td>False</td>\n",
       "      <td>False</td>\n",
       "      <td>False</td>\n",
       "      <td>False</td>\n",
       "      <td>False</td>\n",
       "      <td>...</td>\n",
       "      <td>False</td>\n",
       "      <td>False</td>\n",
       "      <td>False</td>\n",
       "      <td>False</td>\n",
       "      <td>False</td>\n",
       "      <td>False</td>\n",
       "      <td>False</td>\n",
       "      <td>False</td>\n",
       "      <td>False</td>\n",
       "      <td>False</td>\n",
       "    </tr>\n",
       "    <tr>\n",
       "      <th>3</th>\n",
       "      <td>4</td>\n",
       "      <td>6.0</td>\n",
       "      <td>2.0</td>\n",
       "      <td>253.88</td>\n",
       "      <td>89.0</td>\n",
       "      <td>False</td>\n",
       "      <td>False</td>\n",
       "      <td>False</td>\n",
       "      <td>False</td>\n",
       "      <td>False</td>\n",
       "      <td>...</td>\n",
       "      <td>False</td>\n",
       "      <td>False</td>\n",
       "      <td>False</td>\n",
       "      <td>False</td>\n",
       "      <td>False</td>\n",
       "      <td>False</td>\n",
       "      <td>False</td>\n",
       "      <td>False</td>\n",
       "      <td>False</td>\n",
       "      <td>False</td>\n",
       "    </tr>\n",
       "    <tr>\n",
       "      <th>4</th>\n",
       "      <td>4</td>\n",
       "      <td>7.0</td>\n",
       "      <td>2.0</td>\n",
       "      <td>253.88</td>\n",
       "      <td>82.0</td>\n",
       "      <td>False</td>\n",
       "      <td>False</td>\n",
       "      <td>False</td>\n",
       "      <td>False</td>\n",
       "      <td>False</td>\n",
       "      <td>...</td>\n",
       "      <td>False</td>\n",
       "      <td>False</td>\n",
       "      <td>False</td>\n",
       "      <td>False</td>\n",
       "      <td>False</td>\n",
       "      <td>False</td>\n",
       "      <td>False</td>\n",
       "      <td>False</td>\n",
       "      <td>False</td>\n",
       "      <td>False</td>\n",
       "    </tr>\n",
       "  </tbody>\n",
       "</table>\n",
       "<p>5 rows × 23 columns</p>\n",
       "</div>"
      ],
      "text/plain": [
       "   class  age  distance  winningTime    RPR  condition_Fast  condition_Firm   \n",
       "0      4  4.0       2.0       253.88  103.0           False           False  \\\n",
       "1      4  6.0       2.0       253.88   96.0           False           False   \n",
       "2      4  7.0       2.0       253.88   97.0           False           False   \n",
       "3      4  6.0       2.0       253.88   89.0           False           False   \n",
       "4      4  7.0       2.0       253.88   82.0           False           False   \n",
       "\n",
       "   condition_Frozen  condition_Good  condition_Good To Firm  ...   \n",
       "0             False           False                   False  ...  \\\n",
       "1             False           False                   False  ...   \n",
       "2             False           False                   False  ...   \n",
       "3             False           False                   False  ...   \n",
       "4             False           False                   False  ...   \n",
       "\n",
       "   condition_Muddy  condition_Sloppy  condition_Slow  condition_Soft   \n",
       "0            False             False           False           False  \\\n",
       "1            False             False           False           False   \n",
       "2            False             False           False           False   \n",
       "3            False             False           False           False   \n",
       "4            False             False           False           False   \n",
       "\n",
       "   condition_Soft To Heavy  condition_Standard  condition_Standard To Slow   \n",
       "0                    False               False                       False  \\\n",
       "1                    False               False                       False   \n",
       "2                    False               False                       False   \n",
       "3                    False               False                       False   \n",
       "4                    False               False                       False   \n",
       "\n",
       "   condition_Very Soft  condition_Yielding  condition_Yielding To Soft  \n",
       "0                False               False                       False  \n",
       "1                False               False                       False  \n",
       "2                False               False                       False  \n",
       "3                False               False                       False  \n",
       "4                False               False                       False  \n",
       "\n",
       "[5 rows x 23 columns]"
      ]
     },
     "execution_count": 84,
     "metadata": {},
     "output_type": "execute_result"
    }
   ],
   "source": [
    " # Define features set\n",
    "features= horse_data_df.copy()\n",
    "features.drop(\"res_win\", axis=1, inplace=True)\n",
    "features.head()"
   ]
  },
  {
   "cell_type": "code",
   "execution_count": 85,
   "id": "df97fb4f",
   "metadata": {},
   "outputs": [
    {
     "data": {
      "text/plain": [
       "array([1., 0., 0., 0., 0.])"
      ]
     },
     "execution_count": 85,
     "metadata": {},
     "output_type": "execute_result"
    }
   ],
   "source": [
    "# Define target vector\n",
    "target = horse_data_df[\"res_win\"].ravel()\n",
    "target[:5]"
   ]
  },
  {
   "cell_type": "code",
   "execution_count": 86,
   "id": "bc3fdbf3",
   "metadata": {},
   "outputs": [],
   "source": [
    "# Splitting into Train and Test sets\n",
    "X_train, X_test, y_train, y_test = train_test_split(features, target, random_state=78)\n"
   ]
  },
  {
   "cell_type": "code",
   "execution_count": 87,
   "id": "0e689272",
   "metadata": {},
   "outputs": [],
   "source": [
    "# Creating StandardScaler instance\n",
    "scaler = StandardScaler()"
   ]
  },
  {
   "cell_type": "code",
   "execution_count": 88,
   "id": "d409e62b",
   "metadata": {},
   "outputs": [],
   "source": [
    " # Fitting Standard Scaller\n",
    "X_scaler = scaler.fit(X_train)"
   ]
  },
  {
   "cell_type": "code",
   "execution_count": 89,
   "id": "31ce601f",
   "metadata": {},
   "outputs": [],
   "source": [
    "# Scaling data\n",
    "X_train_scaled = X_scaler.transform(X_train)\n",
    "X_test_scaled = X_scaler.transform(X_test)"
   ]
  },
  {
   "cell_type": "markdown",
   "id": "917e79af",
   "metadata": {},
   "source": [
    " ## Fitting the Random Forest Model"
   ]
  },
  {
   "cell_type": "code",
   "execution_count": 90,
   "id": "839b61f1",
   "metadata": {},
   "outputs": [],
   "source": [
    " # Create a random forest classifier\n",
    "rf_model = RandomForestClassifier(n_estimators=500, random_state=78)"
   ]
  },
  {
   "cell_type": "code",
   "execution_count": 91,
   "id": "55412df6",
   "metadata": {},
   "outputs": [],
   "source": [
    "# Fitting the model\n",
    "rf_model = rf_model.fit(X_train_scaled, y_train)"
   ]
  },
  {
   "cell_type": "markdown",
   "id": "c2c526df",
   "metadata": {},
   "source": [
    "## Making Predictions Using the Random Forest Model"
   ]
  },
  {
   "cell_type": "code",
   "execution_count": 92,
   "id": "c1224a77",
   "metadata": {},
   "outputs": [],
   "source": [
    " # Making predictions using the testing data\n",
    "predictions = rf_model.predict(X_test_scaled)"
   ]
  },
  {
   "cell_type": "markdown",
   "id": "35480f8c",
   "metadata": {},
   "source": [
    "## Model Evaluation"
   ]
  },
  {
   "cell_type": "code",
   "execution_count": 93,
   "id": "497bd538",
   "metadata": {},
   "outputs": [],
   "source": [
    "# Calculating the confusion matrix\n",
    "cm = confusion_matrix(y_test, predictions)\n",
    "cm_df = pd.DataFrame(\n",
    "    cm, index=[\"Actual 0\", \"Actual 1\"], columns=[\"Predicted 0\", \"Predicted 1\"]\n",
    ")\n",
    "\n",
    "# Calculating the accuracy score\n",
    "acc_score = accuracy_score(y_test, predictions)"
   ]
  },
  {
   "cell_type": "code",
   "execution_count": 97,
   "id": "5b45122c",
   "metadata": {},
   "outputs": [
    {
     "name": "stdout",
     "output_type": "stream",
     "text": [
      "Confusion Matrix\n"
     ]
    },
    {
     "data": {
      "text/html": [
       "<div>\n",
       "<style scoped>\n",
       "    .dataframe tbody tr th:only-of-type {\n",
       "        vertical-align: middle;\n",
       "    }\n",
       "\n",
       "    .dataframe tbody tr th {\n",
       "        vertical-align: top;\n",
       "    }\n",
       "\n",
       "    .dataframe thead th {\n",
       "        text-align: right;\n",
       "    }\n",
       "</style>\n",
       "<table border=\"1\" class=\"dataframe\">\n",
       "  <thead>\n",
       "    <tr style=\"text-align: right;\">\n",
       "      <th></th>\n",
       "      <th>Predicted 0</th>\n",
       "      <th>Predicted 1</th>\n",
       "    </tr>\n",
       "  </thead>\n",
       "  <tbody>\n",
       "    <tr>\n",
       "      <th>Actual 0</th>\n",
       "      <td>31336</td>\n",
       "      <td>869</td>\n",
       "    </tr>\n",
       "    <tr>\n",
       "      <th>Actual 1</th>\n",
       "      <td>3210</td>\n",
       "      <td>313</td>\n",
       "    </tr>\n",
       "  </tbody>\n",
       "</table>\n",
       "</div>"
      ],
      "text/plain": [
       "          Predicted 0  Predicted 1\n",
       "Actual 0        31336          869\n",
       "Actual 1         3210          313"
      ]
     },
     "metadata": {},
     "output_type": "display_data"
    },
    {
     "name": "stdout",
     "output_type": "stream",
     "text": [
      "Accuracy Score : 0.8858318405732198\n",
      "Classification Report\n",
      "              precision    recall  f1-score   support\n",
      "\n",
      "         0.0       0.91      0.97      0.94     32205\n",
      "         1.0       0.26      0.09      0.13      3523\n",
      "\n",
      "    accuracy                           0.89     35728\n",
      "   macro avg       0.59      0.53      0.54     35728\n",
      "weighted avg       0.84      0.89      0.86     35728\n",
      "\n"
     ]
    }
   ],
   "source": [
    "# Displaying results\n",
    "print(\"Confusion Matrix\")\n",
    "display(cm_df)\n",
    "print(f\"Accuracy Score : {acc_score}\")\n",
    "print(\"Classification Report\")\n",
    "print(classification_report(y_test, predictions))"
   ]
  },
  {
   "cell_type": "markdown",
   "id": "71eadb4d",
   "metadata": {},
   "source": [
    "## Changing target to \"IsFav\""
   ]
  },
  {
   "cell_type": "code",
   "execution_count": 98,
   "id": "8ad8a6d8",
   "metadata": {},
   "outputs": [
    {
     "data": {
      "text/html": [
       "<div>\n",
       "<style scoped>\n",
       "    .dataframe tbody tr th:only-of-type {\n",
       "        vertical-align: middle;\n",
       "    }\n",
       "\n",
       "    .dataframe tbody tr th {\n",
       "        vertical-align: top;\n",
       "    }\n",
       "\n",
       "    .dataframe thead th {\n",
       "        text-align: right;\n",
       "    }\n",
       "</style>\n",
       "<table border=\"1\" class=\"dataframe\">\n",
       "  <thead>\n",
       "    <tr style=\"text-align: right;\">\n",
       "      <th></th>\n",
       "      <th>class</th>\n",
       "      <th>age</th>\n",
       "      <th>distance</th>\n",
       "      <th>condition</th>\n",
       "      <th>winningTime</th>\n",
       "      <th>RPR</th>\n",
       "      <th>res_win</th>\n",
       "      <th>isFav</th>\n",
       "    </tr>\n",
       "  </thead>\n",
       "  <tbody>\n",
       "    <tr>\n",
       "      <th>0</th>\n",
       "      <td>4</td>\n",
       "      <td>4.0</td>\n",
       "      <td>2.0</td>\n",
       "      <td>Good To Soft</td>\n",
       "      <td>253.88</td>\n",
       "      <td>103.0</td>\n",
       "      <td>1.0</td>\n",
       "      <td>0.0</td>\n",
       "    </tr>\n",
       "    <tr>\n",
       "      <th>1</th>\n",
       "      <td>4</td>\n",
       "      <td>6.0</td>\n",
       "      <td>2.0</td>\n",
       "      <td>Good To Soft</td>\n",
       "      <td>253.88</td>\n",
       "      <td>96.0</td>\n",
       "      <td>0.0</td>\n",
       "      <td>1.0</td>\n",
       "    </tr>\n",
       "    <tr>\n",
       "      <th>2</th>\n",
       "      <td>4</td>\n",
       "      <td>7.0</td>\n",
       "      <td>2.0</td>\n",
       "      <td>Good To Soft</td>\n",
       "      <td>253.88</td>\n",
       "      <td>97.0</td>\n",
       "      <td>0.0</td>\n",
       "      <td>0.0</td>\n",
       "    </tr>\n",
       "    <tr>\n",
       "      <th>3</th>\n",
       "      <td>4</td>\n",
       "      <td>6.0</td>\n",
       "      <td>2.0</td>\n",
       "      <td>Good To Soft</td>\n",
       "      <td>253.88</td>\n",
       "      <td>89.0</td>\n",
       "      <td>0.0</td>\n",
       "      <td>0.0</td>\n",
       "    </tr>\n",
       "    <tr>\n",
       "      <th>4</th>\n",
       "      <td>4</td>\n",
       "      <td>7.0</td>\n",
       "      <td>2.0</td>\n",
       "      <td>Good To Soft</td>\n",
       "      <td>253.88</td>\n",
       "      <td>82.0</td>\n",
       "      <td>0.0</td>\n",
       "      <td>0.0</td>\n",
       "    </tr>\n",
       "  </tbody>\n",
       "</table>\n",
       "</div>"
      ],
      "text/plain": [
       "   class  age  distance     condition  winningTime    RPR  res_win  isFav\n",
       "0      4  4.0       2.0  Good To Soft       253.88  103.0      1.0    0.0\n",
       "1      4  6.0       2.0  Good To Soft       253.88   96.0      0.0    1.0\n",
       "2      4  7.0       2.0  Good To Soft       253.88   97.0      0.0    0.0\n",
       "3      4  6.0       2.0  Good To Soft       253.88   89.0      0.0    0.0\n",
       "4      4  7.0       2.0  Good To Soft       253.88   82.0      0.0    0.0"
      ]
     },
     "execution_count": 98,
     "metadata": {},
     "output_type": "execute_result"
    }
   ],
   "source": [
    "# List of relevant columns for prediction\n",
    "columns_to_keep = ['class', 'age', 'distance', 'condition', 'winningTime', 'RPR', 'res_win','isFav']\n",
    "\n",
    "# Create a new DataFrame with only the selected columns\n",
    "horse_fav_df = random_forest[columns_to_keep]\n",
    "\n",
    "# Display the first few rows of the new DataFrame\n",
    "horse_fav_df.head()\n"
   ]
  },
  {
   "cell_type": "code",
   "execution_count": 99,
   "id": "5f9f614c",
   "metadata": {},
   "outputs": [
    {
     "name": "stdout",
     "output_type": "stream",
     "text": [
      "Columns with NaN values:\n",
      "[]\n"
     ]
    }
   ],
   "source": [
    "# Check for missing values (NaN)\n",
    "nan_columns = horse_fav_df.columns[horse_fav_df.isnull().any()].tolist()\n",
    "print(\"Columns with NaN values:\")\n",
    "print(nan_columns)"
   ]
  },
  {
   "cell_type": "code",
   "execution_count": 100,
   "id": "fabff52f",
   "metadata": {},
   "outputs": [],
   "source": [
    "horse_data_df = pd.get_dummies(horse_fav_df)"
   ]
  },
  {
   "cell_type": "code",
   "execution_count": 106,
   "id": "845547e2",
   "metadata": {},
   "outputs": [
    {
     "data": {
      "text/html": [
       "<div>\n",
       "<style scoped>\n",
       "    .dataframe tbody tr th:only-of-type {\n",
       "        vertical-align: middle;\n",
       "    }\n",
       "\n",
       "    .dataframe tbody tr th {\n",
       "        vertical-align: top;\n",
       "    }\n",
       "\n",
       "    .dataframe thead th {\n",
       "        text-align: right;\n",
       "    }\n",
       "</style>\n",
       "<table border=\"1\" class=\"dataframe\">\n",
       "  <thead>\n",
       "    <tr style=\"text-align: right;\">\n",
       "      <th></th>\n",
       "      <th>class</th>\n",
       "      <th>age</th>\n",
       "      <th>distance</th>\n",
       "      <th>winningTime</th>\n",
       "      <th>RPR</th>\n",
       "      <th>res_win</th>\n",
       "      <th>condition_Fast</th>\n",
       "      <th>condition_Firm</th>\n",
       "      <th>condition_Frozen</th>\n",
       "      <th>condition_Good</th>\n",
       "      <th>...</th>\n",
       "      <th>condition_Muddy</th>\n",
       "      <th>condition_Sloppy</th>\n",
       "      <th>condition_Slow</th>\n",
       "      <th>condition_Soft</th>\n",
       "      <th>condition_Soft To Heavy</th>\n",
       "      <th>condition_Standard</th>\n",
       "      <th>condition_Standard To Slow</th>\n",
       "      <th>condition_Very Soft</th>\n",
       "      <th>condition_Yielding</th>\n",
       "      <th>condition_Yielding To Soft</th>\n",
       "    </tr>\n",
       "  </thead>\n",
       "  <tbody>\n",
       "    <tr>\n",
       "      <th>0</th>\n",
       "      <td>4</td>\n",
       "      <td>4.0</td>\n",
       "      <td>2.0</td>\n",
       "      <td>253.88</td>\n",
       "      <td>103.0</td>\n",
       "      <td>1.0</td>\n",
       "      <td>False</td>\n",
       "      <td>False</td>\n",
       "      <td>False</td>\n",
       "      <td>False</td>\n",
       "      <td>...</td>\n",
       "      <td>False</td>\n",
       "      <td>False</td>\n",
       "      <td>False</td>\n",
       "      <td>False</td>\n",
       "      <td>False</td>\n",
       "      <td>False</td>\n",
       "      <td>False</td>\n",
       "      <td>False</td>\n",
       "      <td>False</td>\n",
       "      <td>False</td>\n",
       "    </tr>\n",
       "    <tr>\n",
       "      <th>1</th>\n",
       "      <td>4</td>\n",
       "      <td>6.0</td>\n",
       "      <td>2.0</td>\n",
       "      <td>253.88</td>\n",
       "      <td>96.0</td>\n",
       "      <td>0.0</td>\n",
       "      <td>False</td>\n",
       "      <td>False</td>\n",
       "      <td>False</td>\n",
       "      <td>False</td>\n",
       "      <td>...</td>\n",
       "      <td>False</td>\n",
       "      <td>False</td>\n",
       "      <td>False</td>\n",
       "      <td>False</td>\n",
       "      <td>False</td>\n",
       "      <td>False</td>\n",
       "      <td>False</td>\n",
       "      <td>False</td>\n",
       "      <td>False</td>\n",
       "      <td>False</td>\n",
       "    </tr>\n",
       "    <tr>\n",
       "      <th>2</th>\n",
       "      <td>4</td>\n",
       "      <td>7.0</td>\n",
       "      <td>2.0</td>\n",
       "      <td>253.88</td>\n",
       "      <td>97.0</td>\n",
       "      <td>0.0</td>\n",
       "      <td>False</td>\n",
       "      <td>False</td>\n",
       "      <td>False</td>\n",
       "      <td>False</td>\n",
       "      <td>...</td>\n",
       "      <td>False</td>\n",
       "      <td>False</td>\n",
       "      <td>False</td>\n",
       "      <td>False</td>\n",
       "      <td>False</td>\n",
       "      <td>False</td>\n",
       "      <td>False</td>\n",
       "      <td>False</td>\n",
       "      <td>False</td>\n",
       "      <td>False</td>\n",
       "    </tr>\n",
       "    <tr>\n",
       "      <th>3</th>\n",
       "      <td>4</td>\n",
       "      <td>6.0</td>\n",
       "      <td>2.0</td>\n",
       "      <td>253.88</td>\n",
       "      <td>89.0</td>\n",
       "      <td>0.0</td>\n",
       "      <td>False</td>\n",
       "      <td>False</td>\n",
       "      <td>False</td>\n",
       "      <td>False</td>\n",
       "      <td>...</td>\n",
       "      <td>False</td>\n",
       "      <td>False</td>\n",
       "      <td>False</td>\n",
       "      <td>False</td>\n",
       "      <td>False</td>\n",
       "      <td>False</td>\n",
       "      <td>False</td>\n",
       "      <td>False</td>\n",
       "      <td>False</td>\n",
       "      <td>False</td>\n",
       "    </tr>\n",
       "    <tr>\n",
       "      <th>4</th>\n",
       "      <td>4</td>\n",
       "      <td>7.0</td>\n",
       "      <td>2.0</td>\n",
       "      <td>253.88</td>\n",
       "      <td>82.0</td>\n",
       "      <td>0.0</td>\n",
       "      <td>False</td>\n",
       "      <td>False</td>\n",
       "      <td>False</td>\n",
       "      <td>False</td>\n",
       "      <td>...</td>\n",
       "      <td>False</td>\n",
       "      <td>False</td>\n",
       "      <td>False</td>\n",
       "      <td>False</td>\n",
       "      <td>False</td>\n",
       "      <td>False</td>\n",
       "      <td>False</td>\n",
       "      <td>False</td>\n",
       "      <td>False</td>\n",
       "      <td>False</td>\n",
       "    </tr>\n",
       "  </tbody>\n",
       "</table>\n",
       "<p>5 rows × 24 columns</p>\n",
       "</div>"
      ],
      "text/plain": [
       "   class  age  distance  winningTime    RPR  res_win  condition_Fast   \n",
       "0      4  4.0       2.0       253.88  103.0      1.0           False  \\\n",
       "1      4  6.0       2.0       253.88   96.0      0.0           False   \n",
       "2      4  7.0       2.0       253.88   97.0      0.0           False   \n",
       "3      4  6.0       2.0       253.88   89.0      0.0           False   \n",
       "4      4  7.0       2.0       253.88   82.0      0.0           False   \n",
       "\n",
       "   condition_Firm  condition_Frozen  condition_Good  ...  condition_Muddy   \n",
       "0           False             False           False  ...            False  \\\n",
       "1           False             False           False  ...            False   \n",
       "2           False             False           False  ...            False   \n",
       "3           False             False           False  ...            False   \n",
       "4           False             False           False  ...            False   \n",
       "\n",
       "   condition_Sloppy  condition_Slow  condition_Soft  condition_Soft To Heavy   \n",
       "0             False           False           False                    False  \\\n",
       "1             False           False           False                    False   \n",
       "2             False           False           False                    False   \n",
       "3             False           False           False                    False   \n",
       "4             False           False           False                    False   \n",
       "\n",
       "   condition_Standard  condition_Standard To Slow  condition_Very Soft   \n",
       "0               False                       False                False  \\\n",
       "1               False                       False                False   \n",
       "2               False                       False                False   \n",
       "3               False                       False                False   \n",
       "4               False                       False                False   \n",
       "\n",
       "   condition_Yielding  condition_Yielding To Soft  \n",
       "0               False                       False  \n",
       "1               False                       False  \n",
       "2               False                       False  \n",
       "3               False                       False  \n",
       "4               False                       False  \n",
       "\n",
       "[5 rows x 24 columns]"
      ]
     },
     "execution_count": 106,
     "metadata": {},
     "output_type": "execute_result"
    }
   ],
   "source": [
    " # Define features set\n",
    "features= horse_data_df.copy()\n",
    "features.drop(\"isFav\", axis=1, inplace=True)\n",
    "features.head()"
   ]
  },
  {
   "cell_type": "code",
   "execution_count": 107,
   "id": "7007569a",
   "metadata": {},
   "outputs": [
    {
     "data": {
      "text/plain": [
       "array([0., 1., 0., 0., 0.])"
      ]
     },
     "execution_count": 107,
     "metadata": {},
     "output_type": "execute_result"
    }
   ],
   "source": [
    "# Define target vector\n",
    "target = horse_data_df[\"isFav\"].ravel()\n",
    "target[:5]"
   ]
  },
  {
   "cell_type": "code",
   "execution_count": 108,
   "id": "dcbb82d7",
   "metadata": {},
   "outputs": [],
   "source": [
    "# Splitting into Train and Test sets\n",
    "X_train, X_test, y_train, y_test = train_test_split(features, target, random_state=78)"
   ]
  },
  {
   "cell_type": "code",
   "execution_count": 109,
   "id": "42b92385",
   "metadata": {},
   "outputs": [],
   "source": [
    "# Creating StandardScaler instance\n",
    "scaler = StandardScaler()"
   ]
  },
  {
   "cell_type": "code",
   "execution_count": 110,
   "id": "2f9d9238",
   "metadata": {},
   "outputs": [],
   "source": [
    " # Fitting Standard Scaller\n",
    "X_scaler = scaler.fit(X_train)"
   ]
  },
  {
   "cell_type": "code",
   "execution_count": 111,
   "id": "9df53aac",
   "metadata": {},
   "outputs": [],
   "source": [
    "# Scaling data\n",
    "X_train_scaled = X_scaler.transform(X_train)\n",
    "X_test_scaled = X_scaler.transform(X_test)"
   ]
  },
  {
   "cell_type": "markdown",
   "id": "79c1f86e",
   "metadata": {},
   "source": [
    " ## Fitting the Random Forest Model"
   ]
  },
  {
   "cell_type": "code",
   "execution_count": 112,
   "id": "5f8faaf6",
   "metadata": {},
   "outputs": [],
   "source": [
    " # Create a random forest classifier\n",
    "rf_model = RandomForestClassifier(n_estimators=500, random_state=78)"
   ]
  },
  {
   "cell_type": "code",
   "execution_count": 113,
   "id": "3e8ffc7d",
   "metadata": {},
   "outputs": [],
   "source": [
    "# Fitting the model\n",
    "rf_model = rf_model.fit(X_train_scaled, y_train)"
   ]
  },
  {
   "cell_type": "markdown",
   "id": "650b5d97",
   "metadata": {},
   "source": [
    "## Making Predictions Using the Random Forest Model\n"
   ]
  },
  {
   "cell_type": "code",
   "execution_count": 114,
   "id": "bbd7b5c6",
   "metadata": {},
   "outputs": [],
   "source": [
    "# Making predictions using the testing data\n",
    "predictions = rf_model.predict(X_test_scaled)\n"
   ]
  },
  {
   "cell_type": "markdown",
   "id": "0c227104",
   "metadata": {},
   "source": [
    "## Model Evaluation"
   ]
  },
  {
   "cell_type": "code",
   "execution_count": 115,
   "id": "2785fdd7",
   "metadata": {},
   "outputs": [],
   "source": [
    "# Calculating the confusion matrix\n",
    "cm = confusion_matrix(y_test, predictions)\n",
    "cm_df = pd.DataFrame(\n",
    "    cm, index=[\"Actual 0\", \"Actual 1\"], columns=[\"Predicted 0\", \"Predicted 1\"]\n",
    ")\n",
    "\n",
    "# Calculating the accuracy score\n",
    "acc_score = accuracy_score(y_test, predictions)"
   ]
  },
  {
   "cell_type": "code",
   "execution_count": 116,
   "id": "1fe7a69b",
   "metadata": {},
   "outputs": [
    {
     "name": "stdout",
     "output_type": "stream",
     "text": [
      "Confusion Matrix\n"
     ]
    },
    {
     "data": {
      "text/html": [
       "<div>\n",
       "<style scoped>\n",
       "    .dataframe tbody tr th:only-of-type {\n",
       "        vertical-align: middle;\n",
       "    }\n",
       "\n",
       "    .dataframe tbody tr th {\n",
       "        vertical-align: top;\n",
       "    }\n",
       "\n",
       "    .dataframe thead th {\n",
       "        text-align: right;\n",
       "    }\n",
       "</style>\n",
       "<table border=\"1\" class=\"dataframe\">\n",
       "  <thead>\n",
       "    <tr style=\"text-align: right;\">\n",
       "      <th></th>\n",
       "      <th>Predicted 0</th>\n",
       "      <th>Predicted 1</th>\n",
       "    </tr>\n",
       "  </thead>\n",
       "  <tbody>\n",
       "    <tr>\n",
       "      <th>Actual 0</th>\n",
       "      <td>30765</td>\n",
       "      <td>1172</td>\n",
       "    </tr>\n",
       "    <tr>\n",
       "      <th>Actual 1</th>\n",
       "      <td>3408</td>\n",
       "      <td>383</td>\n",
       "    </tr>\n",
       "  </tbody>\n",
       "</table>\n",
       "</div>"
      ],
      "text/plain": [
       "          Predicted 0  Predicted 1\n",
       "Actual 0        30765         1172\n",
       "Actual 1         3408          383"
      ]
     },
     "metadata": {},
     "output_type": "display_data"
    },
    {
     "name": "stdout",
     "output_type": "stream",
     "text": [
      "Accuracy Score : 0.8718092252575012\n",
      "Classification Report\n",
      "              precision    recall  f1-score   support\n",
      "\n",
      "         0.0       0.90      0.96      0.93     31937\n",
      "         1.0       0.25      0.10      0.14      3791\n",
      "\n",
      "    accuracy                           0.87     35728\n",
      "   macro avg       0.57      0.53      0.54     35728\n",
      "weighted avg       0.83      0.87      0.85     35728\n",
      "\n"
     ]
    }
   ],
   "source": [
    "# Displaying results\n",
    "print(\"Confusion Matrix\")\n",
    "display(cm_df)\n",
    "print(f\"Accuracy Score : {acc_score}\")\n",
    "print(\"Classification Report\")\n",
    "print(classification_report(y_test, predictions))"
   ]
  },
  {
   "cell_type": "code",
   "execution_count": null,
   "id": "a11c2e7e",
   "metadata": {},
   "outputs": [],
   "source": []
  }
 ],
 "metadata": {
  "kernelspec": {
   "display_name": "Python 3 (ipykernel)",
   "language": "python",
   "name": "python3"
  },
  "language_info": {
   "codemirror_mode": {
    "name": "ipython",
    "version": 3
   },
   "file_extension": ".py",
   "mimetype": "text/x-python",
   "name": "python",
   "nbconvert_exporter": "python",
   "pygments_lexer": "ipython3",
   "version": "3.9.13"
  }
 },
 "nbformat": 4,
 "nbformat_minor": 5
}
