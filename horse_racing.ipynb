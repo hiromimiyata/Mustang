{
 "cells": [
  {
   "cell_type": "markdown",
   "metadata": {
    "colab_type": "text",
    "id": "Vv16HppWUeva"
   },
   "source": [
    "## Project 4\n"
   ]
  },
  {
   "cell_type": "code",
   "execution_count": 16,
   "metadata": {},
   "outputs": [],
   "source": [
    "import pandas as pd\n",
    "import numpy as np\n",
    "import keras\n",
    "\n",
    "import sklearn.model_selection as model_selection\n",
    "import matplotlib.pyplot as plt\n",
    "from matplotlib import pyplot\n",
    "from sklearn.model_selection import train_test_split, TimeSeriesSplit\n",
    "from sklearn.metrics import f1_score, accuracy_score, recall_score, precision_score, confusion_matrix\n",
    "from sklearn.tree import DecisionTreeClassifier\n",
    "from sklearn.preprocessing import LabelEncoder"
   ]
  },
  {
   "cell_type": "code",
   "execution_count": 2,
   "metadata": {
    "colab": {},
    "colab_type": "code",
    "id": "nPRmMt8FVirP"
   },
   "outputs": [
    {
     "name": "stderr",
     "output_type": "stream",
     "text": [
      "/var/folders/kl/m0y8txln53774pt40hp8gplr0000gn/T/ipykernel_5829/1906195333.py:1: DtypeWarning: Columns (11,19,46) have mixed types. Specify dtype option on import or set low_memory=False.\n",
      "  race_df = pd.read_csv('Merged_Data/merged_data.csv')\n"
     ]
    },
    {
     "data": {
      "text/html": [
       "<div>\n",
       "<style scoped>\n",
       "    .dataframe tbody tr th:only-of-type {\n",
       "        vertical-align: middle;\n",
       "    }\n",
       "\n",
       "    .dataframe tbody tr th {\n",
       "        vertical-align: top;\n",
       "    }\n",
       "\n",
       "    .dataframe thead th {\n",
       "        text-align: right;\n",
       "    }\n",
       "</style>\n",
       "<table border=\"1\" class=\"dataframe\">\n",
       "  <thead>\n",
       "    <tr style=\"text-align: right;\">\n",
       "      <th></th>\n",
       "      <th>Unnamed: 0</th>\n",
       "      <th>rid</th>\n",
       "      <th>course</th>\n",
       "      <th>time</th>\n",
       "      <th>date</th>\n",
       "      <th>title</th>\n",
       "      <th>rclass</th>\n",
       "      <th>band</th>\n",
       "      <th>ages</th>\n",
       "      <th>distance</th>\n",
       "      <th>...</th>\n",
       "      <th>OR</th>\n",
       "      <th>father</th>\n",
       "      <th>mother</th>\n",
       "      <th>gfather</th>\n",
       "      <th>runners</th>\n",
       "      <th>margin</th>\n",
       "      <th>weight</th>\n",
       "      <th>res_win</th>\n",
       "      <th>res_place</th>\n",
       "      <th>price</th>\n",
       "    </tr>\n",
       "  </thead>\n",
       "  <tbody>\n",
       "    <tr>\n",
       "      <th>0</th>\n",
       "      <td>0</td>\n",
       "      <td>10312</td>\n",
       "      <td>Fakenham</td>\n",
       "      <td>02:55</td>\n",
       "      <td>20/01/01</td>\n",
       "      <td>Happy New Year Maiden Hurdle (Div I)</td>\n",
       "      <td>Class 4</td>\n",
       "      <td>NaN</td>\n",
       "      <td>4yo+</td>\n",
       "      <td>2m</td>\n",
       "      <td>...</td>\n",
       "      <td>NaN</td>\n",
       "      <td>Pour Moi</td>\n",
       "      <td>Laughing Water</td>\n",
       "      <td>Duke Of Marmalade</td>\n",
       "      <td>9.0</td>\n",
       "      <td>1.199095</td>\n",
       "      <td>66.0</td>\n",
       "      <td>1.0</td>\n",
       "      <td>1.0</td>\n",
       "      <td>NaN</td>\n",
       "    </tr>\n",
       "    <tr>\n",
       "      <th>1</th>\n",
       "      <td>1</td>\n",
       "      <td>10312</td>\n",
       "      <td>Fakenham</td>\n",
       "      <td>02:55</td>\n",
       "      <td>20/01/01</td>\n",
       "      <td>Happy New Year Maiden Hurdle (Div I)</td>\n",
       "      <td>Class 4</td>\n",
       "      <td>NaN</td>\n",
       "      <td>4yo+</td>\n",
       "      <td>2m</td>\n",
       "      <td>...</td>\n",
       "      <td>110.0</td>\n",
       "      <td>Getaway</td>\n",
       "      <td>Shouette</td>\n",
       "      <td>Sadler's Wells</td>\n",
       "      <td>9.0</td>\n",
       "      <td>1.199095</td>\n",
       "      <td>65.0</td>\n",
       "      <td>0.0</td>\n",
       "      <td>1.0</td>\n",
       "      <td>NaN</td>\n",
       "    </tr>\n",
       "    <tr>\n",
       "      <th>2</th>\n",
       "      <td>2</td>\n",
       "      <td>10312</td>\n",
       "      <td>Fakenham</td>\n",
       "      <td>02:55</td>\n",
       "      <td>20/01/01</td>\n",
       "      <td>Happy New Year Maiden Hurdle (Div I)</td>\n",
       "      <td>Class 4</td>\n",
       "      <td>NaN</td>\n",
       "      <td>4yo+</td>\n",
       "      <td>2m</td>\n",
       "      <td>...</td>\n",
       "      <td>NaN</td>\n",
       "      <td>Vale Of York</td>\n",
       "      <td>Finnmark</td>\n",
       "      <td>Halling</td>\n",
       "      <td>9.0</td>\n",
       "      <td>1.199095</td>\n",
       "      <td>72.0</td>\n",
       "      <td>0.0</td>\n",
       "      <td>1.0</td>\n",
       "      <td>NaN</td>\n",
       "    </tr>\n",
       "    <tr>\n",
       "      <th>3</th>\n",
       "      <td>3</td>\n",
       "      <td>10312</td>\n",
       "      <td>Fakenham</td>\n",
       "      <td>02:55</td>\n",
       "      <td>20/01/01</td>\n",
       "      <td>Happy New Year Maiden Hurdle (Div I)</td>\n",
       "      <td>Class 4</td>\n",
       "      <td>NaN</td>\n",
       "      <td>4yo+</td>\n",
       "      <td>2m</td>\n",
       "      <td>...</td>\n",
       "      <td>NaN</td>\n",
       "      <td>Sixties Icon</td>\n",
       "      <td>Highland Jig</td>\n",
       "      <td>Norse Dancer</td>\n",
       "      <td>9.0</td>\n",
       "      <td>1.199095</td>\n",
       "      <td>72.0</td>\n",
       "      <td>0.0</td>\n",
       "      <td>0.0</td>\n",
       "      <td>NaN</td>\n",
       "    </tr>\n",
       "    <tr>\n",
       "      <th>4</th>\n",
       "      <td>4</td>\n",
       "      <td>10312</td>\n",
       "      <td>Fakenham</td>\n",
       "      <td>02:55</td>\n",
       "      <td>20/01/01</td>\n",
       "      <td>Happy New Year Maiden Hurdle (Div I)</td>\n",
       "      <td>Class 4</td>\n",
       "      <td>NaN</td>\n",
       "      <td>4yo+</td>\n",
       "      <td>2m</td>\n",
       "      <td>...</td>\n",
       "      <td>NaN</td>\n",
       "      <td>Iffraaj</td>\n",
       "      <td>Hallowed Park</td>\n",
       "      <td>Barathea</td>\n",
       "      <td>9.0</td>\n",
       "      <td>1.199095</td>\n",
       "      <td>72.0</td>\n",
       "      <td>0.0</td>\n",
       "      <td>0.0</td>\n",
       "      <td>NaN</td>\n",
       "    </tr>\n",
       "  </tbody>\n",
       "</table>\n",
       "<p>5 rows × 47 columns</p>\n",
       "</div>"
      ],
      "text/plain": [
       "   Unnamed: 0    rid    course   time      date   \n",
       "0           0  10312  Fakenham  02:55  20/01/01  \\\n",
       "1           1  10312  Fakenham  02:55  20/01/01   \n",
       "2           2  10312  Fakenham  02:55  20/01/01   \n",
       "3           3  10312  Fakenham  02:55  20/01/01   \n",
       "4           4  10312  Fakenham  02:55  20/01/01   \n",
       "\n",
       "                                  title   rclass band  ages distance  ...   \n",
       "0  Happy New Year Maiden Hurdle (Div I)  Class 4  NaN  4yo+       2m  ...  \\\n",
       "1  Happy New Year Maiden Hurdle (Div I)  Class 4  NaN  4yo+       2m  ...   \n",
       "2  Happy New Year Maiden Hurdle (Div I)  Class 4  NaN  4yo+       2m  ...   \n",
       "3  Happy New Year Maiden Hurdle (Div I)  Class 4  NaN  4yo+       2m  ...   \n",
       "4  Happy New Year Maiden Hurdle (Div I)  Class 4  NaN  4yo+       2m  ...   \n",
       "\n",
       "      OR        father          mother            gfather  runners    margin   \n",
       "0    NaN      Pour Moi  Laughing Water  Duke Of Marmalade      9.0  1.199095  \\\n",
       "1  110.0       Getaway        Shouette     Sadler's Wells      9.0  1.199095   \n",
       "2    NaN  Vale Of York        Finnmark            Halling      9.0  1.199095   \n",
       "3    NaN  Sixties Icon    Highland Jig       Norse Dancer      9.0  1.199095   \n",
       "4    NaN       Iffraaj   Hallowed Park           Barathea      9.0  1.199095   \n",
       "\n",
       "  weight  res_win  res_place price  \n",
       "0   66.0      1.0        1.0   NaN  \n",
       "1   65.0      0.0        1.0   NaN  \n",
       "2   72.0      0.0        1.0   NaN  \n",
       "3   72.0      0.0        0.0   NaN  \n",
       "4   72.0      0.0        0.0   NaN  \n",
       "\n",
       "[5 rows x 47 columns]"
      ]
     },
     "execution_count": 2,
     "metadata": {},
     "output_type": "execute_result"
    }
   ],
   "source": [
    "race_df = pd.read_csv('Merged_Data/merged_data.csv')\n",
    "race_df.head()"
   ]
  },
  {
   "cell_type": "code",
   "execution_count": 3,
   "metadata": {
    "colab": {
     "base_uri": "https://localhost:8080/",
     "height": 156
    },
    "colab_type": "code",
    "id": "t3cCpP6GAyf5",
    "outputId": "f4ea8f58-fc1a-4a50-bdc9-987cc6818029",
    "scrolled": true
   },
   "outputs": [
    {
     "name": "stdout",
     "output_type": "stream",
     "text": [
      "Index(['Unnamed: 0', 'rid', 'course', 'time', 'date', 'title', 'rclass',\n",
      "       'band', 'ages', 'distance', 'condition', 'hurdles', 'prizes',\n",
      "       'winningTime', 'prize', 'metric', 'countryCode', 'ncond', 'class',\n",
      "       'currency', 'horseName', 'age', 'saddle', 'decimalPrice', 'isFav',\n",
      "       'trainerName', 'jockeyName', 'position', 'positionL', 'dist',\n",
      "       'weightSt', 'weightLb', 'overWeight', 'outHandicap', 'headGear', 'RPR',\n",
      "       'TR', 'OR', 'father', 'mother', 'gfather', 'runners', 'margin',\n",
      "       'weight', 'res_win', 'res_place', 'price'],\n",
      "      dtype='object')\n"
     ]
    }
   ],
   "source": [
    "print(race_df.columns)"
   ]
  },
  {
   "cell_type": "code",
   "execution_count": 4,
   "metadata": {},
   "outputs": [
    {
     "data": {
      "text/plain": [
       "RangeIndex(start=0, stop=149589, step=1)"
      ]
     },
     "execution_count": 4,
     "metadata": {},
     "output_type": "execute_result"
    }
   ],
   "source": [
    "race_df.index"
   ]
  },
  {
   "cell_type": "code",
   "execution_count": 5,
   "metadata": {},
   "outputs": [
    {
     "name": "stdout",
     "output_type": "stream",
     "text": [
      "Index(['Unnamed: 0', 'rid', 'course', 'time', 'date', 'title', 'rclass',\n",
      "       'band', 'ages', 'distance', 'condition', 'hurdles', 'prizes',\n",
      "       'winningTime', 'prize', 'metric', 'countryCode', 'ncond', 'class',\n",
      "       'currency', 'horseName', 'age', 'saddle', 'decimalPrice', 'isFav',\n",
      "       'trainerName', 'jockeyName', 'position', 'positionL', 'dist',\n",
      "       'weightSt', 'weightLb', 'overWeight', 'outHandicap', 'headGear', 'RPR',\n",
      "       'TR', 'OR', 'father', 'mother', 'gfather', 'runners', 'margin',\n",
      "       'weight', 'res_win', 'res_place'],\n",
      "      dtype='object')\n"
     ]
    }
   ],
   "source": [
    "race_df = race_df.drop(columns = \"price\")\n",
    "print(race_df.columns)"
   ]
  },
  {
   "cell_type": "code",
   "execution_count": 6,
   "metadata": {
    "colab": {
     "base_uri": "https://localhost:8080/",
     "height": 153
    },
    "colab_type": "code",
    "id": "QvwWeOR2Uev-",
    "outputId": "f9b9c728-da0a-4410-f308-11dd6f195555"
   },
   "outputs": [
    {
     "name": "stdout",
     "output_type": "stream",
     "text": [
      "Index(['Unnamed: 0', 'rid', 'course', 'time', 'date', 'title', 'rclass',\n",
      "       'band', 'ages', 'distance', 'condition', 'hurdles', 'prizes',\n",
      "       'winningTime', 'prize', 'metric', 'countryCode', 'ncond', 'class',\n",
      "       'currency', 'horseName', 'age', 'saddle', 'decimalPrice', 'isFav',\n",
      "       'trainerName', 'jockeyName', 'position', 'positionL', 'dist',\n",
      "       'weightSt', 'weightLb', 'overWeight', 'outHandicap', 'RPR', 'TR', 'OR',\n",
      "       'father', 'mother', 'gfather', 'runners', 'margin', 'weight', 'res_win',\n",
      "       'res_place'],\n",
      "      dtype='object')\n"
     ]
    }
   ],
   "source": [
    "race_df = race_df.drop(columns = \"headGear\")\n",
    "print(race_df.columns)\n"
   ]
  },
  {
   "cell_type": "code",
   "execution_count": 7,
   "metadata": {},
   "outputs": [
    {
     "name": "stdout",
     "output_type": "stream",
     "text": [
      "Index(['Unnamed: 0', 'rid', 'course', 'time', 'date', 'title', 'rclass',\n",
      "       'band', 'ages', 'distance', 'condition', 'hurdles', 'prizes',\n",
      "       'winningTime', 'prize', 'metric', 'countryCode', 'ncond', 'class',\n",
      "       'currency', 'horseName', 'age', 'saddle', 'decimalPrice', 'isFav',\n",
      "       'trainerName', 'jockeyName', 'position', 'positionL', 'dist',\n",
      "       'weightSt', 'weightLb', 'overWeight', 'RPR', 'TR', 'OR', 'father',\n",
      "       'mother', 'gfather', 'runners', 'margin', 'weight', 'res_win',\n",
      "       'res_place'],\n",
      "      dtype='object')\n"
     ]
    }
   ],
   "source": [
    "race_df = race_df.drop(columns = \"outHandicap\")\n",
    "print(race_df.columns)"
   ]
  },
  {
   "cell_type": "code",
   "execution_count": 8,
   "metadata": {},
   "outputs": [
    {
     "name": "stdout",
     "output_type": "stream",
     "text": [
      "Index(['Unnamed: 0', 'rid', 'course', 'time', 'date', 'title', 'rclass',\n",
      "       'band', 'ages', 'distance', 'condition', 'hurdles', 'prizes',\n",
      "       'winningTime', 'prize', 'metric', 'countryCode', 'ncond', 'class',\n",
      "       'horseName', 'age', 'saddle', 'decimalPrice', 'isFav', 'trainerName',\n",
      "       'jockeyName', 'position', 'positionL', 'dist', 'weightSt', 'weightLb',\n",
      "       'overWeight', 'RPR', 'TR', 'OR', 'father', 'mother', 'gfather',\n",
      "       'runners', 'margin', 'weight', 'res_win', 'res_place'],\n",
      "      dtype='object')\n"
     ]
    }
   ],
   "source": [
    "race_df = race_df.drop(columns = \"currency\")\n",
    "print(race_df.columns)"
   ]
  },
  {
   "cell_type": "code",
   "execution_count": 9,
   "metadata": {},
   "outputs": [
    {
     "name": "stdout",
     "output_type": "stream",
     "text": [
      "Index(['Unnamed: 0', 'rid', 'course', 'time', 'date', 'title', 'rclass',\n",
      "       'band', 'ages', 'distance', 'condition', 'prizes', 'winningTime',\n",
      "       'prize', 'metric', 'countryCode', 'ncond', 'class', 'horseName', 'age',\n",
      "       'saddle', 'decimalPrice', 'isFav', 'trainerName', 'jockeyName',\n",
      "       'position', 'positionL', 'dist', 'weightSt', 'weightLb', 'overWeight',\n",
      "       'RPR', 'TR', 'OR', 'father', 'mother', 'gfather', 'runners', 'margin',\n",
      "       'weight', 'res_win', 'res_place'],\n",
      "      dtype='object')\n"
     ]
    }
   ],
   "source": [
    "race_df = race_df.drop(columns = \"hurdles\")\n",
    "print(race_df.columns)"
   ]
  },
  {
   "cell_type": "code",
   "execution_count": 10,
   "metadata": {
    "colab": {
     "base_uri": "https://localhost:8080/",
     "height": 86
    },
    "colab_type": "code",
    "id": "uwIhrrWlUevj",
    "outputId": "dea2bf36-984d-421e-e97f-336114155ce7"
   },
   "outputs": [
    {
     "data": {
      "text/plain": [
       "Unnamed: 0           0\n",
       "rid                  0\n",
       "course               0\n",
       "time                 0\n",
       "date                 0\n",
       "title                0\n",
       "rclass           82432\n",
       "band             95566\n",
       "ages                 0\n",
       "distance             0\n",
       "condition            0\n",
       "prizes               0\n",
       "winningTime          0\n",
       "prize                0\n",
       "metric               0\n",
       "countryCode          0\n",
       "ncond                0\n",
       "class                0\n",
       "horseName           76\n",
       "age                 76\n",
       "saddle              82\n",
       "decimalPrice        76\n",
       "isFav               76\n",
       "trainerName         97\n",
       "jockeyName          79\n",
       "position            76\n",
       "positionL        21303\n",
       "dist             36028\n",
       "weightSt            76\n",
       "weightLb            76\n",
       "overWeight      144689\n",
       "RPR              72522\n",
       "TR              101845\n",
       "OR               70043\n",
       "father              76\n",
       "mother              77\n",
       "gfather            112\n",
       "runners             76\n",
       "margin              76\n",
       "weight              76\n",
       "res_win             76\n",
       "res_place           76\n",
       "dtype: int64"
      ]
     },
     "execution_count": 10,
     "metadata": {},
     "output_type": "execute_result"
    }
   ],
   "source": [
    "race_df.isnull().sum() #checking missing values"
   ]
  },
  {
   "cell_type": "code",
   "execution_count": 11,
   "metadata": {},
   "outputs": [
    {
     "data": {
      "text/html": [
       "<div>\n",
       "<style scoped>\n",
       "    .dataframe tbody tr th:only-of-type {\n",
       "        vertical-align: middle;\n",
       "    }\n",
       "\n",
       "    .dataframe tbody tr th {\n",
       "        vertical-align: top;\n",
       "    }\n",
       "\n",
       "    .dataframe thead th {\n",
       "        text-align: right;\n",
       "    }\n",
       "</style>\n",
       "<table border=\"1\" class=\"dataframe\">\n",
       "  <thead>\n",
       "    <tr style=\"text-align: right;\">\n",
       "      <th></th>\n",
       "      <th>Unnamed: 0</th>\n",
       "      <th>rid</th>\n",
       "      <th>course</th>\n",
       "      <th>time</th>\n",
       "      <th>date</th>\n",
       "      <th>title</th>\n",
       "      <th>rclass</th>\n",
       "      <th>band</th>\n",
       "      <th>ages</th>\n",
       "      <th>distance</th>\n",
       "      <th>...</th>\n",
       "      <th>TR</th>\n",
       "      <th>OR</th>\n",
       "      <th>father</th>\n",
       "      <th>mother</th>\n",
       "      <th>gfather</th>\n",
       "      <th>runners</th>\n",
       "      <th>margin</th>\n",
       "      <th>weight</th>\n",
       "      <th>res_win</th>\n",
       "      <th>res_place</th>\n",
       "    </tr>\n",
       "  </thead>\n",
       "  <tbody>\n",
       "    <tr>\n",
       "      <th>0</th>\n",
       "      <td>0</td>\n",
       "      <td>10312</td>\n",
       "      <td>Fakenham</td>\n",
       "      <td>02:55</td>\n",
       "      <td>20/01/01</td>\n",
       "      <td>Happy New Year Maiden Hurdle (Div I)</td>\n",
       "      <td>Class 4</td>\n",
       "      <td>NaN</td>\n",
       "      <td>4yo+</td>\n",
       "      <td>2m</td>\n",
       "      <td>...</td>\n",
       "      <td>103.0</td>\n",
       "      <td>NaN</td>\n",
       "      <td>Pour Moi</td>\n",
       "      <td>Laughing Water</td>\n",
       "      <td>Duke Of Marmalade</td>\n",
       "      <td>9.0</td>\n",
       "      <td>1.199095</td>\n",
       "      <td>66.0</td>\n",
       "      <td>1.0</td>\n",
       "      <td>1.0</td>\n",
       "    </tr>\n",
       "    <tr>\n",
       "      <th>1</th>\n",
       "      <td>1</td>\n",
       "      <td>10312</td>\n",
       "      <td>Fakenham</td>\n",
       "      <td>02:55</td>\n",
       "      <td>20/01/01</td>\n",
       "      <td>Happy New Year Maiden Hurdle (Div I)</td>\n",
       "      <td>Class 4</td>\n",
       "      <td>NaN</td>\n",
       "      <td>4yo+</td>\n",
       "      <td>2m</td>\n",
       "      <td>...</td>\n",
       "      <td>89.0</td>\n",
       "      <td>110.0</td>\n",
       "      <td>Getaway</td>\n",
       "      <td>Shouette</td>\n",
       "      <td>Sadler's Wells</td>\n",
       "      <td>9.0</td>\n",
       "      <td>1.199095</td>\n",
       "      <td>65.0</td>\n",
       "      <td>0.0</td>\n",
       "      <td>1.0</td>\n",
       "    </tr>\n",
       "    <tr>\n",
       "      <th>2</th>\n",
       "      <td>2</td>\n",
       "      <td>10312</td>\n",
       "      <td>Fakenham</td>\n",
       "      <td>02:55</td>\n",
       "      <td>20/01/01</td>\n",
       "      <td>Happy New Year Maiden Hurdle (Div I)</td>\n",
       "      <td>Class 4</td>\n",
       "      <td>NaN</td>\n",
       "      <td>4yo+</td>\n",
       "      <td>2m</td>\n",
       "      <td>...</td>\n",
       "      <td>88.0</td>\n",
       "      <td>NaN</td>\n",
       "      <td>Vale Of York</td>\n",
       "      <td>Finnmark</td>\n",
       "      <td>Halling</td>\n",
       "      <td>9.0</td>\n",
       "      <td>1.199095</td>\n",
       "      <td>72.0</td>\n",
       "      <td>0.0</td>\n",
       "      <td>1.0</td>\n",
       "    </tr>\n",
       "    <tr>\n",
       "      <th>3</th>\n",
       "      <td>3</td>\n",
       "      <td>10312</td>\n",
       "      <td>Fakenham</td>\n",
       "      <td>02:55</td>\n",
       "      <td>20/01/01</td>\n",
       "      <td>Happy New Year Maiden Hurdle (Div I)</td>\n",
       "      <td>Class 4</td>\n",
       "      <td>NaN</td>\n",
       "      <td>4yo+</td>\n",
       "      <td>2m</td>\n",
       "      <td>...</td>\n",
       "      <td>75.0</td>\n",
       "      <td>NaN</td>\n",
       "      <td>Sixties Icon</td>\n",
       "      <td>Highland Jig</td>\n",
       "      <td>Norse Dancer</td>\n",
       "      <td>9.0</td>\n",
       "      <td>1.199095</td>\n",
       "      <td>72.0</td>\n",
       "      <td>0.0</td>\n",
       "      <td>0.0</td>\n",
       "    </tr>\n",
       "    <tr>\n",
       "      <th>4</th>\n",
       "      <td>4</td>\n",
       "      <td>10312</td>\n",
       "      <td>Fakenham</td>\n",
       "      <td>02:55</td>\n",
       "      <td>20/01/01</td>\n",
       "      <td>Happy New Year Maiden Hurdle (Div I)</td>\n",
       "      <td>Class 4</td>\n",
       "      <td>NaN</td>\n",
       "      <td>4yo+</td>\n",
       "      <td>2m</td>\n",
       "      <td>...</td>\n",
       "      <td>67.0</td>\n",
       "      <td>NaN</td>\n",
       "      <td>Iffraaj</td>\n",
       "      <td>Hallowed Park</td>\n",
       "      <td>Barathea</td>\n",
       "      <td>9.0</td>\n",
       "      <td>1.199095</td>\n",
       "      <td>72.0</td>\n",
       "      <td>0.0</td>\n",
       "      <td>0.0</td>\n",
       "    </tr>\n",
       "    <tr>\n",
       "      <th>...</th>\n",
       "      <td>...</td>\n",
       "      <td>...</td>\n",
       "      <td>...</td>\n",
       "      <td>...</td>\n",
       "      <td>...</td>\n",
       "      <td>...</td>\n",
       "      <td>...</td>\n",
       "      <td>...</td>\n",
       "      <td>...</td>\n",
       "      <td>...</td>\n",
       "      <td>...</td>\n",
       "      <td>...</td>\n",
       "      <td>...</td>\n",
       "      <td>...</td>\n",
       "      <td>...</td>\n",
       "      <td>...</td>\n",
       "      <td>...</td>\n",
       "      <td>...</td>\n",
       "      <td>...</td>\n",
       "      <td>...</td>\n",
       "      <td>...</td>\n",
       "    </tr>\n",
       "    <tr>\n",
       "      <th>149584</th>\n",
       "      <td>149584</td>\n",
       "      <td>415090</td>\n",
       "      <td>Trentham (NZ)</td>\n",
       "      <td>03:45</td>\n",
       "      <td>20/12/05 00:00</td>\n",
       "      <td>Rydges Wellington Captain Cook Stakes (Group 1...</td>\n",
       "      <td>NaN</td>\n",
       "      <td>NaN</td>\n",
       "      <td>2yo+</td>\n",
       "      <td>1m</td>\n",
       "      <td>...</td>\n",
       "      <td>NaN</td>\n",
       "      <td>NaN</td>\n",
       "      <td>Alamosa</td>\n",
       "      <td>Karaka</td>\n",
       "      <td>Kings Island II</td>\n",
       "      <td>11.0</td>\n",
       "      <td>1.191591</td>\n",
       "      <td>58.0</td>\n",
       "      <td>0.0</td>\n",
       "      <td>0.0</td>\n",
       "    </tr>\n",
       "    <tr>\n",
       "      <th>149585</th>\n",
       "      <td>149585</td>\n",
       "      <td>415090</td>\n",
       "      <td>Trentham (NZ)</td>\n",
       "      <td>03:45</td>\n",
       "      <td>20/12/05 00:00</td>\n",
       "      <td>Rydges Wellington Captain Cook Stakes (Group 1...</td>\n",
       "      <td>NaN</td>\n",
       "      <td>NaN</td>\n",
       "      <td>2yo+</td>\n",
       "      <td>1m</td>\n",
       "      <td>...</td>\n",
       "      <td>NaN</td>\n",
       "      <td>NaN</td>\n",
       "      <td>Proisir</td>\n",
       "      <td>Aimee's Idol</td>\n",
       "      <td>Colombia</td>\n",
       "      <td>11.0</td>\n",
       "      <td>1.191591</td>\n",
       "      <td>57.0</td>\n",
       "      <td>0.0</td>\n",
       "      <td>0.0</td>\n",
       "    </tr>\n",
       "    <tr>\n",
       "      <th>149586</th>\n",
       "      <td>149586</td>\n",
       "      <td>415090</td>\n",
       "      <td>Trentham (NZ)</td>\n",
       "      <td>03:45</td>\n",
       "      <td>20/12/05 00:00</td>\n",
       "      <td>Rydges Wellington Captain Cook Stakes (Group 1...</td>\n",
       "      <td>NaN</td>\n",
       "      <td>NaN</td>\n",
       "      <td>2yo+</td>\n",
       "      <td>1m</td>\n",
       "      <td>...</td>\n",
       "      <td>NaN</td>\n",
       "      <td>NaN</td>\n",
       "      <td>Tavistock</td>\n",
       "      <td>Laoghaire</td>\n",
       "      <td>Pins</td>\n",
       "      <td>11.0</td>\n",
       "      <td>1.191591</td>\n",
       "      <td>58.0</td>\n",
       "      <td>0.0</td>\n",
       "      <td>0.0</td>\n",
       "    </tr>\n",
       "    <tr>\n",
       "      <th>149587</th>\n",
       "      <td>149587</td>\n",
       "      <td>415090</td>\n",
       "      <td>Trentham (NZ)</td>\n",
       "      <td>03:45</td>\n",
       "      <td>20/12/05 00:00</td>\n",
       "      <td>Rydges Wellington Captain Cook Stakes (Group 1...</td>\n",
       "      <td>NaN</td>\n",
       "      <td>NaN</td>\n",
       "      <td>2yo+</td>\n",
       "      <td>1m</td>\n",
       "      <td>...</td>\n",
       "      <td>NaN</td>\n",
       "      <td>NaN</td>\n",
       "      <td>Per Incanto</td>\n",
       "      <td>Ages Past</td>\n",
       "      <td>Slavic</td>\n",
       "      <td>11.0</td>\n",
       "      <td>1.191591</td>\n",
       "      <td>58.0</td>\n",
       "      <td>0.0</td>\n",
       "      <td>0.0</td>\n",
       "    </tr>\n",
       "    <tr>\n",
       "      <th>149588</th>\n",
       "      <td>149588</td>\n",
       "      <td>415090</td>\n",
       "      <td>Trentham (NZ)</td>\n",
       "      <td>03:45</td>\n",
       "      <td>20/12/05 00:00</td>\n",
       "      <td>Rydges Wellington Captain Cook Stakes (Group 1...</td>\n",
       "      <td>NaN</td>\n",
       "      <td>NaN</td>\n",
       "      <td>2yo+</td>\n",
       "      <td>1m</td>\n",
       "      <td>...</td>\n",
       "      <td>NaN</td>\n",
       "      <td>NaN</td>\n",
       "      <td>Alamosa</td>\n",
       "      <td>Awesome I</td>\n",
       "      <td>High Chaparral</td>\n",
       "      <td>11.0</td>\n",
       "      <td>1.191591</td>\n",
       "      <td>57.0</td>\n",
       "      <td>0.0</td>\n",
       "      <td>0.0</td>\n",
       "    </tr>\n",
       "  </tbody>\n",
       "</table>\n",
       "<p>149589 rows × 42 columns</p>\n",
       "</div>"
      ],
      "text/plain": [
       "        Unnamed: 0     rid         course   time            date   \n",
       "0                0   10312       Fakenham  02:55        20/01/01  \\\n",
       "1                1   10312       Fakenham  02:55        20/01/01   \n",
       "2                2   10312       Fakenham  02:55        20/01/01   \n",
       "3                3   10312       Fakenham  02:55        20/01/01   \n",
       "4                4   10312       Fakenham  02:55        20/01/01   \n",
       "...            ...     ...            ...    ...             ...   \n",
       "149584      149584  415090  Trentham (NZ)  03:45  20/12/05 00:00   \n",
       "149585      149585  415090  Trentham (NZ)  03:45  20/12/05 00:00   \n",
       "149586      149586  415090  Trentham (NZ)  03:45  20/12/05 00:00   \n",
       "149587      149587  415090  Trentham (NZ)  03:45  20/12/05 00:00   \n",
       "149588      149588  415090  Trentham (NZ)  03:45  20/12/05 00:00   \n",
       "\n",
       "                                                    title   rclass band  ages   \n",
       "0                    Happy New Year Maiden Hurdle (Div I)  Class 4  NaN  4yo+  \\\n",
       "1                    Happy New Year Maiden Hurdle (Div I)  Class 4  NaN  4yo+   \n",
       "2                    Happy New Year Maiden Hurdle (Div I)  Class 4  NaN  4yo+   \n",
       "3                    Happy New Year Maiden Hurdle (Div I)  Class 4  NaN  4yo+   \n",
       "4                    Happy New Year Maiden Hurdle (Div I)  Class 4  NaN  4yo+   \n",
       "...                                                   ...      ...  ...   ...   \n",
       "149584  Rydges Wellington Captain Cook Stakes (Group 1...      NaN  NaN  2yo+   \n",
       "149585  Rydges Wellington Captain Cook Stakes (Group 1...      NaN  NaN  2yo+   \n",
       "149586  Rydges Wellington Captain Cook Stakes (Group 1...      NaN  NaN  2yo+   \n",
       "149587  Rydges Wellington Captain Cook Stakes (Group 1...      NaN  NaN  2yo+   \n",
       "149588  Rydges Wellington Captain Cook Stakes (Group 1...      NaN  NaN  2yo+   \n",
       "\n",
       "       distance  ...     TR     OR        father          mother   \n",
       "0            2m  ...  103.0    NaN      Pour Moi  Laughing Water  \\\n",
       "1            2m  ...   89.0  110.0       Getaway        Shouette   \n",
       "2            2m  ...   88.0    NaN  Vale Of York        Finnmark   \n",
       "3            2m  ...   75.0    NaN  Sixties Icon    Highland Jig   \n",
       "4            2m  ...   67.0    NaN       Iffraaj   Hallowed Park   \n",
       "...         ...  ...    ...    ...           ...             ...   \n",
       "149584       1m  ...    NaN    NaN       Alamosa          Karaka   \n",
       "149585       1m  ...    NaN    NaN       Proisir    Aimee's Idol   \n",
       "149586       1m  ...    NaN    NaN     Tavistock       Laoghaire   \n",
       "149587       1m  ...    NaN    NaN   Per Incanto       Ages Past   \n",
       "149588       1m  ...    NaN    NaN       Alamosa       Awesome I   \n",
       "\n",
       "                  gfather runners    margin  weight res_win  res_place  \n",
       "0       Duke Of Marmalade     9.0  1.199095    66.0     1.0        1.0  \n",
       "1          Sadler's Wells     9.0  1.199095    65.0     0.0        1.0  \n",
       "2                 Halling     9.0  1.199095    72.0     0.0        1.0  \n",
       "3            Norse Dancer     9.0  1.199095    72.0     0.0        0.0  \n",
       "4                Barathea     9.0  1.199095    72.0     0.0        0.0  \n",
       "...                   ...     ...       ...     ...     ...        ...  \n",
       "149584    Kings Island II    11.0  1.191591    58.0     0.0        0.0  \n",
       "149585           Colombia    11.0  1.191591    57.0     0.0        0.0  \n",
       "149586               Pins    11.0  1.191591    58.0     0.0        0.0  \n",
       "149587             Slavic    11.0  1.191591    58.0     0.0        0.0  \n",
       "149588     High Chaparral    11.0  1.191591    57.0     0.0        0.0  \n",
       "\n",
       "[149589 rows x 42 columns]"
      ]
     },
     "execution_count": 11,
     "metadata": {},
     "output_type": "execute_result"
    }
   ],
   "source": [
    "race_df.drop_duplicates()"
   ]
  },
  {
   "cell_type": "code",
   "execution_count": 12,
   "metadata": {
    "colab": {
     "base_uri": "https://localhost:8080/",
     "height": 34
    },
    "colab_type": "code",
    "id": "vks4BtyYUevo",
    "outputId": "91e0084a-f807-4e76-893d-26a350cffe8a"
   },
   "outputs": [
    {
     "name": "stdout",
     "output_type": "stream",
     "text": [
      "Number of duplicate rows dropped: 0\n"
     ]
    }
   ],
   "source": [
    "# Checking the number of rows before dropping duplicates\n",
    "rows_before = race_df.shape[0]\n",
    "\n",
    "# Remove duplicate rows\n",
    "race_df = race_df.drop_duplicates()\n",
    "\n",
    "# Check the number of rows after dropping duplicates\n",
    "rows_after = race_df.shape[0]\n",
    "\n",
    "# Calculate the number of rows dropped\n",
    "rows_dropped = rows_before - rows_after\n",
    "\n",
    "print(f\"Number of duplicate rows dropped: {rows_dropped}\")\n"
   ]
  },
  {
   "cell_type": "raw",
   "metadata": {
    "colab": {
     "base_uri": "https://localhost:8080/",
     "height": 34
    },
    "colab_type": "code",
    "id": "HIEN0qoVUevs",
    "outputId": "fc094005-40e2-44bd-c823-da336b99948f"
   },
   "source": [
    "\n",
    "\n",
    "### Build a machine learning model using the father and mother's names of the horse as features and the \"res_win\" column as the target variable"
   ]
  },
  {
   "cell_type": "code",
   "execution_count": 13,
   "metadata": {},
   "outputs": [
    {
     "data": {
      "text/plain": [
       "res_win\n",
       "0.0    134777\n",
       "1.0     14736\n",
       "Name: count, dtype: int64"
      ]
     },
     "execution_count": 13,
     "metadata": {},
     "output_type": "execute_result"
    }
   ],
   "source": [
    "race_df['res_win'].isnull().sum()\n",
    "race_df['res_win'].value_counts()"
   ]
  },
  {
   "cell_type": "markdown",
   "metadata": {},
   "source": [
    "#The dataset is filtered to include only the columns of interest (father, mother, res_win)\n",
    "#Rows with missing values in the \"res_win\" column are dropped.\n",
    "#Categorical columns (father and mother) are encoded with numerical labels using LabelEncoder.\n",
    "\n",
    "#The data is split into training and testing sets using a test size of 20% and a random state of 42.\n",
    "#The training and testing features (X_train and X_test) are standardized using StandardScaler\n",
    "\n",
    "\n",
    "#Class weights are calculated using the compute_class_weight function from sklearn.utils.class_weight.\n",
    "#The \"balanced\" option is used to automatically compute the weights based on the class distribution in the training set.\n",
    "\n",
    "\n",
    "\n",
    "#A neural network model is created using the Sequential API from Keras.\n",
    "#The model consists of three dense layers with 96,150, 1 units and a sigmoid relu activation function.\n",
    "#The model is compiled with the Adam optimizer, binary crossentropy loss function, and accuracy metric\n",
    "\n",
    "\n",
    "\n",
    "#The model is trained using the fit function.\n",
    "#The training data (X_train and y_train) is used, with a 10 epochs, and the calculated class weights.\n",
    "The validation data (X_test and y_test) is used for validation during training."
   ]
  },
  {
   "cell_type": "code",
   "execution_count": 104,
   "metadata": {},
   "outputs": [],
   "source": [
    "\n",
    "from sklearn.utils.class_weight import compute_class_weight\n",
    "from tensorflow.keras.models import Sequential\n",
    "from sklearn.preprocessing import StandardScaler\n",
    "from tensorflow.keras.layers import Dense\n",
    "\n",
    "\n",
    "# Create a new DF with the desired columns\n",
    "data = race_df[['father', 'mother', 'res_win']].copy()\n",
    "\n",
    "# Drop rows with empty values in the \"res_win\" column\n",
    "data.dropna(subset=['res_win'], inplace=True)\n",
    "\n",
    "# Convert categorical columns to numerical labels\n",
    "label_encoder = LabelEncoder()\n",
    "data['father'] = label_encoder.fit_transform(data['father'])\n",
    "data['mother'] = label_encoder.fit_transform(data['mother'])\n",
    "\n",
    "# Split the data into features (X) and target (y)\n",
    "X = data[['father', 'mother']]\n",
    "y = data['res_win']\n",
    "\n",
    "# Split the data into training and testing sets\n",
    "X_train, X_test, y_train, y_test = train_test_split(X, y, train_size=0.8,  test_size=0.2, random_state=1)\n",
    "\n",
    "\n",
    "\n"
   ]
  },
  {
   "cell_type": "code",
   "execution_count": 105,
   "metadata": {},
   "outputs": [
    {
     "name": "stdout",
     "output_type": "stream",
     "text": [
      "Scaled X_train: [[-0.61221456  1.21736911]\n",
      " [-1.6676032  -1.49711357]\n",
      " [-1.37691303  0.39408648]\n",
      " ...\n",
      " [-0.97754139  1.66199875]\n",
      " [ 0.66970291 -0.3906524 ]\n",
      " [ 0.35544326 -0.94609531]]\n",
      "Scaled X_test: [[-0.84921871  1.0608343 ]\n",
      " [-1.22371145  1.07400997]\n",
      " [-0.67244766 -0.35505843]\n",
      " ...\n",
      " [ 0.32008905 -1.39367474]\n",
      " [-0.99194496 -0.51041332]\n",
      " [ 0.44841174 -1.48678935]]\n",
      "Class Weights: [0.55450988 5.0863242 ]\n"
     ]
    }
   ],
   "source": [
    "# Create a standard scaler\n",
    "scaler = StandardScaler()\n",
    "\n",
    "# Scale the features\n",
    "X_train = scaler.fit_transform(X_train)\n",
    "X_test = scaler.transform(X_test)\n",
    "\n",
    "# Calculate class weights\n",
    "class_weights = compute_class_weight('balanced', classes=np.unique(y_train), y=y_train)\n",
    "print(\"Scaled X_train:\", X_train)\n",
    "print(\"Scaled X_test:\", X_test)\n",
    "print(\"Class Weights:\", class_weights)\n"
   ]
  },
  {
   "cell_type": "code",
   "execution_count": 106,
   "metadata": {},
   "outputs": [
    {
     "name": "stdout",
     "output_type": "stream",
     "text": [
      "Model: \"sequential_25\"\n",
      "_________________________________________________________________\n",
      " Layer (type)                Output Shape              Param #   \n",
      "=================================================================\n",
      " dense_66 (Dense)            (None, 96)                288       \n",
      "                                                                 \n",
      " dense_67 (Dense)            (None, 150)               14550     \n",
      "                                                                 \n",
      " dense_68 (Dense)            (None, 1)                 151       \n",
      "                                                                 \n",
      "=================================================================\n",
      "Total params: 14,989\n",
      "Trainable params: 14,989\n",
      "Non-trainable params: 0\n",
      "_________________________________________________________________\n"
     ]
    }
   ],
   "source": [
    "\n",
    "model = tf.keras.Sequential([\n",
    "    tf.keras.layers.Dense(96, activation='relu', input_shape=(2,)),\n",
    "    tf.keras.layers.Dense(150, activation=\"sigmoid\"),\n",
    "    tf.keras.layers.Dense(1, activation='sigmoid')\n",
    "])\n",
    "\n",
    "# Print the model summary\n",
    "model.summary()\n"
   ]
  },
  {
   "cell_type": "code",
   "execution_count": 107,
   "metadata": {},
   "outputs": [
    {
     "name": "stdout",
     "output_type": "stream",
     "text": [
      "(119610, 2)\n",
      "(29903, 2)\n"
     ]
    }
   ],
   "source": [
    "#Compile the model\n",
    "model.compile(optimizer='adam', loss='binary_crossentropy', metrics=['accuracy'])\n",
    "\n",
    "print(X_train.shape)\n",
    "print(X_test.shape)\n",
    "\n"
   ]
  },
  {
   "cell_type": "code",
   "execution_count": 103,
   "metadata": {},
   "outputs": [
    {
     "name": "stdout",
     "output_type": "stream",
     "text": [
      "Epoch 1/10\n",
      "3738/3738 [==============================] - 6s 1ms/step - loss: 0.6963 - accuracy: 0.4998 - val_loss: 0.7993 - val_accuracy: 0.0996\n",
      "Epoch 2/10\n",
      "3738/3738 [==============================] - 6s 2ms/step - loss: 0.6964 - accuracy: 0.4889 - val_loss: 0.7498 - val_accuracy: 0.0996\n",
      "Epoch 3/10\n",
      "3738/3738 [==============================] - 6s 1ms/step - loss: 0.6958 - accuracy: 0.5086 - val_loss: 0.6748 - val_accuracy: 0.9004\n",
      "Epoch 4/10\n",
      "3738/3738 [==============================] - 6s 1ms/step - loss: 0.6961 - accuracy: 0.4769 - val_loss: 0.6597 - val_accuracy: 0.8730\n",
      "Epoch 5/10\n",
      "3738/3738 [==============================] - 6s 2ms/step - loss: 0.6958 - accuracy: 0.4983 - val_loss: 0.6378 - val_accuracy: 0.9004\n",
      "Epoch 6/10\n",
      "3738/3738 [==============================] - 5s 1ms/step - loss: 0.6952 - accuracy: 0.4949 - val_loss: 0.6675 - val_accuracy: 0.9004\n",
      "Epoch 7/10\n",
      "3738/3738 [==============================] - 5s 1ms/step - loss: 0.6956 - accuracy: 0.4911 - val_loss: 0.7385 - val_accuracy: 0.1539\n",
      "Epoch 8/10\n",
      "3738/3738 [==============================] - 5s 1ms/step - loss: 0.6956 - accuracy: 0.4839 - val_loss: 0.6543 - val_accuracy: 0.9004\n",
      "Epoch 9/10\n",
      "3738/3738 [==============================] - 5s 1ms/step - loss: 0.6955 - accuracy: 0.4841 - val_loss: 0.7748 - val_accuracy: 0.0996\n",
      "Epoch 10/10\n",
      "3738/3738 [==============================] - 5s 1ms/step - loss: 0.6953 - accuracy: 0.4866 - val_loss: 0.6991 - val_accuracy: 0.3306\n"
     ]
    }
   ],
   "source": [
    "\n",
    "# Train the model\n",
    "history = model.fit(X_train, y_train, epochs=10, class_weight=dict(enumerate(class_weights)), validation_data=(X_test, y_test))\n",
    "\n",
    "\n",
    "\n"
   ]
  },
  {
   "cell_type": "code",
   "execution_count": 109,
   "metadata": {},
   "outputs": [
    {
     "name": "stdout",
     "output_type": "stream",
     "text": [
      "935/935 [==============================] - 1s 927us/step - loss: 0.6632 - accuracy: 0.8977\n",
      "Accuracy: 0.8976691365242004\n"
     ]
    }
   ],
   "source": [
    "# Evaluate the model performance\n",
    "_, accuracy = model.evaluate(X_test, y_test)\n",
    "print(\"Accuracy:\", accuracy)\n"
   ]
  },
  {
   "cell_type": "code",
   "execution_count": 110,
   "metadata": {},
   "outputs": [],
   "source": [
    "# Get the training history\n",
    "training_accuracy = history.history['accuracy']\n",
    "validation_accuracy = history.history['val_accuracy']\n",
    "training_loss = history.history['loss']\n",
    "validation_loss = history.history['val_loss']\n",
    "epochs = range(1, len(training_accuracy) + 1)\n"
   ]
  },
  {
   "cell_type": "code",
   "execution_count": 111,
   "metadata": {},
   "outputs": [
    {
     "data": {
      "text/plain": [
       "<matplotlib.legend.Legend at 0x7f8437e82a60>"
      ]
     },
     "execution_count": 111,
     "metadata": {},
     "output_type": "execute_result"
    },
    {
     "data": {
      "image/png": "[encoded data removed]",
      "text/plain": [
       "<Figure size 1000x400 with 1 Axes>"
      ]
     },
     "metadata": {},
     "output_type": "display_data"
    }
   ],
   "source": [
    "# Plot training and validation accuracy\n",
    "plt.figure(figsize=(10, 4))\n",
    "plt.subplot(1, 2, 1)\n",
    "plt.plot(epochs, training_accuracy, 'b-', label='Training Accuracy')\n",
    "plt.plot(epochs, validation_accuracy, 'r-', label='Validation Accuracy')\n",
    "plt.title('Training and Validation Accuracy')\n",
    "plt.xlabel('Epochs')\n",
    "plt.ylabel('Accuracy')\n",
    "plt.legend()"
   ]
  },
  {
   "cell_type": "code",
   "execution_count": null,
   "metadata": {},
   "outputs": [],
   "source": [
    "\n"
   ]
  },
  {
   "cell_type": "code",
   "execution_count": 112,
   "metadata": {},
   "outputs": [
    {
     "data": {
      "image/png": "[encoded data removed]",
      "text/plain": [
       "<Figure size 640x480 with 1 Axes>"
      ]
     },
     "metadata": {},
     "output_type": "display_data"
    }
   ],
   "source": [
    "# Plot training and validation loss\n",
    "plt.subplot(1, 2, 2)\n",
    "plt.plot(epochs, training_loss, 'b-', label='Training Loss')\n",
    "plt.plot(epochs, validation_loss, 'r-', label='Validation Loss')\n",
    "plt.title('Training and Validation Loss')\n",
    "plt.xlabel('Epochs')\n",
    "plt.ylabel('Loss')\n",
    "plt.legend()\n",
    "\n",
    "# Show the plots\n",
    "plt.tight_layout()\n",
    "plt.show()"
   ]
  },
  {
   "cell_type": "code",
   "execution_count": 113,
   "metadata": {},
   "outputs": [
    {
     "name": "stdout",
     "output_type": "stream",
     "text": [
      "935/935 [==============================] - 1s 762us/step\n",
      "Classification Report:\n",
      "               precision    recall  f1-score   support\n",
      "\n",
      "         0.0       0.90      1.00      0.95     26925\n",
      "         1.0       0.12      0.00      0.01      2978\n",
      "\n",
      "    accuracy                           0.90     29903\n",
      "   macro avg       0.51      0.50      0.48     29903\n",
      "weighted avg       0.82      0.90      0.85     29903\n",
      "\n"
     ]
    }
   ],
   "source": [
    "from sklearn.metrics import classification_report\n",
    "\n",
    "# Make predictions on the test set\n",
    "y_pred_prob = model.predict(X_test)\n",
    "y_pred = (y_pred_prob >= 0.5).astype(int)\n",
    "\n",
    "# Generate the classification report\n",
    "class_report = classification_report(y_test, y_pred)\n",
    "print(\"Classification Report:\\n\", class_report)"
   ]
  },
  {
   "cell_type": "code",
   "execution_count": 114,
   "metadata": {},
   "outputs": [],
   "source": [
    "# here using Decision tree classifier to compare the models"
   ]
  },
  {
   "cell_type": "code",
   "execution_count": 117,
   "metadata": {
    "colab": {
     "base_uri": "https://localhost:8080/",
     "height": 34
    },
    "colab_type": "code",
    "id": "K_kPLRBMUev0",
    "outputId": "6391dbcd-5e58-4895-c1da-e3f35d53a92b"
   },
   "outputs": [
    {
     "name": "stdout",
     "output_type": "stream",
     "text": [
      "Accuracy: 0.8821857338728556\n"
     ]
    }
   ],
   "source": [
    "\n",
    "# Create a new DF with the desired columns\n",
    "data = race_df[['father', 'mother', 'res_win']].copy()\n",
    "\n",
    "# Drop rows with empty values in the \"res_win\" column\n",
    "data.dropna(subset=['res_win'], inplace=True)\n",
    "\n",
    "# Convert categorical columns to numerical labels\n",
    "label_encoder = LabelEncoder()\n",
    "data['father'] = label_encoder.fit_transform(data['father'])\n",
    "data['mother'] = label_encoder.fit_transform(data['mother'])\n",
    "\n",
    "# Split the data into features (X) and target (y)\n",
    "X = data[['father', 'mother']]\n",
    "y = data['res_win']\n",
    "\n",
    "# Split the data into training and testing sets\n",
    "X_train, X_test, y_train, y_test = train_test_split(X, y, test_size=0.2, random_state=42)\n",
    "\n",
    "# Create a decision tree classifier\n",
    "clf = DecisionTreeClassifier()\n",
    "\n",
    "# Train the model\n",
    "clf.fit(X_train, y_train)\n",
    "\n",
    "# Make predictions on the testing set\n",
    "y_pred = clf.predict(X_test)\n",
    "\n",
    "# Evaluate the model performance\n",
    "accuracy = accuracy_score(y_test, y_pred)\n",
    "print(\"Accuracy:\", accuracy)\n"
   ]
  },
  {
   "cell_type": "code",
   "execution_count": 118,
   "metadata": {
    "colab": {
     "base_uri": "https://localhost:8080/",
     "height": 34
    },
    "colab_type": "code",
    "id": "G8MrlcEgUev7",
    "outputId": "6a917d30-4ebd-4a78-85ca-eea9f4ffee15"
   },
   "outputs": [
    {
     "name": "stdout",
     "output_type": "stream",
     "text": [
      "Confusion Matrix:\n",
      " [[26199   790]\n",
      " [ 2733   181]]\n"
     ]
    }
   ],
   "source": [
    "#confusion matrix \n",
    "\n",
    "conf_matrix = confusion_matrix(y_test, y_pred)\n",
    "print(\"Confusion Matrix:\\n\", conf_matrix)"
   ]
  },
  {
   "cell_type": "markdown",
   "metadata": {},
   "source": [
    "the model correctly identified 179 horses that won the race (TP)\n",
    "the model correctly identified 26,198 horses that did not win the race ( true neg)\n",
    "the model incorrectly predicted 791 horses as winners when they didn't win ( FP)\n",
    "the model incorrectly predicted 2735 horses as non- winners when they did win ( False Neg)"
   ]
  },
  {
   "cell_type": "code",
   "execution_count": 119,
   "metadata": {},
   "outputs": [
    {
     "data": {
      "image/png": "[encoded data removed]",
      "text/plain": [
       "<Figure size 800x600 with 2 Axes>"
      ]
     },
     "metadata": {},
     "output_type": "display_data"
    }
   ],
   "source": [
    "import seaborn as sns\n",
    "\n",
    "# Create a DF from the confusion matrix\n",
    "conf_df = pd.DataFrame(conf_matrix, index=['Actual 0', 'Actual 1'], columns=['Predicted 0', 'Predicted 1'])\n",
    "# Create a heatmap of the confusion matrix\n",
    "plt.figure(figsize=(8, 6))\n",
    "sns.heatmap(conf_df, annot=True, fmt='d', cmap='Blues')\n",
    "plt.xlabel('Predicted')\n",
    "plt.ylabel('Actual')\n",
    "plt.title('Confusion Matrix')\n",
    "plt.show()\n"
   ]
  },
  {
   "cell_type": "markdown",
   "metadata": {},
   "source": [
    "#Actual 0 label corresponds to the horses that did not win the race.\n",
    "#'Actual 1' corresponds to the horses that won the race.\n",
    "\n",
    "#'Predicted 0' label indicating the instance that the model predicted as not winning the race.\n",
    "\n",
    "#'Predicted 1' label indicating the model instance the model predicted as winning the race"
   ]
  },
  {
   "cell_type": "code",
   "execution_count": 120,
   "metadata": {
    "colab": {
     "base_uri": "https://localhost:8080/",
     "height": 85
    },
    "colab_type": "code",
    "id": "YD1CT3HoUewC",
    "outputId": "de0e9a87-2c3e-46bc-9d1e-dc9b3b13431d"
   },
   "outputs": [
    {
     "name": "stdout",
     "output_type": "stream",
     "text": [
      "Classification Report:\n",
      "               precision    recall  f1-score   support\n",
      "\n",
      "         0.0       0.91      0.97      0.94     26989\n",
      "         1.0       0.19      0.06      0.09      2914\n",
      "\n",
      "    accuracy                           0.88     29903\n",
      "   macro avg       0.55      0.52      0.52     29903\n",
      "weighted avg       0.84      0.88      0.85     29903\n",
      "\n"
     ]
    }
   ],
   "source": [
    "from sklearn.metrics import classification_report\n",
    "# Generating classification report\n",
    "class_report = classification_report(y_test, y_pred)\n",
    "print(\"Classification Report:\\n\", class_report)"
   ]
  },
  {
   "cell_type": "markdown",
   "metadata": {},
   "source": [
    "# Classification report  \n",
    "#The overall accuracy of the model is 0.88 indicating that the model correctly predicts the winning or non-winning status of the horses in 88% of the instances\n",
    "\n",
    "#Precision is the proportion of correctly predicted positive instances out of the total instances predicted as positive. \n",
    "#For class 0, the precision is 0.91, indicating that 91% of the instances predicted as not winning the race (class 0) were actually not winners. \n",
    "#for class 1, the precision is 0.19, suggesting that only 19% of the instances predicted as winners (class 1) were truly winners\n",
    "\n",
    "\n",
    "\n",
    "\n"
   ]
  },
  {
   "cell_type": "code",
   "execution_count": 121,
   "metadata": {},
   "outputs": [
    {
     "name": "stdout",
     "output_type": "stream",
     "text": [
      "Feature Importance: [0.24843561 0.75156439]\n"
     ]
    }
   ],
   "source": [
    "# Print feature importance\n",
    "feature_importance = clf.feature_importances_\n",
    "print(\"Feature Importance:\", feature_importance)"
   ]
  },
  {
   "cell_type": "markdown",
   "metadata": {
    "colab_type": "text",
    "id": "vq-kfT6yUewG"
   },
   "source": []
  },
  {
   "cell_type": "code",
   "execution_count": null,
   "metadata": {
    "colab": {
     "base_uri": "https://localhost:8080/",
     "height": 153
    },
    "colab_type": "code",
    "id": "b4wkcAo7Uewz",
    "outputId": "94eab3b2-e29f-4abb-a327-4d8838c3a3a9"
   },
   "outputs": [],
   "source": []
  },
  {
   "cell_type": "code",
   "execution_count": null,
   "metadata": {
    "colab": {
     "base_uri": "https://localhost:8080/",
     "height": 153
    },
    "colab_type": "code",
    "id": "HCKNp0aEUew3",
    "outputId": "a0925899-7b0a-4eb0-c805-214a62345509"
   },
   "outputs": [],
   "source": []
  },
  {
   "cell_type": "code",
   "execution_count": null,
   "metadata": {
    "colab": {
     "base_uri": "https://localhost:8080/",
     "height": 153
    },
    "colab_type": "code",
    "id": "uppVIRZ3Uew8",
    "outputId": "69b30798-671a-4466-ba21-804b7282b2bf"
   },
   "outputs": [],
   "source": []
  },
  {
   "cell_type": "code",
   "execution_count": null,
   "metadata": {
    "colab": {
     "base_uri": "https://localhost:8080/",
     "height": 34
    },
    "colab_type": "code",
    "id": "_p_Fft--Uew_",
    "outputId": "f1c2a79c-2847-4967-a974-7db4ff2afbeb"
   },
   "outputs": [],
   "source": []
  },
  {
   "cell_type": "markdown",
   "metadata": {
    "colab_type": "text",
    "id": "dO0pdWQSUexD"
   },
   "source": []
  },
  {
   "cell_type": "code",
   "execution_count": null,
   "metadata": {
    "colab": {},
    "colab_type": "code",
    "id": "Z-0pF6RVUexE"
   },
   "outputs": [],
   "source": []
  },
  {
   "cell_type": "code",
   "execution_count": null,
   "metadata": {
    "colab": {
     "base_uri": "https://localhost:8080/",
     "height": 142
    },
    "colab_type": "code",
    "id": "9XMUMESlUexI",
    "outputId": "cb503614-560a-47d3-fee7-4c9639f9301a"
   },
   "outputs": [],
   "source": []
  },
  {
   "cell_type": "code",
   "execution_count": null,
   "metadata": {
    "colab": {},
    "colab_type": "code",
    "id": "WOj-z65ZXNzX"
   },
   "outputs": [],
   "source": []
  },
  {
   "cell_type": "code",
   "execution_count": null,
   "metadata": {},
   "outputs": [],
   "source": []
  }
 ],
 "metadata": {
  "anaconda-cloud": {},
  "colab": {
   "collapsed_sections": [],
   "name": "spark_dataframe_basics.ipynb",
   "provenance": []
  },
  "kernel_info": {
   "name": "python3"
  },
  "kernelspec": {
   "display_name": "Python 3 (ipykernel)",
   "language": "python",
   "name": "python3"
  },
  "language_info": {
   "codemirror_mode": {
    "name": "ipython",
    "version": 3
   },
   "file_extension": ".py",
   "mimetype": "text/x-python",
   "name": "python",
   "nbconvert_exporter": "python",
   "pygments_lexer": "ipython3",
   "version": "3.9.13"
  },
  "nbpresent": {
   "slides": {},
   "themes": {
    "default": "0535adbc-b74f-46cc-9cd6-4eabe2477c8e",
    "theme": {
     "0535adbc-b74f-46cc-9cd6-4eabe2477c8e": {
      "backgrounds": {
       "backgroundColor": {
        "background-color": "backgroundColor",
        "id": "backgroundColor"
       }
      },
      "id": "0535adbc-b74f-46cc-9cd6-4eabe2477c8e",
      "palette": {
       "backgroundColor": {
        "id": "backgroundColor",
        "rgb": [
         43,
         43,
         43
        ]
       },
       "headingColor": {
        "id": "headingColor",
        "rgb": [
         238,
         238,
         238
        ]
       },
       "linkColor": {
        "id": "linkColor",
        "rgb": [
         19,
         218,
         236
        ]
       },
       "mainColor": {
        "id": "mainColor",
        "rgb": [
         238,
         238,
         238
        ]
       }
      },
      "rules": {
       "a": {
        "color": "linkColor"
       },
       "h1": {
        "color": "headingColor",
        "font-family": "Oswald",
        "font-size": 7
       },
       "h2": {
        "color": "headingColor",
        "font-family": "Oswald",
        "font-size": 5
       },
       "h3": {
        "color": "headingColor",
        "font-family": "Oswald",
        "font-size": 3.75
       },
       "h4": {
        "color": "headingColor",
        "font-family": "Oswald",
        "font-size": 3
       },
       "h5": {
        "color": "headingColor",
        "font-family": "Oswald"
       },
       "h6": {
        "color": "headingColor",
        "font-family": "Oswald"
       },
       "h7": {
        "color": "headingColor",
        "font-family": "Oswald"
       },
       "li": {
        "color": "mainColor",
        "font-family": "Lato",
        "font-size": 5
       },
       "p": {
        "color": "mainColor",
        "font-family": "Lato",
        "font-size": 5
       }
      },
      "text-base": {
       "color": "mainColor",
       "font-family": "Lato",
       "font-size": 5
      }
     },
     "cc59980f-cb69-400a-b63a-1fb85ca73c8a": {
      "backgrounds": {
       "dc7afa04-bf90-40b1-82a5-726e3cff5267": {
        "background-color": "31af15d2-7e15-44c5-ab5e-e04b16a89eff",
        "id": "dc7afa04-bf90-40b1-82a5-726e3cff5267"
       }
      },
      "id": "cc59980f-cb69-400a-b63a-1fb85ca73c8a",
      "palette": {
       "19cc588f-0593-49c9-9f4b-e4d7cc113b1c": {
        "id": "19cc588f-0593-49c9-9f4b-e4d7cc113b1c",
        "rgb": [
         252,
         252,
         252
        ]
       },
       "31af15d2-7e15-44c5-ab5e-e04b16a89eff": {
        "id": "31af15d2-7e15-44c5-ab5e-e04b16a89eff",
        "rgb": [
         68,
         68,
         68
        ]
       },
       "50f92c45-a630-455b-aec3-788680ec7410": {
        "id": "50f92c45-a630-455b-aec3-788680ec7410",
        "rgb": [
         197,
         226,
         245
        ]
       },
       "c5cc3653-2ee1-402a-aba2-7caae1da4f6c": {
        "id": "c5cc3653-2ee1-402a-aba2-7caae1da4f6c",
        "rgb": [
         43,
         126,
         184
        ]
       },
       "efa7f048-9acb-414c-8b04-a26811511a21": {
        "id": "efa7f048-9acb-414c-8b04-a26811511a21",
        "rgb": [
         25.118061674008803,
         73.60176211453744,
         107.4819383259912
        ]
       }
      },
      "rules": {
       "a": {
        "color": "19cc588f-0593-49c9-9f4b-e4d7cc113b1c"
       },
       "blockquote": {
        "color": "50f92c45-a630-455b-aec3-788680ec7410",
        "font-size": 3
       },
       "code": {
        "font-family": "Anonymous Pro"
       },
       "h1": {
        "color": "19cc588f-0593-49c9-9f4b-e4d7cc113b1c",
        "font-family": "Merriweather",
        "font-size": 8
       },
       "h2": {
        "color": "19cc588f-0593-49c9-9f4b-e4d7cc113b1c",
        "font-family": "Merriweather",
        "font-size": 6
       },
       "h3": {
        "color": "50f92c45-a630-455b-aec3-788680ec7410",
        "font-family": "Lato",
        "font-size": 5.5
       },
       "h4": {
        "color": "c5cc3653-2ee1-402a-aba2-7caae1da4f6c",
        "font-family": "Lato",
        "font-size": 5
       },
       "h5": {
        "font-family": "Lato"
       },
       "h6": {
        "font-family": "Lato"
       },
       "h7": {
        "font-family": "Lato"
       },
       "li": {
        "color": "50f92c45-a630-455b-aec3-788680ec7410",
        "font-size": 3.25
       },
       "pre": {
        "font-family": "Anonymous Pro",
        "font-size": 4
       }
      },
      "text-base": {
       "color": "19cc588f-0593-49c9-9f4b-e4d7cc113b1c",
       "font-family": "Lato",
       "font-size": 4
      }
     }
    }
   }
  },
  "nteract": {
   "version": "0.10.0"
  },
  "varInspector": {
   "cols": {
    "lenName": 16,
    "lenType": 16,
    "lenVar": 40
   },
   "kernels_config": {
    "python": {
     "delete_cmd_postfix": "",
     "delete_cmd_prefix": "del ",
     "library": "var_list.py",
     "varRefreshCmd": "print(var_dic_list())"
    },
    "r": {
     "delete_cmd_postfix": ") ",
     "delete_cmd_prefix": "rm(",
     "library": "var_list.r",
     "varRefreshCmd": "cat(var_dic_list()) "
    }
   },
   "types_to_exclude": [
    "module",
    "function",
    "builtin_function_or_method",
    "instance",
    "_Feature"
   ],
   "window_display": false
  }
 },
 "nbformat": 4,
 "nbformat_minor": 4
}
