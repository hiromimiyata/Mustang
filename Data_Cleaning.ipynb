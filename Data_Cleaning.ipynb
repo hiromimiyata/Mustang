{
 "cells": [
  {
   "cell_type": "code",
   "execution_count": 117,
   "metadata": {},
   "outputs": [],
   "source": [
    "# Import Modules\n",
    "import pandas as pd \n",
    "from warnings import simplefilter\n",
    "simplefilter(action='ignore', category=FutureWarning)\n",
    "from pathlib import Path\n",
    "from sklearn.neighbors import KNeighborsClassifier\n",
    "from sklearn.cluster import KMeans\n",
    "from sklearn.model_selection import train_test_split\n",
    "from sklearn.metrics import confusion_matrix, classification_report, accuracy_score\n",
    "from sklearn.preprocessing import StandardScaler\n",
    "from sklearn.linear_model import LogisticRegression"
   ]
  },
  {
   "cell_type": "code",
   "execution_count": 17,
   "metadata": {},
   "outputs": [
    {
     "name": "stderr",
     "output_type": "stream",
     "text": [
      "c:\\Users\\vidul\\anaconda3\\envs\\PythonData\\lib\\site-packages\\IPython\\core\\interactiveshell.py:3457: DtypeWarning: Columns (11,19,46) have mixed types.Specify dtype option on import or set low_memory=False.\n",
      "  exec(code_obj, self.user_global_ns, self.user_ns)\n"
     ]
    },
    {
     "data": {
      "text/html": [
       "<div>\n",
       "<style scoped>\n",
       "    .dataframe tbody tr th:only-of-type {\n",
       "        vertical-align: middle;\n",
       "    }\n",
       "\n",
       "    .dataframe tbody tr th {\n",
       "        vertical-align: top;\n",
       "    }\n",
       "\n",
       "    .dataframe thead th {\n",
       "        text-align: right;\n",
       "    }\n",
       "</style>\n",
       "<table border=\"1\" class=\"dataframe\">\n",
       "  <thead>\n",
       "    <tr style=\"text-align: right;\">\n",
       "      <th></th>\n",
       "      <th>Unnamed: 0</th>\n",
       "      <th>rid</th>\n",
       "      <th>course</th>\n",
       "      <th>time</th>\n",
       "      <th>date</th>\n",
       "      <th>title</th>\n",
       "      <th>rclass</th>\n",
       "      <th>band</th>\n",
       "      <th>ages</th>\n",
       "      <th>distance</th>\n",
       "      <th>...</th>\n",
       "      <th>OR</th>\n",
       "      <th>father</th>\n",
       "      <th>mother</th>\n",
       "      <th>gfather</th>\n",
       "      <th>runners</th>\n",
       "      <th>margin</th>\n",
       "      <th>weight</th>\n",
       "      <th>res_win</th>\n",
       "      <th>res_place</th>\n",
       "      <th>price</th>\n",
       "    </tr>\n",
       "  </thead>\n",
       "  <tbody>\n",
       "    <tr>\n",
       "      <th>0</th>\n",
       "      <td>0</td>\n",
       "      <td>10312</td>\n",
       "      <td>Fakenham</td>\n",
       "      <td>02:55</td>\n",
       "      <td>20/01/01</td>\n",
       "      <td>Happy New Year Maiden Hurdle (Div I)</td>\n",
       "      <td>Class 4</td>\n",
       "      <td>NaN</td>\n",
       "      <td>4yo+</td>\n",
       "      <td>2m</td>\n",
       "      <td>...</td>\n",
       "      <td>NaN</td>\n",
       "      <td>Pour Moi</td>\n",
       "      <td>Laughing Water</td>\n",
       "      <td>Duke Of Marmalade</td>\n",
       "      <td>9.0</td>\n",
       "      <td>1.199095</td>\n",
       "      <td>66.0</td>\n",
       "      <td>1.0</td>\n",
       "      <td>1.0</td>\n",
       "      <td>NaN</td>\n",
       "    </tr>\n",
       "    <tr>\n",
       "      <th>1</th>\n",
       "      <td>1</td>\n",
       "      <td>10312</td>\n",
       "      <td>Fakenham</td>\n",
       "      <td>02:55</td>\n",
       "      <td>20/01/01</td>\n",
       "      <td>Happy New Year Maiden Hurdle (Div I)</td>\n",
       "      <td>Class 4</td>\n",
       "      <td>NaN</td>\n",
       "      <td>4yo+</td>\n",
       "      <td>2m</td>\n",
       "      <td>...</td>\n",
       "      <td>110.0</td>\n",
       "      <td>Getaway</td>\n",
       "      <td>Shouette</td>\n",
       "      <td>Sadler's Wells</td>\n",
       "      <td>9.0</td>\n",
       "      <td>1.199095</td>\n",
       "      <td>65.0</td>\n",
       "      <td>0.0</td>\n",
       "      <td>1.0</td>\n",
       "      <td>NaN</td>\n",
       "    </tr>\n",
       "    <tr>\n",
       "      <th>2</th>\n",
       "      <td>2</td>\n",
       "      <td>10312</td>\n",
       "      <td>Fakenham</td>\n",
       "      <td>02:55</td>\n",
       "      <td>20/01/01</td>\n",
       "      <td>Happy New Year Maiden Hurdle (Div I)</td>\n",
       "      <td>Class 4</td>\n",
       "      <td>NaN</td>\n",
       "      <td>4yo+</td>\n",
       "      <td>2m</td>\n",
       "      <td>...</td>\n",
       "      <td>NaN</td>\n",
       "      <td>Vale Of York</td>\n",
       "      <td>Finnmark</td>\n",
       "      <td>Halling</td>\n",
       "      <td>9.0</td>\n",
       "      <td>1.199095</td>\n",
       "      <td>72.0</td>\n",
       "      <td>0.0</td>\n",
       "      <td>1.0</td>\n",
       "      <td>NaN</td>\n",
       "    </tr>\n",
       "    <tr>\n",
       "      <th>3</th>\n",
       "      <td>3</td>\n",
       "      <td>10312</td>\n",
       "      <td>Fakenham</td>\n",
       "      <td>02:55</td>\n",
       "      <td>20/01/01</td>\n",
       "      <td>Happy New Year Maiden Hurdle (Div I)</td>\n",
       "      <td>Class 4</td>\n",
       "      <td>NaN</td>\n",
       "      <td>4yo+</td>\n",
       "      <td>2m</td>\n",
       "      <td>...</td>\n",
       "      <td>NaN</td>\n",
       "      <td>Sixties Icon</td>\n",
       "      <td>Highland Jig</td>\n",
       "      <td>Norse Dancer</td>\n",
       "      <td>9.0</td>\n",
       "      <td>1.199095</td>\n",
       "      <td>72.0</td>\n",
       "      <td>0.0</td>\n",
       "      <td>0.0</td>\n",
       "      <td>NaN</td>\n",
       "    </tr>\n",
       "    <tr>\n",
       "      <th>4</th>\n",
       "      <td>4</td>\n",
       "      <td>10312</td>\n",
       "      <td>Fakenham</td>\n",
       "      <td>02:55</td>\n",
       "      <td>20/01/01</td>\n",
       "      <td>Happy New Year Maiden Hurdle (Div I)</td>\n",
       "      <td>Class 4</td>\n",
       "      <td>NaN</td>\n",
       "      <td>4yo+</td>\n",
       "      <td>2m</td>\n",
       "      <td>...</td>\n",
       "      <td>NaN</td>\n",
       "      <td>Iffraaj</td>\n",
       "      <td>Hallowed Park</td>\n",
       "      <td>Barathea</td>\n",
       "      <td>9.0</td>\n",
       "      <td>1.199095</td>\n",
       "      <td>72.0</td>\n",
       "      <td>0.0</td>\n",
       "      <td>0.0</td>\n",
       "      <td>NaN</td>\n",
       "    </tr>\n",
       "  </tbody>\n",
       "</table>\n",
       "<p>5 rows × 47 columns</p>\n",
       "</div>"
      ],
      "text/plain": [
       "   Unnamed: 0    rid    course   time      date  \\\n",
       "0           0  10312  Fakenham  02:55  20/01/01   \n",
       "1           1  10312  Fakenham  02:55  20/01/01   \n",
       "2           2  10312  Fakenham  02:55  20/01/01   \n",
       "3           3  10312  Fakenham  02:55  20/01/01   \n",
       "4           4  10312  Fakenham  02:55  20/01/01   \n",
       "\n",
       "                                  title   rclass band  ages distance  ...  \\\n",
       "0  Happy New Year Maiden Hurdle (Div I)  Class 4  NaN  4yo+       2m  ...   \n",
       "1  Happy New Year Maiden Hurdle (Div I)  Class 4  NaN  4yo+       2m  ...   \n",
       "2  Happy New Year Maiden Hurdle (Div I)  Class 4  NaN  4yo+       2m  ...   \n",
       "3  Happy New Year Maiden Hurdle (Div I)  Class 4  NaN  4yo+       2m  ...   \n",
       "4  Happy New Year Maiden Hurdle (Div I)  Class 4  NaN  4yo+       2m  ...   \n",
       "\n",
       "      OR        father          mother            gfather  runners    margin  \\\n",
       "0    NaN      Pour Moi  Laughing Water  Duke Of Marmalade      9.0  1.199095   \n",
       "1  110.0       Getaway        Shouette     Sadler's Wells      9.0  1.199095   \n",
       "2    NaN  Vale Of York        Finnmark            Halling      9.0  1.199095   \n",
       "3    NaN  Sixties Icon    Highland Jig       Norse Dancer      9.0  1.199095   \n",
       "4    NaN       Iffraaj   Hallowed Park           Barathea      9.0  1.199095   \n",
       "\n",
       "  weight  res_win  res_place price  \n",
       "0   66.0      1.0        1.0   NaN  \n",
       "1   65.0      0.0        1.0   NaN  \n",
       "2   72.0      0.0        1.0   NaN  \n",
       "3   72.0      0.0        0.0   NaN  \n",
       "4   72.0      0.0        0.0   NaN  \n",
       "\n",
       "[5 rows x 47 columns]"
      ]
     },
     "execution_count": 17,
     "metadata": {},
     "output_type": "execute_result"
    }
   ],
   "source": [
    "df = pd.read_csv(\"Resources\\merged_data.csv\")\n",
    "df.head()"
   ]
  },
  {
   "cell_type": "code",
   "execution_count": null,
   "metadata": {},
   "outputs": [],
   "source": [
    "df.groupby(\"countryCode\").count().sort_values(by=\"course\", ascending=False)"
   ]
  },
  {
   "cell_type": "code",
   "execution_count": 13,
   "metadata": {},
   "outputs": [
    {
     "data": {
      "text/plain": [
       "Index(['Unnamed: 0', 'rid', 'course', 'time', 'date', 'title', 'rclass',\n",
       "       'band', 'ages', 'distance', 'condition', 'hurdles', 'prizes',\n",
       "       'winningTime', 'prize', 'metric', 'countryCode', 'ncond', 'class',\n",
       "       'currency', 'horseName', 'age', 'saddle', 'decimalPrice', 'isFav',\n",
       "       'trainerName', 'jockeyName', 'position', 'positionL', 'dist',\n",
       "       'weightSt', 'weightLb', 'overWeight', 'outHandicap', 'headGear', 'RPR',\n",
       "       'TR', 'OR', 'father', 'mother', 'gfather', 'runners', 'margin',\n",
       "       'weight', 'res_win', 'res_place', 'price'],\n",
       "      dtype='object')"
      ]
     },
     "execution_count": 13,
     "metadata": {},
     "output_type": "execute_result"
    }
   ],
   "source": [
    "#df_horses_features[\"ages\"] = df_horses_features[\"ages\"].str.replace('[a-zA-Z+]', '').astype(float)\n",
    "df.columns"
   ]
  },
  {
   "cell_type": "code",
   "execution_count": 15,
   "metadata": {},
   "outputs": [],
   "source": [
    "df_horses = df[[\"rid\", \"horseName\", \"age\", \"saddle\", \"decimalPrice\", \"isFav\", \n",
    "                \"trainerName\", \"jockeyName\", \"position\", \"positionL\", \"dist\", \n",
    "                'weightSt', 'weightLb', 'overWeight', 'outHandicap', 'headGear', \n",
    "                'RPR', 'TR', 'OR', 'father', 'mother', 'gfather', 'runners', \n",
    "                'margin', 'weight', 'res_win', 'res_place', 'price']]\n",
    "df_races = df[[\"rid\", 'course', 'time', 'date', 'title', 'rclass', 'band', \n",
    "               'ages', 'distance', 'condition', 'hurdles', 'prizes', 'winningTime', \n",
    "               'prize', 'metric', 'countryCode', 'ncond', 'class', 'currency']]"
   ]
  },
  {
   "cell_type": "markdown",
   "metadata": {},
   "source": [
    "drop title, headgear, outHandicap, overWeight, RPR, band, class, ncond, decimal price, positionL, dist, weights & weightLb, margin, outHandicap, hurdles, "
   ]
  },
  {
   "cell_type": "code",
   "execution_count": 108,
   "metadata": {},
   "outputs": [],
   "source": [
    "df_horse_features = df_horse_cleaning.drop(columns=\"res_win\")\n",
    "df_horse_target = df_horse_cleaning[\"res_win\"]"
   ]
  },
  {
   "cell_type": "code",
   "execution_count": 109,
   "metadata": {},
   "outputs": [
    {
     "name": "stdout",
     "output_type": "stream",
     "text": [
      "285110\n",
      "age            float64\n",
      "trainerName     object\n",
      "jockeyName      object\n",
      "weight         float64\n",
      "RPR            float64\n",
      "TR             float64\n",
      "OR             float64\n",
      "runners        float64\n",
      "metric         float64\n",
      "condition       object\n",
      "dtype: object\n",
      "float64\n"
     ]
    }
   ],
   "source": [
    "print(df_horse_features.size)\n",
    "print(df_horse_features.dtypes)\n",
    "print(df_horse_target.dtypes)"
   ]
  },
  {
   "cell_type": "code",
   "execution_count": 110,
   "metadata": {},
   "outputs": [
    {
     "data": {
      "text/plain": [
       "0"
      ]
     },
     "execution_count": 110,
     "metadata": {},
     "output_type": "execute_result"
    }
   ],
   "source": [
    "df_horse_target.isna().sum()"
   ]
  },
  {
   "cell_type": "code",
   "execution_count": 111,
   "metadata": {},
   "outputs": [
    {
     "data": {
      "text/html": [
       "<div>\n",
       "<style scoped>\n",
       "    .dataframe tbody tr th:only-of-type {\n",
       "        vertical-align: middle;\n",
       "    }\n",
       "\n",
       "    .dataframe tbody tr th {\n",
       "        vertical-align: top;\n",
       "    }\n",
       "\n",
       "    .dataframe thead th {\n",
       "        text-align: right;\n",
       "    }\n",
       "</style>\n",
       "<table border=\"1\" class=\"dataframe\">\n",
       "  <thead>\n",
       "    <tr style=\"text-align: right;\">\n",
       "      <th></th>\n",
       "      <th>age</th>\n",
       "      <th>weight</th>\n",
       "      <th>RPR</th>\n",
       "      <th>TR</th>\n",
       "      <th>OR</th>\n",
       "      <th>runners</th>\n",
       "      <th>metric</th>\n",
       "      <th>trainerName_A Al Shemaili</th>\n",
       "      <th>trainerName_A Chaille-Chaille</th>\n",
       "      <th>trainerName_A Daud</th>\n",
       "      <th>...</th>\n",
       "      <th>condition_Good To Firm</th>\n",
       "      <th>condition_Good To Soft</th>\n",
       "      <th>condition_Good To Yielding</th>\n",
       "      <th>condition_Heavy</th>\n",
       "      <th>condition_Soft</th>\n",
       "      <th>condition_Soft To Heavy</th>\n",
       "      <th>condition_Standard</th>\n",
       "      <th>condition_Standard To Slow</th>\n",
       "      <th>condition_Yielding</th>\n",
       "      <th>condition_Yielding To Soft</th>\n",
       "    </tr>\n",
       "  </thead>\n",
       "  <tbody>\n",
       "    <tr>\n",
       "      <th>1</th>\n",
       "      <td>6.0</td>\n",
       "      <td>65.0</td>\n",
       "      <td>96.0</td>\n",
       "      <td>89.0</td>\n",
       "      <td>110.0</td>\n",
       "      <td>9.0</td>\n",
       "      <td>3218.0</td>\n",
       "      <td>0</td>\n",
       "      <td>0</td>\n",
       "      <td>0</td>\n",
       "      <td>...</td>\n",
       "      <td>0</td>\n",
       "      <td>1</td>\n",
       "      <td>0</td>\n",
       "      <td>0</td>\n",
       "      <td>0</td>\n",
       "      <td>0</td>\n",
       "      <td>0</td>\n",
       "      <td>0</td>\n",
       "      <td>0</td>\n",
       "      <td>0</td>\n",
       "    </tr>\n",
       "    <tr>\n",
       "      <th>5</th>\n",
       "      <td>7.0</td>\n",
       "      <td>70.0</td>\n",
       "      <td>80.0</td>\n",
       "      <td>65.0</td>\n",
       "      <td>114.0</td>\n",
       "      <td>9.0</td>\n",
       "      <td>3218.0</td>\n",
       "      <td>0</td>\n",
       "      <td>0</td>\n",
       "      <td>0</td>\n",
       "      <td>...</td>\n",
       "      <td>0</td>\n",
       "      <td>1</td>\n",
       "      <td>0</td>\n",
       "      <td>0</td>\n",
       "      <td>0</td>\n",
       "      <td>0</td>\n",
       "      <td>0</td>\n",
       "      <td>0</td>\n",
       "      <td>0</td>\n",
       "      <td>0</td>\n",
       "    </tr>\n",
       "    <tr>\n",
       "      <th>26</th>\n",
       "      <td>8.0</td>\n",
       "      <td>73.0</td>\n",
       "      <td>115.0</td>\n",
       "      <td>33.0</td>\n",
       "      <td>109.0</td>\n",
       "      <td>8.0</td>\n",
       "      <td>3218.0</td>\n",
       "      <td>0</td>\n",
       "      <td>0</td>\n",
       "      <td>0</td>\n",
       "      <td>...</td>\n",
       "      <td>0</td>\n",
       "      <td>0</td>\n",
       "      <td>0</td>\n",
       "      <td>0</td>\n",
       "      <td>1</td>\n",
       "      <td>0</td>\n",
       "      <td>0</td>\n",
       "      <td>0</td>\n",
       "      <td>0</td>\n",
       "      <td>0</td>\n",
       "    </tr>\n",
       "    <tr>\n",
       "      <th>27</th>\n",
       "      <td>9.0</td>\n",
       "      <td>68.0</td>\n",
       "      <td>108.0</td>\n",
       "      <td>29.0</td>\n",
       "      <td>103.0</td>\n",
       "      <td>8.0</td>\n",
       "      <td>3218.0</td>\n",
       "      <td>0</td>\n",
       "      <td>0</td>\n",
       "      <td>0</td>\n",
       "      <td>...</td>\n",
       "      <td>0</td>\n",
       "      <td>0</td>\n",
       "      <td>0</td>\n",
       "      <td>0</td>\n",
       "      <td>1</td>\n",
       "      <td>0</td>\n",
       "      <td>0</td>\n",
       "      <td>0</td>\n",
       "      <td>0</td>\n",
       "      <td>0</td>\n",
       "    </tr>\n",
       "    <tr>\n",
       "      <th>28</th>\n",
       "      <td>7.0</td>\n",
       "      <td>71.0</td>\n",
       "      <td>105.0</td>\n",
       "      <td>24.0</td>\n",
       "      <td>107.0</td>\n",
       "      <td>8.0</td>\n",
       "      <td>3218.0</td>\n",
       "      <td>0</td>\n",
       "      <td>0</td>\n",
       "      <td>0</td>\n",
       "      <td>...</td>\n",
       "      <td>0</td>\n",
       "      <td>0</td>\n",
       "      <td>0</td>\n",
       "      <td>0</td>\n",
       "      <td>1</td>\n",
       "      <td>0</td>\n",
       "      <td>0</td>\n",
       "      <td>0</td>\n",
       "      <td>0</td>\n",
       "      <td>0</td>\n",
       "    </tr>\n",
       "  </tbody>\n",
       "</table>\n",
       "<p>5 rows × 1884 columns</p>\n",
       "</div>"
      ],
      "text/plain": [
       "    age  weight    RPR    TR     OR  runners  metric  \\\n",
       "1   6.0    65.0   96.0  89.0  110.0      9.0  3218.0   \n",
       "5   7.0    70.0   80.0  65.0  114.0      9.0  3218.0   \n",
       "26  8.0    73.0  115.0  33.0  109.0      8.0  3218.0   \n",
       "27  9.0    68.0  108.0  29.0  103.0      8.0  3218.0   \n",
       "28  7.0    71.0  105.0  24.0  107.0      8.0  3218.0   \n",
       "\n",
       "    trainerName_A Al Shemaili  trainerName_A Chaille-Chaille  \\\n",
       "1                           0                              0   \n",
       "5                           0                              0   \n",
       "26                          0                              0   \n",
       "27                          0                              0   \n",
       "28                          0                              0   \n",
       "\n",
       "    trainerName_A Daud  ...  condition_Good To Firm  condition_Good To Soft  \\\n",
       "1                    0  ...                       0                       1   \n",
       "5                    0  ...                       0                       1   \n",
       "26                   0  ...                       0                       0   \n",
       "27                   0  ...                       0                       0   \n",
       "28                   0  ...                       0                       0   \n",
       "\n",
       "    condition_Good To Yielding  condition_Heavy  condition_Soft  \\\n",
       "1                            0                0               0   \n",
       "5                            0                0               0   \n",
       "26                           0                0               1   \n",
       "27                           0                0               1   \n",
       "28                           0                0               1   \n",
       "\n",
       "    condition_Soft To Heavy  condition_Standard  condition_Standard To Slow  \\\n",
       "1                         0                   0                           0   \n",
       "5                         0                   0                           0   \n",
       "26                        0                   0                           0   \n",
       "27                        0                   0                           0   \n",
       "28                        0                   0                           0   \n",
       "\n",
       "    condition_Yielding  condition_Yielding To Soft  \n",
       "1                    0                           0  \n",
       "5                    0                           0  \n",
       "26                   0                           0  \n",
       "27                   0                           0  \n",
       "28                   0                           0  \n",
       "\n",
       "[5 rows x 1884 columns]"
      ]
     },
     "execution_count": 111,
     "metadata": {},
     "output_type": "execute_result"
    }
   ],
   "source": [
    "df_horse_features = pd.get_dummies(df_horse_features)\n",
    "df_horse_features.head()"
   ]
  },
  {
   "cell_type": "code",
   "execution_count": 98,
   "metadata": {},
   "outputs": [
    {
     "data": {
      "text/plain": [
       "array([[ 0.22672989,  0.51787466,  0.61622301,  1.40399019,  0.97554552,\n",
       "        -0.56092293,  0.65981735],\n",
       "       [ 0.68721541,  1.29364724,  0.05161225,  0.53954065,  1.12964125,\n",
       "        -0.56092293,  0.65981735],\n",
       "       [ 1.14770094,  1.75911079,  1.28669829, -0.61305873,  0.93702159,\n",
       "        -0.82829747,  0.65981735],\n",
       "       [ 1.60818647,  0.98333821,  1.03968108, -0.75713365,  0.70587799,\n",
       "        -0.82829747,  0.65981735],\n",
       "       [ 0.68721541,  1.44880176,  0.93381656, -0.93722731,  0.85997372,\n",
       "        -0.82829747,  0.65981735]])"
      ]
     },
     "execution_count": 98,
     "metadata": {},
     "output_type": "execute_result"
    }
   ],
   "source": [
    "df_horse_features_scaled = StandardScaler().fit_transform(df_horse_features[[\"age\", \"weight\", \"RPR\", \"TR\", \"OR\", \"runners\", \"metric\"]])\n",
    "df_horse_features_scaled[:5]"
   ]
  },
  {
   "cell_type": "code",
   "execution_count": 106,
   "metadata": {},
   "outputs": [],
   "source": [
    "df_horse_features_scaled = pd.DataFrame(df_horse_features_scaled, columns=[\"age\", \"weight\", \"RPR\", \"TR\", \"OR\", \"runners\", \"metric\"])\n",
    "\n",
    "df_horse_features[\"age\"] = df_horse_features_scaled[\"age\"]\n",
    "df_horse_features[\"weight\"] = df_horse_features_scaled[\"weight\"]\n",
    "df_horse_features[\"RPR\"] = df_horse_features_scaled[\"RPR\"]\n",
    "df_horse_features[\"TR\"] = df_horse_features_scaled[\"TR\"]\n",
    "df_horse_features[\"OR\"] = df_horse_features_scaled[\"OR\"]\n",
    "df_horse_features[\"runners\"] = df_horse_features_scaled[\"runners\"]\n",
    "df_horse_features[\"metric\"] = df_horse_features_scaled[\"metric\"]\n",
    "\n",
    "df_horse_features.head()\n",
    "df_horse_features = df_horse_features.dropna"
   ]
  },
  {
   "cell_type": "code",
   "execution_count": 112,
   "metadata": {},
   "outputs": [],
   "source": [
    "X_train, X_test, y_train, y_test = train_test_split(df_horse_features, df_horse_target, random_state=1)"
   ]
  },
  {
   "cell_type": "code",
   "execution_count": 114,
   "metadata": {},
   "outputs": [
    {
     "name": "stderr",
     "output_type": "stream",
     "text": [
      "c:\\Users\\vidul\\anaconda3\\envs\\PythonData\\lib\\site-packages\\sklearn\\linear_model\\_logistic.py:818: ConvergenceWarning: lbfgs failed to converge (status=1):\n",
      "STOP: TOTAL NO. of ITERATIONS REACHED LIMIT.\n",
      "\n",
      "Increase the number of iterations (max_iter) or scale the data as shown in:\n",
      "    https://scikit-learn.org/stable/modules/preprocessing.html\n",
      "Please also refer to the documentation for alternative solver options:\n",
      "    https://scikit-learn.org/stable/modules/linear_model.html#logistic-regression\n",
      "  extra_warning_msg=_LOGISTIC_SOLVER_CONVERGENCE_MSG,\n"
     ]
    },
    {
     "data": {
      "text/plain": [
       "LogisticRegression()"
      ]
     },
     "execution_count": 114,
     "metadata": {},
     "output_type": "execute_result"
    }
   ],
   "source": [
    "model = LogisticRegression()\n",
    "model.fit(X_train, y_train)"
   ]
  },
  {
   "cell_type": "code",
   "execution_count": 115,
   "metadata": {},
   "outputs": [],
   "source": [
    "y_pred = model.predict(X_test)"
   ]
  },
  {
   "cell_type": "code",
   "execution_count": 116,
   "metadata": {},
   "outputs": [
    {
     "name": "stdout",
     "output_type": "stream",
     "text": [
      "Accuracy: 0.9086700336700336\n"
     ]
    }
   ],
   "source": [
    "accuracy = accuracy_score(y_test, y_pred)\n",
    "print(\"Accuracy:\", accuracy)"
   ]
  },
  {
   "cell_type": "code",
   "execution_count": null,
   "metadata": {},
   "outputs": [],
   "source": [
    "model = KMeans(n_clusters=2, random_state=1)"
   ]
  }
 ],
 "metadata": {
  "kernelspec": {
   "display_name": "PythonData",
   "language": "python",
   "name": "python3"
  },
  "language_info": {
   "codemirror_mode": {
    "name": "ipython",
    "version": 3
   },
   "file_extension": ".py",
   "mimetype": "text/x-python",
   "name": "python",
   "nbconvert_exporter": "python",
   "pygments_lexer": "ipython3",
   "version": "3.7.7"
  },
  "orig_nbformat": 4
 },
 "nbformat": 4,
 "nbformat_minor": 2
}
