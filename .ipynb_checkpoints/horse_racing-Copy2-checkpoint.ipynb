{
 "cells": [
  {
   "cell_type": "markdown",
   "metadata": {
    "colab_type": "text",
    "id": "Vv16HppWUeva"
   },
   "source": [
    "## Project 4\n"
   ]
  },
  {
   "cell_type": "code",
   "execution_count": 1,
   "metadata": {},
   "outputs": [
    {
     "name": "stderr",
     "output_type": "stream",
     "text": [
      "2023-07-16 12:42:32.286943: I tensorflow/core/platform/cpu_feature_guard.cc:182] This TensorFlow binary is optimized to use available CPU instructions in performance-critical operations.\n",
      "To enable the following instructions: AVX2 FMA, in other operations, rebuild TensorFlow with the appropriate compiler flags.\n"
     ]
    }
   ],
   "source": [
    "import pandas as pd\n",
    "import numpy as np\n",
    "import keras\n",
    "\n",
    "import sklearn.model_selection as model_selection\n",
    "import matplotlib.pyplot as plt\n",
    "from matplotlib import pyplot\n",
    "from sklearn.model_selection import train_test_split, TimeSeriesSplit\n",
    "from sklearn.metrics import f1_score, accuracy_score, recall_score, precision_score, confusion_matrix\n",
    "from sklearn.tree import DecisionTreeClassifier\n",
    "from sklearn.preprocessing import LabelEncoder"
   ]
  },
  {
   "cell_type": "code",
   "execution_count": 2,
   "metadata": {
    "colab": {},
    "colab_type": "code",
    "id": "nPRmMt8FVirP"
   },
   "outputs": [
    {
     "name": "stderr",
     "output_type": "stream",
     "text": [
      "/var/folders/kl/m0y8txln53774pt40hp8gplr0000gn/T/ipykernel_1557/1906195333.py:1: DtypeWarning: Columns (11,19,46) have mixed types. Specify dtype option on import or set low_memory=False.\n",
      "  race_df = pd.read_csv('Merged_Data/merged_data.csv')\n"
     ]
    },
    {
     "data": {
      "text/html": [
       "<div>\n",
       "<style scoped>\n",
       "    .dataframe tbody tr th:only-of-type {\n",
       "        vertical-align: middle;\n",
       "    }\n",
       "\n",
       "    .dataframe tbody tr th {\n",
       "        vertical-align: top;\n",
       "    }\n",
       "\n",
       "    .dataframe thead th {\n",
       "        text-align: right;\n",
       "    }\n",
       "</style>\n",
       "<table border=\"1\" class=\"dataframe\">\n",
       "  <thead>\n",
       "    <tr style=\"text-align: right;\">\n",
       "      <th></th>\n",
       "      <th>Unnamed: 0</th>\n",
       "      <th>rid</th>\n",
       "      <th>course</th>\n",
       "      <th>time</th>\n",
       "      <th>date</th>\n",
       "      <th>title</th>\n",
       "      <th>rclass</th>\n",
       "      <th>band</th>\n",
       "      <th>ages</th>\n",
       "      <th>distance</th>\n",
       "      <th>...</th>\n",
       "      <th>OR</th>\n",
       "      <th>father</th>\n",
       "      <th>mother</th>\n",
       "      <th>gfather</th>\n",
       "      <th>runners</th>\n",
       "      <th>margin</th>\n",
       "      <th>weight</th>\n",
       "      <th>res_win</th>\n",
       "      <th>res_place</th>\n",
       "      <th>price</th>\n",
       "    </tr>\n",
       "  </thead>\n",
       "  <tbody>\n",
       "    <tr>\n",
       "      <th>0</th>\n",
       "      <td>0</td>\n",
       "      <td>10312</td>\n",
       "      <td>Fakenham</td>\n",
       "      <td>02:55</td>\n",
       "      <td>20/01/01</td>\n",
       "      <td>Happy New Year Maiden Hurdle (Div I)</td>\n",
       "      <td>Class 4</td>\n",
       "      <td>NaN</td>\n",
       "      <td>4yo+</td>\n",
       "      <td>2m</td>\n",
       "      <td>...</td>\n",
       "      <td>NaN</td>\n",
       "      <td>Pour Moi</td>\n",
       "      <td>Laughing Water</td>\n",
       "      <td>Duke Of Marmalade</td>\n",
       "      <td>9.0</td>\n",
       "      <td>1.199095</td>\n",
       "      <td>66.0</td>\n",
       "      <td>1.0</td>\n",
       "      <td>1.0</td>\n",
       "      <td>NaN</td>\n",
       "    </tr>\n",
       "    <tr>\n",
       "      <th>1</th>\n",
       "      <td>1</td>\n",
       "      <td>10312</td>\n",
       "      <td>Fakenham</td>\n",
       "      <td>02:55</td>\n",
       "      <td>20/01/01</td>\n",
       "      <td>Happy New Year Maiden Hurdle (Div I)</td>\n",
       "      <td>Class 4</td>\n",
       "      <td>NaN</td>\n",
       "      <td>4yo+</td>\n",
       "      <td>2m</td>\n",
       "      <td>...</td>\n",
       "      <td>110.0</td>\n",
       "      <td>Getaway</td>\n",
       "      <td>Shouette</td>\n",
       "      <td>Sadler's Wells</td>\n",
       "      <td>9.0</td>\n",
       "      <td>1.199095</td>\n",
       "      <td>65.0</td>\n",
       "      <td>0.0</td>\n",
       "      <td>1.0</td>\n",
       "      <td>NaN</td>\n",
       "    </tr>\n",
       "    <tr>\n",
       "      <th>2</th>\n",
       "      <td>2</td>\n",
       "      <td>10312</td>\n",
       "      <td>Fakenham</td>\n",
       "      <td>02:55</td>\n",
       "      <td>20/01/01</td>\n",
       "      <td>Happy New Year Maiden Hurdle (Div I)</td>\n",
       "      <td>Class 4</td>\n",
       "      <td>NaN</td>\n",
       "      <td>4yo+</td>\n",
       "      <td>2m</td>\n",
       "      <td>...</td>\n",
       "      <td>NaN</td>\n",
       "      <td>Vale Of York</td>\n",
       "      <td>Finnmark</td>\n",
       "      <td>Halling</td>\n",
       "      <td>9.0</td>\n",
       "      <td>1.199095</td>\n",
       "      <td>72.0</td>\n",
       "      <td>0.0</td>\n",
       "      <td>1.0</td>\n",
       "      <td>NaN</td>\n",
       "    </tr>\n",
       "    <tr>\n",
       "      <th>3</th>\n",
       "      <td>3</td>\n",
       "      <td>10312</td>\n",
       "      <td>Fakenham</td>\n",
       "      <td>02:55</td>\n",
       "      <td>20/01/01</td>\n",
       "      <td>Happy New Year Maiden Hurdle (Div I)</td>\n",
       "      <td>Class 4</td>\n",
       "      <td>NaN</td>\n",
       "      <td>4yo+</td>\n",
       "      <td>2m</td>\n",
       "      <td>...</td>\n",
       "      <td>NaN</td>\n",
       "      <td>Sixties Icon</td>\n",
       "      <td>Highland Jig</td>\n",
       "      <td>Norse Dancer</td>\n",
       "      <td>9.0</td>\n",
       "      <td>1.199095</td>\n",
       "      <td>72.0</td>\n",
       "      <td>0.0</td>\n",
       "      <td>0.0</td>\n",
       "      <td>NaN</td>\n",
       "    </tr>\n",
       "    <tr>\n",
       "      <th>4</th>\n",
       "      <td>4</td>\n",
       "      <td>10312</td>\n",
       "      <td>Fakenham</td>\n",
       "      <td>02:55</td>\n",
       "      <td>20/01/01</td>\n",
       "      <td>Happy New Year Maiden Hurdle (Div I)</td>\n",
       "      <td>Class 4</td>\n",
       "      <td>NaN</td>\n",
       "      <td>4yo+</td>\n",
       "      <td>2m</td>\n",
       "      <td>...</td>\n",
       "      <td>NaN</td>\n",
       "      <td>Iffraaj</td>\n",
       "      <td>Hallowed Park</td>\n",
       "      <td>Barathea</td>\n",
       "      <td>9.0</td>\n",
       "      <td>1.199095</td>\n",
       "      <td>72.0</td>\n",
       "      <td>0.0</td>\n",
       "      <td>0.0</td>\n",
       "      <td>NaN</td>\n",
       "    </tr>\n",
       "  </tbody>\n",
       "</table>\n",
       "<p>5 rows × 47 columns</p>\n",
       "</div>"
      ],
      "text/plain": [
       "   Unnamed: 0    rid    course   time      date   \n",
       "0           0  10312  Fakenham  02:55  20/01/01  \\\n",
       "1           1  10312  Fakenham  02:55  20/01/01   \n",
       "2           2  10312  Fakenham  02:55  20/01/01   \n",
       "3           3  10312  Fakenham  02:55  20/01/01   \n",
       "4           4  10312  Fakenham  02:55  20/01/01   \n",
       "\n",
       "                                  title   rclass band  ages distance  ...   \n",
       "0  Happy New Year Maiden Hurdle (Div I)  Class 4  NaN  4yo+       2m  ...  \\\n",
       "1  Happy New Year Maiden Hurdle (Div I)  Class 4  NaN  4yo+       2m  ...   \n",
       "2  Happy New Year Maiden Hurdle (Div I)  Class 4  NaN  4yo+       2m  ...   \n",
       "3  Happy New Year Maiden Hurdle (Div I)  Class 4  NaN  4yo+       2m  ...   \n",
       "4  Happy New Year Maiden Hurdle (Div I)  Class 4  NaN  4yo+       2m  ...   \n",
       "\n",
       "      OR        father          mother            gfather  runners    margin   \n",
       "0    NaN      Pour Moi  Laughing Water  Duke Of Marmalade      9.0  1.199095  \\\n",
       "1  110.0       Getaway        Shouette     Sadler's Wells      9.0  1.199095   \n",
       "2    NaN  Vale Of York        Finnmark            Halling      9.0  1.199095   \n",
       "3    NaN  Sixties Icon    Highland Jig       Norse Dancer      9.0  1.199095   \n",
       "4    NaN       Iffraaj   Hallowed Park           Barathea      9.0  1.199095   \n",
       "\n",
       "  weight  res_win  res_place price  \n",
       "0   66.0      1.0        1.0   NaN  \n",
       "1   65.0      0.0        1.0   NaN  \n",
       "2   72.0      0.0        1.0   NaN  \n",
       "3   72.0      0.0        0.0   NaN  \n",
       "4   72.0      0.0        0.0   NaN  \n",
       "\n",
       "[5 rows x 47 columns]"
      ]
     },
     "execution_count": 2,
     "metadata": {},
     "output_type": "execute_result"
    }
   ],
   "source": [
    "race_df = pd.read_csv('Merged_Data/merged_data.csv')\n",
    "race_df.head()"
   ]
  },
  {
   "cell_type": "code",
   "execution_count": 5,
   "metadata": {
    "colab": {
     "base_uri": "https://localhost:8080/",
     "height": 156
    },
    "colab_type": "code",
    "id": "t3cCpP6GAyf5",
    "outputId": "f4ea8f58-fc1a-4a50-bdc9-987cc6818029",
    "scrolled": true
   },
   "outputs": [
    {
     "data": {
      "text/html": [
       "<div>\n",
       "<style scoped>\n",
       "    .dataframe tbody tr th:only-of-type {\n",
       "        vertical-align: middle;\n",
       "    }\n",
       "\n",
       "    .dataframe tbody tr th {\n",
       "        vertical-align: top;\n",
       "    }\n",
       "\n",
       "    .dataframe thead th {\n",
       "        text-align: right;\n",
       "    }\n",
       "</style>\n",
       "<table border=\"1\" class=\"dataframe\">\n",
       "  <thead>\n",
       "    <tr style=\"text-align: right;\">\n",
       "      <th></th>\n",
       "      <th>position</th>\n",
       "      <th>res_place</th>\n",
       "      <th>father</th>\n",
       "    </tr>\n",
       "  </thead>\n",
       "  <tbody>\n",
       "    <tr>\n",
       "      <th>0</th>\n",
       "      <td>1.0</td>\n",
       "      <td>1.0</td>\n",
       "      <td>Pour Moi</td>\n",
       "    </tr>\n",
       "    <tr>\n",
       "      <th>1</th>\n",
       "      <td>2.0</td>\n",
       "      <td>1.0</td>\n",
       "      <td>Getaway</td>\n",
       "    </tr>\n",
       "    <tr>\n",
       "      <th>2</th>\n",
       "      <td>3.0</td>\n",
       "      <td>1.0</td>\n",
       "      <td>Vale Of York</td>\n",
       "    </tr>\n",
       "    <tr>\n",
       "      <th>3</th>\n",
       "      <td>4.0</td>\n",
       "      <td>0.0</td>\n",
       "      <td>Sixties Icon</td>\n",
       "    </tr>\n",
       "    <tr>\n",
       "      <th>4</th>\n",
       "      <td>5.0</td>\n",
       "      <td>0.0</td>\n",
       "      <td>Iffraaj</td>\n",
       "    </tr>\n",
       "    <tr>\n",
       "      <th>...</th>\n",
       "      <td>...</td>\n",
       "      <td>...</td>\n",
       "      <td>...</td>\n",
       "    </tr>\n",
       "    <tr>\n",
       "      <th>149584</th>\n",
       "      <td>7.0</td>\n",
       "      <td>0.0</td>\n",
       "      <td>Alamosa</td>\n",
       "    </tr>\n",
       "    <tr>\n",
       "      <th>149585</th>\n",
       "      <td>8.0</td>\n",
       "      <td>0.0</td>\n",
       "      <td>Proisir</td>\n",
       "    </tr>\n",
       "    <tr>\n",
       "      <th>149586</th>\n",
       "      <td>9.0</td>\n",
       "      <td>0.0</td>\n",
       "      <td>Tavistock</td>\n",
       "    </tr>\n",
       "    <tr>\n",
       "      <th>149587</th>\n",
       "      <td>10.0</td>\n",
       "      <td>0.0</td>\n",
       "      <td>Per Incanto</td>\n",
       "    </tr>\n",
       "    <tr>\n",
       "      <th>149588</th>\n",
       "      <td>11.0</td>\n",
       "      <td>0.0</td>\n",
       "      <td>Alamosa</td>\n",
       "    </tr>\n",
       "  </tbody>\n",
       "</table>\n",
       "<p>149589 rows × 3 columns</p>\n",
       "</div>"
      ],
      "text/plain": [
       "        position  res_place        father\n",
       "0            1.0        1.0      Pour Moi\n",
       "1            2.0        1.0       Getaway\n",
       "2            3.0        1.0  Vale Of York\n",
       "3            4.0        0.0  Sixties Icon\n",
       "4            5.0        0.0       Iffraaj\n",
       "...          ...        ...           ...\n",
       "149584       7.0        0.0       Alamosa\n",
       "149585       8.0        0.0       Proisir\n",
       "149586       9.0        0.0     Tavistock\n",
       "149587      10.0        0.0   Per Incanto\n",
       "149588      11.0        0.0       Alamosa\n",
       "\n",
       "[149589 rows x 3 columns]"
      ]
     },
     "execution_count": 5,
     "metadata": {},
     "output_type": "execute_result"
    }
   ],
   "source": [
    "# Drop unwanted columns\n",
    "selected_columns = ['position', 'res_place', 'father']\n",
    "race_df_selected = race_df[selected_columns]\n",
    "race_df_selected"
   ]
  },
  {
   "cell_type": "code",
   "execution_count": 6,
   "metadata": {},
   "outputs": [
    {
     "data": {
      "text/plain": [
       "RangeIndex(start=0, stop=149589, step=1)"
      ]
     },
     "execution_count": 6,
     "metadata": {},
     "output_type": "execute_result"
    }
   ],
   "source": [
    "race_df.index"
   ]
  },
  {
   "cell_type": "code",
   "execution_count": 11,
   "metadata": {},
   "outputs": [
    {
     "data": {
      "text/plain": [
       "position     76\n",
       "res_place    76\n",
       "father       76\n",
       "dtype: int64"
      ]
     },
     "execution_count": 11,
     "metadata": {},
     "output_type": "execute_result"
    }
   ],
   "source": [
    "race_df_selected.isnull().sum() #checking missing valuesposition"
   ]
  },
  {
   "cell_type": "code",
   "execution_count": 18,
   "metadata": {
    "colab": {
     "base_uri": "https://localhost:8080/",
     "height": 153
    },
    "colab_type": "code",
    "id": "QvwWeOR2Uev-",
    "outputId": "f9b9c728-da0a-4410-f308-11dd6f195555"
   },
   "outputs": [
    {
     "name": "stderr",
     "output_type": "stream",
     "text": [
      "/var/folders/kl/m0y8txln53774pt40hp8gplr0000gn/T/ipykernel_1557/3611870607.py:1: SettingWithCopyWarning: \n",
      "A value is trying to be set on a copy of a slice from a DataFrame\n",
      "\n",
      "See the caveats in the documentation: https://pandas.pydata.org/pandas-docs/stable/user_guide/indexing.html#returning-a-view-versus-a-copy\n",
      "  race_df_selected.dropna(subset=['position', 'res_place', 'father'], inplace=True)\n"
     ]
    }
   ],
   "source": [
    "race_df_selected.dropna(subset=['position', 'res_place', 'father'], inplace=True)\n"
   ]
  },
  {
   "cell_type": "code",
   "execution_count": 19,
   "metadata": {},
   "outputs": [
    {
     "data": {
      "text/plain": [
       "position     0\n",
       "res_place    0\n",
       "father       0\n",
       "dtype: int64"
      ]
     },
     "execution_count": 19,
     "metadata": {},
     "output_type": "execute_result"
    }
   ],
   "source": [
    "race_df_selected.isnull().sum()"
   ]
  },
  {
   "cell_type": "code",
   "execution_count": 21,
   "metadata": {},
   "outputs": [
    {
     "name": "stdout",
     "output_type": "stream",
     "text": [
      "Number of rows: 149513\n"
     ]
    }
   ],
   "source": [
    "num_rows = race_df.shape[0]\n",
    "print(\"Number of rows:\", num_rows)\n"
   ]
  },
  {
   "cell_type": "raw",
   "metadata": {
    "colab": {
     "base_uri": "https://localhost:8080/",
     "height": 34
    },
    "colab_type": "code",
    "id": "HIEN0qoVUevs",
    "outputId": "fc094005-40e2-44bd-c823-da336b99948f"
   },
   "source": [
    "\n",
    "\n",
    "### Build a machine learning model using the father names of the horse as features and the \"position\" column as the target variable"
   ]
  },
  {
   "cell_type": "code",
   "execution_count": 22,
   "metadata": {},
   "outputs": [
    {
     "data": {
      "text/plain": [
       "position\n",
       "1.0     14736\n",
       "2.0     14731\n",
       "3.0     14671\n",
       "4.0     14519\n",
       "5.0     14104\n",
       "6.0     13277\n",
       "7.0     12025\n",
       "8.0     10539\n",
       "9.0      8969\n",
       "10.0     7389\n",
       "40.0     6508\n",
       "11.0     5867\n",
       "12.0     4463\n",
       "13.0     2948\n",
       "14.0     2112\n",
       "15.0     1095\n",
       "16.0      728\n",
       "17.0      362\n",
       "18.0      233\n",
       "19.0       80\n",
       "20.0       56\n",
       "21.0       34\n",
       "22.0       25\n",
       "23.0       14\n",
       "24.0        8\n",
       "25.0        6\n",
       "26.0        4\n",
       "27.0        3\n",
       "28.0        1\n",
       "29.0        1\n",
       "30.0        1\n",
       "31.0        1\n",
       "32.0        1\n",
       "33.0        1\n",
       "34.0        1\n",
       "Name: count, dtype: int64"
      ]
     },
     "execution_count": 22,
     "metadata": {},
     "output_type": "execute_result"
    }
   ],
   "source": [
    "race_df_selected['position'].isnull().sum()\n",
    "race_df_selected['position'].value_counts()"
   ]
  },
  {
   "cell_type": "code",
   "execution_count": 23,
   "metadata": {},
   "outputs": [
    {
     "data": {
      "text/plain": [
       "res_place\n",
       "0.0    108822\n",
       "1.0     40691\n",
       "Name: count, dtype: int64"
      ]
     },
     "execution_count": 23,
     "metadata": {},
     "output_type": "execute_result"
    }
   ],
   "source": [
    "race_df_selected['res_place'].isnull().sum()\n",
    "race_df_selected['res_place'].value_counts()"
   ]
  },
  {
   "cell_type": "code",
   "execution_count": null,
   "metadata": {},
   "outputs": [],
   "source": [
    "# here we are using classification model logistic regression to train the model. Variable: father Target res_place (whether they placed or not)"
   ]
  },
  {
   "cell_type": "code",
   "execution_count": 65,
   "metadata": {},
   "outputs": [
    {
     "name": "stderr",
     "output_type": "stream",
     "text": [
      "/Users/sunderiyabayarsaikhan/opt/anaconda3/lib/python3.9/site-packages/sklearn/linear_model/_logistic.py:814: ConvergenceWarning: lbfgs failed to converge (status=1):\n",
      "STOP: TOTAL NO. of ITERATIONS REACHED LIMIT.\n",
      "\n",
      "Increase the number of iterations (max_iter) or scale the data as shown in:\n",
      "    https://scikit-learn.org/stable/modules/preprocessing.html\n",
      "Please also refer to the documentation for alternative solver options:\n",
      "    https://scikit-learn.org/stable/modules/linear_model.html#logistic-regression\n",
      "  n_iter_i = _check_optimize_result(\n"
     ]
    },
    {
     "name": "stdout",
     "output_type": "stream",
     "text": [
      "Accuracy: 0.9638497809584322\n"
     ]
    }
   ],
   "source": [
    "from sklearn.model_selection import train_test_split\n",
    "from sklearn.linear_model import LogisticRegression\n",
    "from sklearn.metrics import accuracy_score\n",
    "\n",
    "# Perform one-hot encoding on the 'father' column\n",
    "father_encoded = pd.get_dummies(race_df_selected['father'], prefix='father')\n",
    "\n",
    "# Concatenate the encoded columns with the original dataframe\n",
    "race_df_encoded = pd.concat([race_df_selected.drop('father', axis=1), father_encoded], axis=1)\n",
    "\n",
    "# Select the features and target variable\n",
    "X = race_df_encoded.drop('res_place', axis=1)\n",
    "y = race_df_encoded['res_place']\n",
    "\n",
    "# Split the data into training and testing sets\n",
    "X_train, X_test, y_train, y_test = train_test_split(X, y, test_size=0.2, random_state=42)\n",
    "\n",
    "# Create a logistic regression model\n",
    "model = LogisticRegression()\n",
    "\n",
    "# Train the model\n",
    "model.fit(X_train, y_train)\n",
    "\n",
    "# Make predictions on the test set\n",
    "y_pred = model.predict(X_test)\n",
    "\n",
    "# Evaluate the model using accuracy score\n",
    "accuracy = accuracy_score(y_test, y_pred)\n",
    "print(\"Accuracy:\", accuracy)\n",
    "\n"
   ]
  },
  {
   "cell_type": "code",
   "execution_count": 60,
   "metadata": {},
   "outputs": [
    {
     "name": "stdout",
     "output_type": "stream",
     "text": [
      "Confusion Matrix:\n",
      "[[20785   871]\n",
      " [  210  8037]]\n",
      "\n",
      "Classification Report:\n",
      "              precision    recall  f1-score   support\n",
      "\n",
      "         0.0       0.99      0.96      0.97     21656\n",
      "         1.0       0.90      0.97      0.94      8247\n",
      "\n",
      "    accuracy                           0.96     29903\n",
      "   macro avg       0.95      0.97      0.96     29903\n",
      "weighted avg       0.97      0.96      0.96     29903\n",
      "\n"
     ]
    },
    {
     "data": {
      "image/png": "[encoded data removed]",
      "text/plain": [
       "<Figure size 800x600 with 2 Axes>"
      ]
     },
     "metadata": {},
     "output_type": "display_data"
    }
   ],
   "source": [
    "from sklearn.metrics import confusion_matrix, classification_report\n",
    "import seaborn as sns\n",
    "\n",
    "\n",
    "# Create a confusion matrix\n",
    "cm = confusion_matrix(y_test, y_pred)\n",
    "\n",
    "# Create a classification report\n",
    "report = classification_report(y_test, y_pred)\n",
    "\n",
    "# Print the confusion matrix and classification report\n",
    "print(\"Confusion Matrix:\")\n",
    "print(cm)\n",
    "print(\"\\nClassification Report:\")\n",
    "print(report)\n",
    "\n",
    "# Plot the confusion matrix\n",
    "plt.figure(figsize=(8, 6))\n",
    "sns.heatmap(cm, annot=True, cmap='Blues', fmt='g')\n",
    "plt.title('Confusion Matrix')\n",
    "plt.xlabel('Predicted')\n",
    "plt.ylabel('Actual')\n",
    "plt.show()\n",
    "\n"
   ]
  },
  {
   "cell_type": "code",
   "execution_count": 61,
   "metadata": {},
   "outputs": [
    {
     "data": {
      "image/png": "[encoded data removed]",
      "text/plain": [
       "<Figure size 640x480 with 1 Axes>"
      ]
     },
     "metadata": {},
     "output_type": "display_data"
    }
   ],
   "source": [
    "# Calculate the average win rate\n",
    "average_win_rate = y_test.mean()\n",
    "\n",
    "# Calculate the precision of the model predictions\n",
    "precision = accuracy\n",
    "\n",
    "# Plotting the results\n",
    "labels = ['Average Win Rate', 'Model Predictions']\n",
    "values = [average_win_rate, precision]\n",
    "\n",
    "plt.bar(labels, values)\n",
    "plt.xlabel('Results')\n",
    "plt.ylabel('Accuracy / Precision')\n",
    "plt.title('Comparison: Average Win Rate vs. Model Predictions')\n",
    "plt.show()\n"
   ]
  },
  {
   "cell_type": "code",
   "execution_count": null,
   "metadata": {},
   "outputs": [],
   "source": []
  },
  {
   "cell_type": "markdown",
   "metadata": {
    "colab_type": "text",
    "id": "vq-kfT6yUewG"
   },
   "source": []
  },
  {
   "cell_type": "code",
   "execution_count": null,
   "metadata": {
    "colab": {
     "base_uri": "https://localhost:8080/",
     "height": 153
    },
    "colab_type": "code",
    "id": "b4wkcAo7Uewz",
    "outputId": "94eab3b2-e29f-4abb-a327-4d8838c3a3a9"
   },
   "outputs": [],
   "source": []
  },
  {
   "cell_type": "code",
   "execution_count": null,
   "metadata": {
    "colab": {
     "base_uri": "https://localhost:8080/",
     "height": 153
    },
    "colab_type": "code",
    "id": "HCKNp0aEUew3",
    "outputId": "a0925899-7b0a-4eb0-c805-214a62345509"
   },
   "outputs": [],
   "source": []
  },
  {
   "cell_type": "code",
   "execution_count": null,
   "metadata": {
    "colab": {
     "base_uri": "https://localhost:8080/",
     "height": 153
    },
    "colab_type": "code",
    "id": "uppVIRZ3Uew8",
    "outputId": "69b30798-671a-4466-ba21-804b7282b2bf"
   },
   "outputs": [],
   "source": []
  },
  {
   "cell_type": "code",
   "execution_count": null,
   "metadata": {
    "colab": {
     "base_uri": "https://localhost:8080/",
     "height": 34
    },
    "colab_type": "code",
    "id": "_p_Fft--Uew_",
    "outputId": "f1c2a79c-2847-4967-a974-7db4ff2afbeb"
   },
   "outputs": [],
   "source": []
  },
  {
   "cell_type": "markdown",
   "metadata": {
    "colab_type": "text",
    "id": "dO0pdWQSUexD"
   },
   "source": []
  },
  {
   "cell_type": "code",
   "execution_count": null,
   "metadata": {
    "colab": {},
    "colab_type": "code",
    "id": "Z-0pF6RVUexE"
   },
   "outputs": [],
   "source": []
  },
  {
   "cell_type": "code",
   "execution_count": null,
   "metadata": {
    "colab": {
     "base_uri": "https://localhost:8080/",
     "height": 142
    },
    "colab_type": "code",
    "id": "9XMUMESlUexI",
    "outputId": "cb503614-560a-47d3-fee7-4c9639f9301a"
   },
   "outputs": [],
   "source": []
  },
  {
   "cell_type": "code",
   "execution_count": null,
   "metadata": {
    "colab": {},
    "colab_type": "code",
    "id": "WOj-z65ZXNzX"
   },
   "outputs": [],
   "source": []
  },
  {
   "cell_type": "code",
   "execution_count": null,
   "metadata": {},
   "outputs": [],
   "source": []
  }
 ],
 "metadata": {
  "anaconda-cloud": {},
  "colab": {
   "collapsed_sections": [],
   "name": "spark_dataframe_basics.ipynb",
   "provenance": []
  },
  "kernel_info": {
   "name": "python3"
  },
  "kernelspec": {
   "display_name": "Python 3 (ipykernel)",
   "language": "python",
   "name": "python3"
  },
  "language_info": {
   "codemirror_mode": {
    "name": "ipython",
    "version": 3
   },
   "file_extension": ".py",
   "mimetype": "text/x-python",
   "name": "python",
   "nbconvert_exporter": "python",
   "pygments_lexer": "ipython3",
   "version": "3.9.13"
  },
  "nbpresent": {
   "slides": {},
   "themes": {
    "default": "0535adbc-b74f-46cc-9cd6-4eabe2477c8e",
    "theme": {
     "0535adbc-b74f-46cc-9cd6-4eabe2477c8e": {
      "backgrounds": {
       "backgroundColor": {
        "background-color": "backgroundColor",
        "id": "backgroundColor"
       }
      },
      "id": "0535adbc-b74f-46cc-9cd6-4eabe2477c8e",
      "palette": {
       "backgroundColor": {
        "id": "backgroundColor",
        "rgb": [
         43,
         43,
         43
        ]
       },
       "headingColor": {
        "id": "headingColor",
        "rgb": [
         238,
         238,
         238
        ]
       },
       "linkColor": {
        "id": "linkColor",
        "rgb": [
         19,
         218,
         236
        ]
       },
       "mainColor": {
        "id": "mainColor",
        "rgb": [
         238,
         238,
         238
        ]
       }
      },
      "rules": {
       "a": {
        "color": "linkColor"
       },
       "h1": {
        "color": "headingColor",
        "font-family": "Oswald",
        "font-size": 7
       },
       "h2": {
        "color": "headingColor",
        "font-family": "Oswald",
        "font-size": 5
       },
       "h3": {
        "color": "headingColor",
        "font-family": "Oswald",
        "font-size": 3.75
       },
       "h4": {
        "color": "headingColor",
        "font-family": "Oswald",
        "font-size": 3
       },
       "h5": {
        "color": "headingColor",
        "font-family": "Oswald"
       },
       "h6": {
        "color": "headingColor",
        "font-family": "Oswald"
       },
       "h7": {
        "color": "headingColor",
        "font-family": "Oswald"
       },
       "li": {
        "color": "mainColor",
        "font-family": "Lato",
        "font-size": 5
       },
       "p": {
        "color": "mainColor",
        "font-family": "Lato",
        "font-size": 5
       }
      },
      "text-base": {
       "color": "mainColor",
       "font-family": "Lato",
       "font-size": 5
      }
     },
     "cc59980f-cb69-400a-b63a-1fb85ca73c8a": {
      "backgrounds": {
       "dc7afa04-bf90-40b1-82a5-726e3cff5267": {
        "background-color": "31af15d2-7e15-44c5-ab5e-e04b16a89eff",
        "id": "dc7afa04-bf90-40b1-82a5-726e3cff5267"
       }
      },
      "id": "cc59980f-cb69-400a-b63a-1fb85ca73c8a",
      "palette": {
       "19cc588f-0593-49c9-9f4b-e4d7cc113b1c": {
        "id": "19cc588f-0593-49c9-9f4b-e4d7cc113b1c",
        "rgb": [
         252,
         252,
         252
        ]
       },
       "31af15d2-7e15-44c5-ab5e-e04b16a89eff": {
        "id": "31af15d2-7e15-44c5-ab5e-e04b16a89eff",
        "rgb": [
         68,
         68,
         68
        ]
       },
       "50f92c45-a630-455b-aec3-788680ec7410": {
        "id": "50f92c45-a630-455b-aec3-788680ec7410",
        "rgb": [
         197,
         226,
         245
        ]
       },
       "c5cc3653-2ee1-402a-aba2-7caae1da4f6c": {
        "id": "c5cc3653-2ee1-402a-aba2-7caae1da4f6c",
        "rgb": [
         43,
         126,
         184
        ]
       },
       "efa7f048-9acb-414c-8b04-a26811511a21": {
        "id": "efa7f048-9acb-414c-8b04-a26811511a21",
        "rgb": [
         25.118061674008803,
         73.60176211453744,
         107.4819383259912
        ]
       }
      },
      "rules": {
       "a": {
        "color": "19cc588f-0593-49c9-9f4b-e4d7cc113b1c"
       },
       "blockquote": {
        "color": "50f92c45-a630-455b-aec3-788680ec7410",
        "font-size": 3
       },
       "code": {
        "font-family": "Anonymous Pro"
       },
       "h1": {
        "color": "19cc588f-0593-49c9-9f4b-e4d7cc113b1c",
        "font-family": "Merriweather",
        "font-size": 8
       },
       "h2": {
        "color": "19cc588f-0593-49c9-9f4b-e4d7cc113b1c",
        "font-family": "Merriweather",
        "font-size": 6
       },
       "h3": {
        "color": "50f92c45-a630-455b-aec3-788680ec7410",
        "font-family": "Lato",
        "font-size": 5.5
       },
       "h4": {
        "color": "c5cc3653-2ee1-402a-aba2-7caae1da4f6c",
        "font-family": "Lato",
        "font-size": 5
       },
       "h5": {
        "font-family": "Lato"
       },
       "h6": {
        "font-family": "Lato"
       },
       "h7": {
        "font-family": "Lato"
       },
       "li": {
        "color": "50f92c45-a630-455b-aec3-788680ec7410",
        "font-size": 3.25
       },
       "pre": {
        "font-family": "Anonymous Pro",
        "font-size": 4
       }
      },
      "text-base": {
       "color": "19cc588f-0593-49c9-9f4b-e4d7cc113b1c",
       "font-family": "Lato",
       "font-size": 4
      }
     }
    }
   }
  },
  "nteract": {
   "version": "0.10.0"
  },
  "varInspector": {
   "cols": {
    "lenName": 16,
    "lenType": 16,
    "lenVar": 40
   },
   "kernels_config": {
    "python": {
     "delete_cmd_postfix": "",
     "delete_cmd_prefix": "del ",
     "library": "var_list.py",
     "varRefreshCmd": "print(var_dic_list())"
    },
    "r": {
     "delete_cmd_postfix": ") ",
     "delete_cmd_prefix": "rm(",
     "library": "var_list.r",
     "varRefreshCmd": "cat(var_dic_list()) "
    }
   },
   "types_to_exclude": [
    "module",
    "function",
    "builtin_function_or_method",
    "instance",
    "_Feature"
   ],
   "window_display": false
  }
 },
 "nbformat": 4,
 "nbformat_minor": 4
}
