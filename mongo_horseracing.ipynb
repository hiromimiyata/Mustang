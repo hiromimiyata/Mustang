{
 "cells": [
  {
   "cell_type": "code",
   "execution_count": 1,
   "id": "de8e84a2",
   "metadata": {},
   "outputs": [],
   "source": [
    "from pymongo import MongoClient"
   ]
  },
  {
   "cell_type": "code",
   "execution_count": 2,
   "id": "d7a58351",
   "metadata": {},
   "outputs": [],
   "source": [
    "# Create an instance of MongoClient\n",
    "mongo = MongoClient(port=27017)"
   ]
  },
  {
   "cell_type": "code",
   "execution_count": 3,
   "id": "b5a3850a",
   "metadata": {},
   "outputs": [
    {
     "name": "stdout",
     "output_type": "stream",
     "text": [
      "['admin', 'classDB', 'config', 'epa', 'fruitsDB', 'horse_racing', 'local', 'met', 'petsitly_marketing', 'travel_db', 'uk_food']\n"
     ]
    }
   ],
   "source": [
    "# confirm that our new database was created\n",
    "print(mongo.list_database_names())"
   ]
  },
  {
   "cell_type": "code",
   "execution_count": 4,
   "id": "45c09963",
   "metadata": {},
   "outputs": [],
   "source": [
    "# assign the database to a variable name\n",
    "db = mongo['horse_racing']"
   ]
  },
  {
   "cell_type": "code",
   "execution_count": 5,
   "id": "10b09f86",
   "metadata": {},
   "outputs": [
    {
     "name": "stdout",
     "output_type": "stream",
     "text": [
      "['horses', 'races']\n"
     ]
    }
   ],
   "source": [
    "# review the collections in our new database\n",
    "print(db.list_collection_names())"
   ]
  },
  {
   "cell_type": "code",
   "execution_count": 6,
   "id": "1bccbd6f",
   "metadata": {},
   "outputs": [
    {
     "name": "stdout",
     "output_type": "stream",
     "text": [
      "{'_id': ObjectId('64b5ff95f05d1290f2aeec99'), 'rid': 10312, 'horseName': 'Dandy Times', 'age': 7.0, 'saddle': 2.0, 'decimalPrice': 0.0196078431372549, 'isFav': 0, 'trainerName': 'Joanne Thomason-Murphy', 'jockeyName': 'Page Fuller', 'position': 7, 'positionL': 21, 'dist': 58.75, 'weightSt': 11, 'weightLb': 2, 'overWeight': '', 'outHandicap': '', 'headGear': '', 'RPR': 61.0, 'TR': 35.0, 'OR': '', 'father': 'Central Park', 'mother': 'Distinctly Flo Jo', 'gfather': 'Distinctly North', 'runners': 9, 'margin': 1.199095022624434, 'weight': 70, 'res_win': 0.0, 'res_place': 0.0, 'price': ''}\n"
     ]
    }
   ],
   "source": [
    "# review a document in the customer_list collection\n",
    "print(db.horses.find_one())"
   ]
  },
  {
   "cell_type": "code",
   "execution_count": 7,
   "id": "9a9c9e00",
   "metadata": {},
   "outputs": [
    {
     "name": "stdout",
     "output_type": "stream",
     "text": [
      "{'_id': ObjectId('64b5ffbc3d381e076bbf62c7'), 'rid': 23038, 'course': 'Tramore (IRE)', 'time': '02:55', 'date': '20/01/01', 'title': \"Jerry O'Donovan Memorial Rated Novice Chase\", 'rclass': '', 'band': '', 'ages': '5yo+', 'distance': '2m', 'condition': 'Soft', 'hurdles': '12 fences', 'prizes': '[7387.5, 2387.5, 1137.5, 512.5, 262.5, 137.5]', 'winningTime': 266.4, 'prize': 11826, 'metric': 3218, 'countryCode': 'IE', 'ncond': 5, 'class': 0, 'currency': ''}\n"
     ]
    }
   ],
   "source": [
    "# review a document in the customer_list collection\n",
    "print(db.races.find_one())"
   ]
  },
  {
   "cell_type": "code",
   "execution_count": null,
   "id": "dd84d23d",
   "metadata": {},
   "outputs": [],
   "source": []
  }
 ],
 "metadata": {
  "kernelspec": {
   "display_name": "PythonData",
   "language": "python",
   "name": "pythondata"
  },
  "language_info": {
   "codemirror_mode": {
    "name": "ipython",
    "version": 3
   },
   "file_extension": ".py",
   "mimetype": "text/x-python",
   "name": "python",
   "nbconvert_exporter": "python",
   "pygments_lexer": "ipython3",
   "version": "3.7.7"
  }
 },
 "nbformat": 4,
 "nbformat_minor": 5
}
